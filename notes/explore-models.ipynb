{
  "nbformat": 4,
  "nbformat_minor": 0,
  "metadata": {
    "colab": {
      "name": "Explore models.ipynb",
      "provenance": [],
      "authorship_tag": "ABX9TyPck8VJ4jsVltGDKi/0pqwL"
    },
    "kernelspec": {
      "name": "python3",
      "display_name": "Python 3"
    }
  },
  "cells": [
    {
      "cell_type": "markdown",
      "metadata": {
        "id": "3roT45bqR-vs"
      },
      "source": [
        "# Intro\n",
        "\n",
        "*   [Choosing the right estimator](https://scikit-learn.org/stable/tutorial/machine_learning_map/index.html) (scikit-learn)\n",
        "*   List item\n",
        "\n"
      ]
    },
    {
      "cell_type": "markdown",
      "metadata": {
        "id": "yvG0bIB_UzD7"
      },
      "source": [
        "# Data"
      ]
    },
    {
      "cell_type": "code",
      "metadata": {
        "id": "ZfXMO9YFU1uj"
      },
      "source": [
        "import numpy as np\n",
        "X = np.array([[-1, -1], [-2, -1], [-3, -2], [1, 1], [2, 1], [3, 2]])"
      ],
      "execution_count": 2,
      "outputs": []
    },
    {
      "cell_type": "markdown",
      "metadata": {
        "id": "rCz6klBHUX6r"
      },
      "source": [
        "# [Nearest Neighbours](https://scikit-learn.org/stable/modules/neighbors.html)\n",
        "\n",
        "Scikit-learn supports three nearest neighbours algorithms:\n",
        "- [Brute-force](https://scikit-learn.org/stable/modules/neighbors.html#brute-force).\n",
        "- [K-D Tree](https://scikit-learn.org/stable/modules/neighbors.html#k-d-tree): best for low dimensional data (D < 20).\n",
        "- [Ball Tree](https://scikit-learn.org/stable/modules/neighbors.html#ball-tree): better for high dimensional data.\n"
      ]
    },
    {
      "cell_type": "code",
      "metadata": {
        "id": "nUFGKB8uMcya",
        "colab": {
          "base_uri": "https://localhost:8080/"
        },
        "outputId": "5f9560ec-c7b9-4b6e-ed73-85842337c582"
      },
      "source": [
        "from sklearn.neighbors import NearestNeighbors\n",
        "\n",
        "nbrs = NearestNeighbors(n_neighbors=2, algorithm='auto').fit(X)\n",
        "distances, indices = nbrs.kneighbors(X)\n",
        "\n",
        "print('Distances:')\n",
        "distances\n",
        "\n",
        "print('Indices:')\n",
        "indices"
      ],
      "execution_count": 3,
      "outputs": [
        {
          "output_type": "stream",
          "text": [
            "Distances:\n",
            "Indices:\n"
          ],
          "name": "stdout"
        },
        {
          "output_type": "execute_result",
          "data": {
            "text/plain": [
              "array([[0, 1],\n",
              "       [1, 0],\n",
              "       [2, 1],\n",
              "       [3, 4],\n",
              "       [4, 3],\n",
              "       [5, 4]])"
            ]
          },
          "metadata": {
            "tags": []
          },
          "execution_count": 3
        }
      ]
    }
  ]
}