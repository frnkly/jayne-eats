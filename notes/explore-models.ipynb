{
  "nbformat": 4,
  "nbformat_minor": 0,
  "metadata": {
    "colab": {
      "name": "Explore models.ipynb",
      "provenance": [],
      "authorship_tag": "ABX9TyMzs7cPGd27ivpOvoT1CP3p"
    },
    "kernelspec": {
      "name": "python3",
      "display_name": "Python 3"
    }
  },
  "cells": [
    {
      "cell_type": "markdown",
      "metadata": {
        "id": "3roT45bqR-vs"
      },
      "source": [
        "# Intro\n",
        "\n",
        "- [Choosing the right estimator](https://scikit-learn.org/stable/tutorial/machine_learning_map/index.html) (scikit-learn)\n",
        "\n"
      ]
    },
    {
      "cell_type": "markdown",
      "metadata": {
        "id": "yvG0bIB_UzD7"
      },
      "source": [
        "# Data"
      ]
    },
    {
      "cell_type": "code",
      "metadata": {
        "colab": {
          "base_uri": "https://localhost:8080/"
        },
        "id": "Q0Uv0gItdoSG",
        "outputId": "32d2b2de-bc72-4290-868a-403e90846ea4"
      },
      "source": [
        "# Data samples, organized as: [classification, consistency, temperature, [ingredients]].\n",
        "foods = [\n",
        "  [1, 'crunchy', 'normal', ['anise', 'baking powder', 'egg', 'flour', 'oil', 'sugar']], # Biscotti\n",
        "  [1, 'crunchy', 'cool', ['almond', 'barley malt', 'milk', 'rice', 'salt', 'sugar', 'wheat bran', 'whole grain wheat']], # Vanilla almond Special K\n",
        "  [1, 'crunchy', 'normal', ['almond', 'apple', 'arugula', 'cranberry', 'oil', 'salt']], # Arugula salad\n",
        "  [1, 'chewy', 'cool', ['cookies', 'milk', 'skim milk', 'sugar', 'vanilla']], # Oreo ice cream\n",
        "  [1, 'mashed', 'warm', ['butter', 'cheese', 'coriander', 'black pepper', 'garlic', 'potato', 'salt']], # Mash potatoes\n",
        "  [0, 'mashed', 'warm', ['bay leaf', 'chickpea', 'chili', 'coriander', 'cumin', 'garlic', 'ginger', 'oil', 'onion', 'salt', 'tomato', 'tumeric']], # Chole chickpea curry\n",
        "  [1, 'mashed', 'warm', ['bean', 'black pepper', 'carrot', 'garlic', 'onion', 'potato', 'salt', 'tomato', 'tumeric']], # Chili\n",
        "\n",
        "  # Smoothies & milkshakes\n",
        "  [1, 'thick', 'cool', ['banana', 'mango', 'pineapple']],\n",
        "  [1, 'thick', 'cool', ['blueberry', 'kiwi', 'mango', 'pineapple']],\n",
        "  [0, 'thick', 'cool', ['blueberry', 'pineapple', 'strawberry']],\n",
        "  [0, 'thick', 'cool', ['blueberry', 'kiwi', 'strawberry']],\n",
        "  [1, 'thick', 'cool', ['banana', 'milk', 'strawberry', 'vanilla']],\n",
        "  [1, 'thick', 'cool', ['banana', 'milk', 'kiwi', 'vanilla']],\n",
        "  [0, 'thick', 'cool', ['chocolate', 'milk', 'vanilla']],\n",
        "  [0, 'thick', 'cool', ['banana', 'chocolate', 'milk', 'vanilla']],\n",
        "  [0, 'thick', 'cool', ['milk', 'strawberry', 'vanilla']],\n",
        "\n",
        "  # Pizzas\n",
        "  [0, 'solid', 'warm', ['bell pepper', 'cheese', 'flour', 'garlic', 'oil', 'olive', 'onion', 'salt', 'sugar', 'tomato']], # Olives\n",
        "  [0, 'solid', 'warm', ['anchovy', 'bell pepper', 'cheese', 'flour', 'garlic', 'mayonnaise', 'oil', 'olive', 'onion', 'salt', 'spinach', 'sugar']], # Anchovies\n",
        "  [1, 'solid', 'warm', ['arugula', 'bell pepper', 'cheese', 'coriander', 'flour', 'garlic', 'oil', 'onion', 'salt', 'spinach', 'sugar', 'tomato']], # Arugula\n",
        "  [1, 'solid', 'warm', ['bell pepper', 'cheese', 'flour', 'garlic', 'mushroom', 'oil', 'onion', 'salt', 'sugar']], # Mushroom\n",
        "  [1, 'solid', 'warm', ['cheese', 'flour', 'garlic', 'oil', 'onion', 'salt', 'sugar', 'tomato']], # Cheese\n",
        "\n",
        "  # Omelets\n",
        "  [1, 'solid', 'warm', ['black pepper', 'cheese', 'egg', 'garlic', 'mushroom', 'oil', 'onion', 'red pepper', 'salt', 'spinach']], # Mushroom spinach omelet\n",
        "  [1, 'solid', 'warm', ['bean', 'black pepper', 'oil', 'onion', 'rice', 'salt', 'tumeric']], # Rice and beans\n",
        "  [1, 'solid', 'warm', ['black pepper', 'mushroom', 'oil', 'onion', 'pea', 'rice', 'salt']], # Riz djondjon\n",
        "  [1, 'solid', 'cool', ['banana', 'butter', 'egg', 'flour', 'milk', 'salt', 'strawberry']], # Crepes\n",
        "  [0, 'solid', 'warm', ['black pepper', 'oil', 'okra', 'onion', 'rice', 'salt', 'spinach']], # Kalalou\n",
        "\n",
        "  # Soups\n",
        "  [1, 'liquid', 'warm', ['black pepper', 'carrot', 'garlic', 'onion', 'potato', 'salt', 'squash']], # Butternut squash soup\n",
        "  [0, 'liquid', 'warm', ['black pepper', 'butter', 'flour', 'garlic', 'onion', 'peanut', 'salt']], # Peanut soup\n",
        "]\n",
        "\n",
        "print('Size of data set:', len(foods))"
      ],
      "execution_count": 127,
      "outputs": [
        {
          "output_type": "stream",
          "text": [
            "Size of data set: 28\n"
          ],
          "name": "stdout"
        }
      ]
    },
    {
      "cell_type": "code",
      "metadata": {
        "id": "JlOjXQLAKc1k"
      },
      "source": [
        "# Utils.\n",
        "def get_descriptions(samples):\n",
        "  \"\"\"Retrieves food descriptions from a data set.\"\"\"\n",
        "\n",
        "  return list(map(lambda sample: sample[1:3], foods))\n",
        "\n",
        "def get_ingredients(samples):\n",
        "  \"\"\"Retrieves ingredients from a data set.\"\"\"\n",
        "\n",
        "  return list(map(lambda sample: sample[3], foods))\n",
        "\n",
        "def encode_samples(samples):\n",
        "  \"\"\"Encodes food samples to use as inputs to a model.\"\"\"\n",
        "  sample_descriptions = list(map(lambda sample: sample[1:3], samples))\n",
        "  sample_ingredients = list(map(lambda sample: sample[3], samples))\n",
        "  encoded_data_set = []\n",
        "  encoded_descriptions = food_descriptions_encoder\\\n",
        "    .transform(sample_descriptions)\\\n",
        "    .toarray()\n",
        "  encoded_ingredients = ingredients_encoder.transform(sample_ingredients)\n",
        "\n",
        "  for i in range(len(samples)):\n",
        "    encoded_data_set.append(np.concatenate([encoded_descriptions[i], encoded_ingredients[i]]))\n",
        "  \n",
        "  return encoded_data_set"
      ],
      "execution_count": 128,
      "outputs": []
    },
    {
      "cell_type": "code",
      "metadata": {
        "colab": {
          "base_uri": "https://localhost:8080/"
        },
        "id": "nB9W8MM8nR4C",
        "outputId": "22ed09d8-a22d-4fe1-aa8f-3374ac31b223"
      },
      "source": [
        "# Encoders.\n",
        "import numpy as np\n",
        "from sklearn.preprocessing import LabelBinarizer, MultiLabelBinarizer, OneHotEncoder\n",
        "\n",
        "food_descriptions_encoder = OneHotEncoder()\n",
        "food_descriptions_encoder.fit(get_descriptions(foods))\n",
        "ingredients_encoder = MultiLabelBinarizer()\n",
        "ingredients_encoder.fit(get_ingredients(foods))\n",
        "\n",
        "print(f'Food descriptions:', food_descriptions_encoder.categories_)\n",
        "print(f'Ingredients ({len(ingredients_encoder.classes_)}):', ingredients_encoder.classes_)"
      ],
      "execution_count": 129,
      "outputs": [
        {
          "output_type": "stream",
          "text": [
            "Food descriptions: [array(['chewy', 'crunchy', 'liquid', 'mashed', 'solid', 'thick'],\n",
            "      dtype=object), array(['cool', 'normal', 'warm'], dtype=object)]\n",
            "Ingredients (53): ['almond' 'anchovy' 'anise' 'apple' 'arugula' 'baking powder' 'banana'\n",
            " 'barley malt' 'bay leaf' 'bean' 'bell pepper' 'black pepper' 'blueberry'\n",
            " 'butter' 'carrot' 'cheese' 'chickpea' 'chili' 'chocolate' 'cookies'\n",
            " 'coriander' 'cranberry' 'cumin' 'egg' 'flour' 'garlic' 'ginger' 'kiwi'\n",
            " 'mango' 'mayonnaise' 'milk' 'mushroom' 'oil' 'okra' 'olive' 'onion' 'pea'\n",
            " 'peanut' 'pineapple' 'potato' 'red pepper' 'rice' 'salt' 'skim milk'\n",
            " 'spinach' 'squash' 'strawberry' 'sugar' 'tomato' 'tumeric' 'vanilla'\n",
            " 'wheat bran' 'whole grain wheat']\n"
          ],
          "name": "stdout"
        }
      ]
    },
    {
      "cell_type": "code",
      "metadata": {
        "id": "ZfXMO9YFU1uj",
        "colab": {
          "base_uri": "https://localhost:8080/"
        },
        "outputId": "e427fd13-2f77-4ba8-f46c-7f212b8556c6"
      },
      "source": [
        "# Encode, randomize and split data set.\n",
        "from sklearn.model_selection import train_test_split\n",
        "\n",
        "X = encode_samples(foods)\n",
        "y = list(map(lambda sample: sample[0], foods))\n",
        "X_train, X_test, y_train, y_test = train_test_split(X, y)\n",
        "X_test, X_validate, y_test, y_validate = train_test_split(X_test, y_test)\n",
        "\n",
        "print('Training set size:', len(y_train))\n",
        "print('Testing set size:', len(y_test))\n",
        "print('Validation set size:', len(y_validate))"
      ],
      "execution_count": 130,
      "outputs": [
        {
          "output_type": "stream",
          "text": [
            "Training set size: 21\n",
            "Testing set size: 5\n",
            "Validation set size: 2\n"
          ],
          "name": "stdout"
        }
      ]
    },
    {
      "cell_type": "markdown",
      "metadata": {
        "id": "rCz6klBHUX6r"
      },
      "source": [
        "# [Nearest Neighbours](https://scikit-learn.org/stable/modules/neighbors.html)\n",
        "\n",
        "Scikit-learn supports three nearest neighbours algorithms:\n",
        "- [Brute-force](https://scikit-learn.org/stable/modules/neighbors.html#brute-force).\n",
        "- [K-D Tree](https://scikit-learn.org/stable/modules/neighbors.html#k-d-tree): best for low dimensional data (D < 20).\n",
        "- [Ball Tree](https://scikit-learn.org/stable/modules/neighbors.html#ball-tree): better for high dimensional data.\n",
        "\n",
        "## Summary\n",
        "\n",
        "- Higher K is better.\n",
        "- No difference between distance and uniform weights."
      ]
    },
    {
      "cell_type": "code",
      "metadata": {
        "id": "nUFGKB8uMcya",
        "colab": {
          "base_uri": "https://localhost:8080/"
        },
        "outputId": "13a18e08-a06a-4042-f631-c91056a2d8cb"
      },
      "source": [
        "from sklearn.neighbors import KNeighborsClassifier as KNN\n",
        "\n",
        "knn_distance_3 = KNN(n_neighbors=3, weights='distance').fit(X_train, y_train)\n",
        "print('Distance KNN (K=3) score:', knn_distance_3.score(X_test, y_test))\n",
        "\n",
        "knn_distance_15 = KNN(n_neighbors=15, weights='distance').fit(X_train, y_train)\n",
        "print('Distance KNN (K=15) score:', knn_distance_15.score(X_test, y_test))\n",
        "\n",
        "knn_uniform_3 = KNN(n_neighbors=3, weights='uniform').fit(X_train, y_train)\n",
        "print('Uniform KNN (K=3) score:', knn_uniform_3.score(X_test, y_test))\n",
        "\n",
        "knn_uniform_15 = KNN(n_neighbors=15, weights='uniform').fit(X_train, y_train)\n",
        "print('Uniform KNN (K=15) score:', knn_uniform_15.score(X_test, y_test))"
      ],
      "execution_count": 131,
      "outputs": [
        {
          "output_type": "stream",
          "text": [
            "Distance KNN (K=3) score: 0.6\n",
            "Distance KNN (K=15) score: 0.8\n",
            "Uniform KNN (K=3) score: 0.6\n",
            "Uniform KNN (K=15) score: 0.8\n"
          ],
          "name": "stdout"
        }
      ]
    },
    {
      "cell_type": "markdown",
      "metadata": {
        "id": "Z3SgkjX8Wpck"
      },
      "source": [
        "# [Random Forest](https://scikit-learn.org/stable/modules/ensemble.html#forests-of-randomized-trees)"
      ]
    },
    {
      "cell_type": "markdown",
      "metadata": {
        "id": "6d3T5PaZWXz4"
      },
      "source": [
        "# [Stochastic Gradient Descent](https://scikit-learn.org/stable/modules/sgd.html)\n",
        "\n",
        "Requires a lot of data (>100k)"
      ]
    },
    {
      "cell_type": "markdown",
      "metadata": {
        "id": "Qr9d6t-UW18b"
      },
      "source": [
        "# [Support Vector Machine](https://scikit-learn.org/stable/modules/svm.html)\n",
        "\n",
        "## Summary\n",
        "\n",
        "- Higher polynomial is better.\n",
        "- Lower C is better for RBF.\n",
        "- Linear doesn't work very well."
      ]
    },
    {
      "cell_type": "code",
      "metadata": {
        "colab": {
          "base_uri": "https://localhost:8080/"
        },
        "id": "5q_ufoDQZj7w",
        "outputId": "b8582155-3691-4e4c-e281-f7faffe9284f"
      },
      "source": [
        "# SVC: https://scikit-learn.org/stable/modules/generated/sklearn.svm.SVC.html\n",
        "from sklearn.svm import SVC\n",
        "\n",
        "svc_linear = SVC(kernel='linear').fit(X_train, y_train)\n",
        "print('Linear SVC score:', svc_linear.score(X_test, y_test))\n",
        "\n",
        "svc_poly_3 = SVC(kernel='poly', degree=3).fit(X_train, y_train)\n",
        "print('Polynomial (3) SVC score:', svc_poly_3.score(X_test, y_test))\n",
        "\n",
        "svc_poly_10 = SVC(kernel='poly', degree=10).fit(X_train, y_train)\n",
        "print('Polynomial (10) SVC score:', svc_poly_10.score(X_test, y_test))\n",
        "\n",
        "# https://scikit-learn.org/stable/auto_examples/svm/plot_rbf_parameters.html#rbf-svm-parameters\n",
        "svc_rbf_c1 = SVC(C=1.0, kernel='rbf').fit(X_train, y_train)\n",
        "print('Radial basis function (C=1) SVC score:', svc_rbf_c1.score(X_test, y_test))\n",
        "\n",
        "svc_rbf_c4 = SVC(C=4.0, kernel='rbf').fit(X_train, y_train)\n",
        "print('Radial basis function (C=4) SVC score:', svc_rbf_c4.score(X_test, y_test))\n",
        "\n",
        "svc_rbf_c10 = SVC(C=10.0, kernel='rbf').fit(X_train, y_train)\n",
        "print('Radial basis function (C=10) SVC score:', svc_rbf_c10.score(X_test, y_test))\n",
        "\n",
        "svc_sigmoid = SVC(kernel='sigmoid').fit(X_train, y_train)\n",
        "print('Sigmoid SVC score:', svc_sigmoid.score(X_test, y_test))\n"
      ],
      "execution_count": 132,
      "outputs": [
        {
          "output_type": "stream",
          "text": [
            "Linear SVC score: 0.4\n",
            "Polynomial (3) SVC score: 0.6\n",
            "Polynomial (10) SVC score: 0.8\n",
            "Radial basis function (C=1) SVC score: 0.8\n",
            "Radial basis function (C=4) SVC score: 0.6\n",
            "Radial basis function (C=10) SVC score: 0.6\n",
            "Sigmoid SVC score: 0.8\n"
          ],
          "name": "stdout"
        }
      ]
    }
  ]
}