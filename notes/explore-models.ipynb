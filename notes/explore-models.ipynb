{
  "nbformat": 4,
  "nbformat_minor": 0,
  "metadata": {
    "colab": {
      "name": "Explore models.ipynb",
      "provenance": [],
      "authorship_tag": "ABX9TyNSSNt6t9PCxZ7+7nZZTFbg"
    },
    "kernelspec": {
      "name": "python3",
      "display_name": "Python 3"
    }
  },
  "cells": [
    {
      "cell_type": "markdown",
      "metadata": {
        "id": "3roT45bqR-vs"
      },
      "source": [
        "# Intro\n",
        "\n",
        "- [Choosing the right estimator](https://scikit-learn.org/stable/tutorial/machine_learning_map/index.html) (scikit-learn)\n",
        "\n"
      ]
    },
    {
      "cell_type": "markdown",
      "metadata": {
        "id": "yvG0bIB_UzD7"
      },
      "source": [
        "# Data"
      ]
    },
    {
      "cell_type": "code",
      "metadata": {
        "id": "ZfXMO9YFU1uj"
      },
      "source": [
        "import numpy as np\n",
        "from sklearn.preprocessing import OneHotEncoder\n",
        "\n",
        "# A few samples, organized as: [classification, consistency, temperature, [ingredients]].\n",
        "samples = [\n",
        "  ['yes', 'crunchy', 'normal', ['anise', 'baking powder', 'egg', 'flour', 'oil', 'sugar']], # Biscotti\n",
        "  ['yes', 'chewy', 'cool', ['cookies', 'milk', 'skim milk', 'sugar', 'vanilla']], # Oreo ice cream\n",
        "  ['chewy', '', []],\n",
        "  ['yes', 'mashed', 'warm', ['butter', 'cheese', 'coriander', 'black pepper', 'garlic', 'potato', 'salt']], # Mash potatoes\n",
        "  ['no', 'mashed', 'warm', ['bay leaf', 'chickpea', 'chili', 'coriander', 'cumin', 'garlic', 'ginger', 'oil', 'onion', 'salt', 'tomato', 'tumeric']], # Chole chickpea curry\n",
        "  ['yes', 'solid', 'cool', ['banana', 'butter', 'egg', 'flour', 'milk', 'salt', 'strawberry']], # Crepes\n",
        "  ['no', 'solid', '', []],\n",
        "  ['yes', 'thick', 'cool', ['banana', 'mango', 'pineapple']], # Smoothie\n",
        "  ['yes', 'thick', 'cool', ['banana', 'milk', 'strawberry', 'vanilla']], # Banana & strawberry milkshake\n",
        "  ['no', 'thick', 'cool', ['chocolate', 'milk', 'vanilla']], # Chocolate milkshake\n",
        "  ['yes', 'liquid', '', []],\n",
        "  ['no', 'liquid', '', []],\n",
        "]\n",
        "\n",
        "encoder = OneHotEncoder(handle_unknown='ignore')\n",
        "training_set = np.array([[-1, -1], [-2, -1], [-3, -2], [1, 1], [2, 1], [3, 2]])\n",
        "training_labels = np.array([1, 2, 6, 1, 2, 6])\n",
        "\n",
        "validation_set = np.array([[-3, -3], [4, 8]])\n",
        "validation_labels = np.array([9, 32])"
      ],
      "execution_count": 6,
      "outputs": []
    },
    {
      "cell_type": "markdown",
      "metadata": {
        "id": "rCz6klBHUX6r"
      },
      "source": [
        "# [Nearest Neighbours](https://scikit-learn.org/stable/modules/neighbors.html)\n",
        "\n",
        "Scikit-learn supports three nearest neighbours algorithms:\n",
        "- [Brute-force](https://scikit-learn.org/stable/modules/neighbors.html#brute-force).\n",
        "- [K-D Tree](https://scikit-learn.org/stable/modules/neighbors.html#k-d-tree): best for low dimensional data (D < 20).\n",
        "- [Ball Tree](https://scikit-learn.org/stable/modules/neighbors.html#ball-tree): better for high dimensional data.\n"
      ]
    },
    {
      "cell_type": "code",
      "metadata": {
        "id": "nUFGKB8uMcya",
        "colab": {
          "base_uri": "https://localhost:8080/"
        },
        "outputId": "644d9f05-24c9-4b65-8ba7-924a71cbf9c2"
      },
      "source": [
        "from sklearn.neighbors import NearestNeighbors\n",
        "\n",
        "nbrs = NearestNeighbors(n_neighbors=2, algorithm='auto').fit(training_set)\n",
        "distances, indices = nbrs.kneighbors(training_set)\n",
        "\n",
        "print('Distances:')\n",
        "distances\n",
        "\n",
        "print('Indices:')\n",
        "indices"
      ],
      "execution_count": 2,
      "outputs": [
        {
          "output_type": "stream",
          "text": [
            "Distances:\n",
            "Indices:\n"
          ],
          "name": "stdout"
        },
        {
          "output_type": "execute_result",
          "data": {
            "text/plain": [
              "array([[0, 1],\n",
              "       [1, 0],\n",
              "       [2, 1],\n",
              "       [3, 4],\n",
              "       [4, 3],\n",
              "       [5, 4]])"
            ]
          },
          "metadata": {
            "tags": []
          },
          "execution_count": 2
        }
      ]
    },
    {
      "cell_type": "markdown",
      "metadata": {
        "id": "Z3SgkjX8Wpck"
      },
      "source": [
        "# [Random Forest](https://scikit-learn.org/stable/modules/ensemble.html#forests-of-randomized-trees)"
      ]
    },
    {
      "cell_type": "markdown",
      "metadata": {
        "id": "6d3T5PaZWXz4"
      },
      "source": [
        "# [Stochastic Gradient Descent](https://scikit-learn.org/stable/modules/sgd.html)\n",
        "\n",
        "Requires a lot of data (>100k)"
      ]
    },
    {
      "cell_type": "markdown",
      "metadata": {
        "id": "Qr9d6t-UW18b"
      },
      "source": [
        "# [Support Vector Machine](https://scikit-learn.org/stable/modules/svm.html)"
      ]
    },
    {
      "cell_type": "code",
      "metadata": {
        "id": "fPjHxtELZV7g"
      },
      "source": [
        "from sklearn import svm"
      ],
      "execution_count": 4,
      "outputs": []
    },
    {
      "cell_type": "code",
      "metadata": {
        "id": "5q_ufoDQZj7w",
        "outputId": "5f842268-6026-466c-bed3-92787ff91df3",
        "colab": {
          "base_uri": "https://localhost:8080/"
        }
      },
      "source": [
        "# SVC: https://scikit-learn.org/stable/modules/generated/sklearn.svm.SVC.html#sklearn.svm.SVC\n",
        "svc = svm.SVC()\n",
        "svc.fit(training_set, training_labels)\n",
        "\n",
        "print('SVC support vectors:', svc.support_vectors_)\n",
        "\n",
        "svc.predict(validation_set)"
      ],
      "execution_count": 8,
      "outputs": [
        {
          "output_type": "stream",
          "text": [
            "SVC support vectors: [[-1. -1.]\n",
            " [ 1.  1.]\n",
            " [-2. -1.]\n",
            " [ 2.  1.]\n",
            " [-3. -2.]\n",
            " [ 3.  2.]]\n"
          ],
          "name": "stdout"
        },
        {
          "output_type": "execute_result",
          "data": {
            "text/plain": [
              "array([6, 6])"
            ]
          },
          "metadata": {
            "tags": []
          },
          "execution_count": 8
        }
      ]
    }
  ]
}