{
  "nbformat": 4,
  "nbformat_minor": 0,
  "metadata": {
    "colab": {
      "name": "Explore models.ipynb",
      "provenance": [],
      "authorship_tag": "ABX9TyObX6n9ygvasIsCw7c87QrW"
    },
    "kernelspec": {
      "name": "python3",
      "display_name": "Python 3"
    }
  },
  "cells": [
    {
      "cell_type": "markdown",
      "metadata": {
        "id": "3roT45bqR-vs"
      },
      "source": [
        "# Intro\n",
        "\n",
        "- [Choosing the right estimator](https://scikit-learn.org/stable/tutorial/machine_learning_map/index.html) (scikit-learn)\n",
        "\n"
      ]
    },
    {
      "cell_type": "markdown",
      "metadata": {
        "id": "yvG0bIB_UzD7"
      },
      "source": [
        "# Data"
      ]
    },
    {
      "cell_type": "code",
      "metadata": {
        "id": "Q0Uv0gItdoSG",
        "outputId": "110a99bf-0602-4089-87d2-7e4e8edc81c1",
        "colab": {
          "base_uri": "https://localhost:8080/"
        }
      },
      "source": [
        "# Data samples, organized as: [classification, consistency, temperature, [ingredients]].\n",
        "foods = [\n",
        "  [1, 'crunchy', 'normal', ['anise', 'baking powder', 'egg', 'flour', 'oil', 'sugar']], # Biscotti\n",
        "  [1, 'crunchy', 'cool', ['almond', 'barley malt', 'milk', 'rice', 'salt', 'sugar', 'wheat bran', 'whole grain wheat']], # Vanilla almond Special K\n",
        "  [1, 'crunchy', 'normal', ['almond', 'apple', 'arugula', 'cranberry', 'oil', 'salt']], # Salad\n",
        "  [1, 'chewy', 'cool', ['cookies', 'milk', 'skim milk', 'sugar', 'vanilla']], # Oreo ice cream\n",
        "  [1, 'mashed', 'warm', ['butter', 'cheese', 'coriander', 'black pepper', 'garlic', 'potato', 'salt']], # Mash potatoes\n",
        "  [0, 'mashed', 'warm', ['bay leaf', 'chickpea', 'chili', 'coriander', 'cumin', 'garlic', 'ginger', 'oil', 'onion', 'salt', 'tomato', 'tumeric']], # Chole chickpea curry\n",
        "  [1, 'solid', 'cool', ['banana', 'butter', 'egg', 'flour', 'milk', 'salt', 'strawberry']], # Crepes\n",
        "  [1, 'thick', 'cool', ['banana', 'mango', 'pineapple']], # Banana/mango moothie\n",
        "  [0, 'thick', 'cool', ['blueberry', 'pineapple', 'strawberry']], # Berry smoothie\n",
        "  [1, 'thick', 'cool', ['banana', 'milk', 'strawberry', 'vanilla']], # Banana & strawberry milkshake\n",
        "  [0, 'thick', 'cool', ['chocolate', 'milk', 'vanilla']], # Chocolate milkshake\n",
        "  [0, 'solid', 'warm', ['bell pepper', 'cheese', 'garlic', 'oil', 'olive', 'onion', 'salt', 'sugar', 'tomato']], # Olive pizza\n",
        "  [0, 'solid', 'warm', ['anchovy', 'bell pepper', 'cheese', 'garlic', 'mayonnaise', 'oil', 'olive', 'onion', 'salt', 'spinach', 'sugar']], # Anchovies pizza\n",
        "  [1, 'solid', 'warm', ['arugula', 'bell pepper', 'cheese', 'coriander', 'garlic', 'oil', 'onion', 'salt', 'spinach', 'sugar', 'tomato']], # Arugula pizza\n",
        "  [1, 'solid', 'warm', ['black pepper', 'cheese', 'egg', 'garlic', 'mushroom', 'oil', 'onion', 'red pepper', 'salt', 'spinach']], # Mushroom spinach omelet\n",
        "]\n",
        "\n",
        "print('Size of data set:', len(foods))"
      ],
      "execution_count": 79,
      "outputs": [
        {
          "output_type": "stream",
          "text": [
            "Size of data set: 14\n"
          ],
          "name": "stdout"
        }
      ]
    },
    {
      "cell_type": "code",
      "metadata": {
        "id": "JlOjXQLAKc1k"
      },
      "source": [
        "# Utils.\n",
        "def get_descriptions(samples):\n",
        "  \"\"\"Retrieves food descriptions from a data set.\"\"\"\n",
        "\n",
        "  return list(map(lambda sample: sample[1:3], foods))\n",
        "\n",
        "def get_ingredients(samples):\n",
        "  \"\"\"Retrieves ingredients from a data set.\"\"\"\n",
        "\n",
        "  return list(map(lambda sample: sample[3], foods))\n",
        "\n",
        "def encode_samples(samples):\n",
        "  \"\"\"Encodes food samples to use as inputs to a model.\"\"\"\n",
        "  sample_descriptions = list(map(lambda sample: sample[1:3], samples))\n",
        "  sample_ingredients = list(map(lambda sample: sample[3], samples))\n",
        "  encoded_data_set = []\n",
        "  encoded_descriptions = food_descriptions_encoder\\\n",
        "    .transform(sample_descriptions)\\\n",
        "    .toarray()\n",
        "  encoded_ingredients = ingredients_encoder.transform(sample_ingredients)\n",
        "\n",
        "  for i in range(len(samples)):\n",
        "    encoded_data_set.append(np.concatenate([encoded_descriptions[i], encoded_ingredients[i]]))\n",
        "  \n",
        "  return encoded_data_set"
      ],
      "execution_count": 80,
      "outputs": []
    },
    {
      "cell_type": "code",
      "metadata": {
        "id": "nB9W8MM8nR4C",
        "outputId": "be8024b8-55af-44ba-ce97-6e741f878028",
        "colab": {
          "base_uri": "https://localhost:8080/"
        }
      },
      "source": [
        "# Encoders.\n",
        "import numpy as np\n",
        "from sklearn.preprocessing import LabelBinarizer, MultiLabelBinarizer, OneHotEncoder\n",
        "\n",
        "food_descriptions_encoder = OneHotEncoder()\n",
        "food_descriptions_encoder.fit(get_descriptions(foods))\n",
        "ingredients_encoder = MultiLabelBinarizer()\n",
        "ingredients_encoder.fit(get_ingredients(foods))\n",
        "\n",
        "print('Food descriptions:', food_descriptions_encoder.categories_)\n",
        "print('Ingredients:', ingredients_encoder.classes_)"
      ],
      "execution_count": 81,
      "outputs": [
        {
          "output_type": "stream",
          "text": [
            "Food descriptions: [array(['chewy', 'crunchy', 'mashed', 'solid', 'thick'], dtype=object), array(['cool', 'normal', 'warm'], dtype=object)]\n",
            "Ingredients: ['almond' 'anchovy' 'anise' 'apple' 'arugula' 'baking powder' 'banana'\n",
            " 'barley malt' 'bay leaf' 'bell pepper' 'black pepper' 'blueberry'\n",
            " 'butter' 'cheese' 'chickpea' 'chili' 'chocolate' 'cookies' 'coriander'\n",
            " 'cranberry' 'cumin' 'egg' 'flour' 'garlic' 'ginger' 'mango' 'mayonnaise'\n",
            " 'milk' 'oil' 'olive' 'onion' 'pineapple' 'potato' 'rice' 'salt'\n",
            " 'skim milk' 'spinach' 'strawberry' 'sugar' 'tomato' 'tumeric' 'vanilla'\n",
            " 'wheat bran' 'whole grain wheat']\n"
          ],
          "name": "stdout"
        }
      ]
    },
    {
      "cell_type": "code",
      "metadata": {
        "id": "ZfXMO9YFU1uj",
        "colab": {
          "base_uri": "https://localhost:8080/"
        },
        "outputId": "bf8f1817-7414-4b28-ba60-7e53a2367ccd"
      },
      "source": [
        "# Encode, randomize and split data set.\n",
        "from sklearn.model_selection import train_test_split\n",
        "\n",
        "X = encode_samples(foods)\n",
        "y = list(map(lambda sample: sample[0], foods))\n",
        "X_train, X_test, y_train, y_test = train_test_split(X, y)\n",
        "X_test, X_validate, y_test, y_validate = train_test_split(X_test, y_test)\n",
        "\n",
        "print('Training set size:', len(y_train))\n",
        "print('Testing set size:', len(y_test))\n",
        "print('Validation set size:', len(y_validate))"
      ],
      "execution_count": 82,
      "outputs": [
        {
          "output_type": "stream",
          "text": [
            "Training set size: 10\n",
            "Testing set size: 3\n",
            "Validation set size: 1\n"
          ],
          "name": "stdout"
        }
      ]
    },
    {
      "cell_type": "markdown",
      "metadata": {
        "id": "rCz6klBHUX6r"
      },
      "source": [
        "# [Nearest Neighbours](https://scikit-learn.org/stable/modules/neighbors.html)\n",
        "\n",
        "Scikit-learn supports three nearest neighbours algorithms:\n",
        "- [Brute-force](https://scikit-learn.org/stable/modules/neighbors.html#brute-force).\n",
        "- [K-D Tree](https://scikit-learn.org/stable/modules/neighbors.html#k-d-tree): best for low dimensional data (D < 20).\n",
        "- [Ball Tree](https://scikit-learn.org/stable/modules/neighbors.html#ball-tree): better for high dimensional data.\n"
      ]
    },
    {
      "cell_type": "code",
      "metadata": {
        "id": "nUFGKB8uMcya",
        "colab": {
          "base_uri": "https://localhost:8080/"
        },
        "outputId": "644d9f05-24c9-4b65-8ba7-924a71cbf9c2"
      },
      "source": [
        "from sklearn.neighbors import NearestNeighbors\n",
        "\n",
        "nbrs = NearestNeighbors(n_neighbors=2, algorithm='auto').fit(training_set)\n",
        "distances, indices = nbrs.kneighbors(training_set)\n",
        "\n",
        "print('Distances:')\n",
        "distances\n",
        "\n",
        "print('Indices:')\n",
        "indices"
      ],
      "execution_count": null,
      "outputs": [
        {
          "output_type": "stream",
          "text": [
            "Distances:\n",
            "Indices:\n"
          ],
          "name": "stdout"
        },
        {
          "output_type": "execute_result",
          "data": {
            "text/plain": [
              "array([[0, 1],\n",
              "       [1, 0],\n",
              "       [2, 1],\n",
              "       [3, 4],\n",
              "       [4, 3],\n",
              "       [5, 4]])"
            ]
          },
          "metadata": {
            "tags": []
          },
          "execution_count": 2
        }
      ]
    },
    {
      "cell_type": "markdown",
      "metadata": {
        "id": "Z3SgkjX8Wpck"
      },
      "source": [
        "# [Random Forest](https://scikit-learn.org/stable/modules/ensemble.html#forests-of-randomized-trees)"
      ]
    },
    {
      "cell_type": "markdown",
      "metadata": {
        "id": "6d3T5PaZWXz4"
      },
      "source": [
        "# [Stochastic Gradient Descent](https://scikit-learn.org/stable/modules/sgd.html)\n",
        "\n",
        "Requires a lot of data (>100k)"
      ]
    },
    {
      "cell_type": "markdown",
      "metadata": {
        "id": "Qr9d6t-UW18b"
      },
      "source": [
        "# [Support Vector Machine](https://scikit-learn.org/stable/modules/svm.html)"
      ]
    },
    {
      "cell_type": "code",
      "metadata": {
        "colab": {
          "base_uri": "https://localhost:8080/"
        },
        "id": "5q_ufoDQZj7w",
        "outputId": "15feacea-b8ab-4dc2-c840-b660fa54b73c"
      },
      "source": [
        "# SVC: https://scikit-learn.org/stable/modules/generated/sklearn.svm.SVC.html\n",
        "from sklearn import svm\n",
        "\n",
        "svc_linear = svm.SVC(kernel='linear')\n",
        "svc_linear.fit(X_train, y_train)\n",
        "print('Linear SVC score:', svc_linear.score(X_test, y_test))\n",
        "\n",
        "svc_poly_3 = svm.SVC(kernel='poly', degree=3)\n",
        "svc_poly_3.fit(X_train, y_train)\n",
        "print('Polynomial (3) SVC score:', svc_poly_3.score(X_test, y_test))\n",
        "\n",
        "svc_poly_10 = svm.SVC(kernel='poly', degree=10)\n",
        "svc_poly_10.fit(X_train, y_train)\n",
        "print('Polynomial (10) SVC score:', svc_poly_10.score(X_test, y_test))\n",
        "\n",
        "# https://scikit-learn.org/stable/auto_examples/svm/plot_rbf_parameters.html#rbf-svm-parameters\n",
        "svc_rbf = svm.SVC(kernel='rbf')\n",
        "svc_rbf.fit(X_train, y_train)\n",
        "print('Radial basis function SVC score:', svc_rbf.score(X_test, y_test))\n",
        "\n",
        "svc_sigmoid = svm.SVC(kernel='sigmoid')\n",
        "svc_sigmoid.fit(X_train, y_train)\n",
        "print('Sigmoid SVC score:', svc_sigmoid.score(X_test, y_test))\n"
      ],
      "execution_count": 83,
      "outputs": [
        {
          "output_type": "stream",
          "text": [
            "Linear SVC score: 0.6666666666666666\n",
            "Polynomial (3) SVC score: 0.6666666666666666\n",
            "Polynomial (10) SVC score: 0.6666666666666666\n",
            "Radial basis function SVC score: 0.6666666666666666\n",
            "Sigmoid SVC score: 0.6666666666666666\n"
          ],
          "name": "stdout"
        }
      ]
    }
  ]
}