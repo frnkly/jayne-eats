{
  "nbformat": 4,
  "nbformat_minor": 0,
  "metadata": {
    "colab": {
      "name": "Model exploration using TensorFlow.ipynb",
      "provenance": [],
      "authorship_tag": "ABX9TyMWabvdFzOVKuqHkbJKGFIw",
      "include_colab_link": true
    },
    "kernelspec": {
      "name": "python3",
      "display_name": "Python 3"
    }
  },
  "cells": [
    {
      "cell_type": "markdown",
      "metadata": {
        "id": "view-in-github",
        "colab_type": "text"
      },
      "source": [
        "<a href=\"https://colab.research.google.com/github/frnkly/jayne-eats/blob/main/ml/notes/model-exploration-tf.ipynb\" target=\"_parent\"><img src=\"https://colab.research.google.com/assets/colab-badge.svg\" alt=\"Open In Colab\"/></a>"
      ]
    },
    {
      "cell_type": "markdown",
      "metadata": {
        "id": "3roT45bqR-vs"
      },
      "source": [
        "# Model Exploration using TensorFlow\n",
        "\n"
      ]
    },
    {
      "cell_type": "markdown",
      "metadata": {
        "id": "yvG0bIB_UzD7"
      },
      "source": [
        "# Data"
      ]
    },
    {
      "cell_type": "code",
      "metadata": {
        "colab": {
          "base_uri": "https://localhost:8080/"
        },
        "id": "Q0Uv0gItdoSG",
        "outputId": "68474f2d-a9b3-45a1-b857-56deb2995132"
      },
      "source": [
        "# Dataset, organized as: [classification, consistency, temperature, [ingredients]].\n",
        "raw_dataset = [\n",
        "  # Pizzas\n",
        "  [False, 'solid', 'warm', ['bell_pepper', 'cheese', 'flour', 'garlic', 'oil', 'olive', 'onion', 'salt', 'sugar', 'tomato']], # Olives\n",
        "  [False, 'solid', 'warm', ['anchovy', 'bell_pepper', 'cheese', 'flour', 'garlic', 'mayonnaise', 'oil', 'olive', 'onion', 'salt', 'spinach', 'sugar']], # Anchovies\n",
        "  [False, 'solid', 'warm', ['apple', 'coriander', 'cheese', 'flour', 'garlic', 'oil', 'onion', 'salt', 'sugar']], # Apple & goat cheese\n",
        "  [True, 'solid', 'warm', ['arugula', 'bell_pepper', 'cheese', 'coriander', 'flour', 'garlic', 'oil', 'onion', 'salt', 'spinach', 'sugar', 'tomato']], # Arugula\n",
        "  [True, 'solid', 'warm', ['bell_pepper', 'cheese', 'flour', 'garlic', 'mushroom', 'oil', 'onion', 'salt', 'sugar']], # Mushroom\n",
        "  [True, 'solid', 'warm', ['cheese', 'flour', 'garlic', 'oil', 'onion', 'salt', 'sugar', 'tomato']], # Cheese\n",
        "\n",
        "  # Products\n",
        "  # [True, 'crunchy', 'normal', ['anise', 'baking_powder', 'egg', 'flour', 'oil', 'sugar']], # Biscotti\n",
        "  # [True, 'crunchy', 'cool', ['almond', 'barley_malt', 'milk', 'rice', 'salt', 'sugar', 'wheat_bran', 'whole_grain_wheat']], # Vanilla almond Special K\n",
        "\n",
        "  # Smoothies & milkshakes\n",
        "  [True, 'chewy', 'cool', ['cookies', 'milk', 'skim_milk', 'sugar', 'vanilla']], # Oreo ice cream\n",
        "  [False, 'thick', 'cool', ['blueberry', 'pineapple', 'strawberry']],\n",
        "  [False, 'thick', 'cool', ['blueberry', 'kiwi', 'strawberry']],\n",
        "  [False, 'thick', 'cool', ['chocolate', 'milk', 'vanilla']],\n",
        "  [False, 'thick', 'cool', ['banana', 'chocolate', 'milk', 'vanilla']],\n",
        "  [False, 'thick', 'cool', ['milk', 'strawberry', 'vanilla']],\n",
        "  [True, 'thick', 'cool', ['banana', 'mango', 'pineapple']],\n",
        "  [True, 'thick', 'cool', ['blueberry', 'kiwi', 'mango', 'pineapple']],\n",
        "  [True, 'thick', 'cool', ['banana', 'milk', 'strawberry', 'vanilla']],\n",
        "  [True, 'thick', 'cool', ['banana', 'milk', 'kiwi', 'vanilla']],\n",
        "\n",
        "  # Soups & chilis\n",
        "  [False, 'mashed', 'warm', ['bay_leaf', 'chickpea', 'chili', 'coriander', 'cumin', 'garlic', 'ginger', 'oil', 'onion', 'salt', 'tomato', 'tumeric']], # Chole chickpea curry\n",
        "  [False, 'mashed', 'warm', ['black_pepper', 'chickpea', 'chili', 'coriander', 'cumin', 'garlic', 'ginger', 'oil', 'onion', 'potato', 'salt', 'spinach', 'tomato', 'tumeric']], # Sweet potato curry\n",
        "  [True, 'mashed', 'warm', ['black_pepper', 'butter', 'cheese', 'coriander', 'garlic', 'potato', 'salt']], # Mash potatoes\n",
        "  [True, 'mashed', 'warm', ['bean', 'black_pepper', 'carrot', 'chili', 'garlic', 'onion', 'potato', 'salt', 'tomato', 'tumeric']], # Chili\n",
        "  [False, 'liquid', 'warm', ['black_pepper', 'butter', 'flour', 'garlic', 'onion', 'peanut', 'salt']], # Peanut soup\n",
        "  [True, 'thick', 'warm', ['black_pepper', 'carrot', 'chili', 'garlic', 'onion', 'potato', 'salt', 'squash']], # Butternut squash soup\n",
        "\n",
        "  # Miscellaneous (stuff made out of ingredients from above)\n",
        "  [True, 'crunchy', 'normal', ['almond', 'apple', 'arugula', 'cranberry', 'oil', 'salt']], # Arugula salad\n",
        "  [True, 'solid', 'warm', ['black_pepper', 'cheese', 'egg', 'garlic', 'mushroom', 'oil', 'onion', 'red_pepper', 'salt', 'spinach']], # Mushroom spinach omelet\n",
        "  [True, 'solid', 'warm', ['bean', 'black_pepper', 'oil', 'onion', 'rice', 'salt', 'tumeric']], # Rice and beans\n",
        "  [True, 'solid', 'warm', ['black_pepper', 'mushroom', 'oil', 'onion', 'pea', 'rice', 'salt']], # Riz djondjon\n",
        "  [True, 'solid', 'cool', ['banana', 'butter', 'egg', 'flour', 'milk', 'salt', 'strawberry']], # Crepes\n",
        "  [False, 'solid', 'warm', ['black_pepper', 'oil', 'okra', 'onion', 'rice', 'salt', 'spinach']], # Kalalou\n",
        "]\n",
        "\n",
        "RAW_LABEL_COL = 0\n",
        "RAW_CONSISTENCY_COL = 1\n",
        "RAW_TEMPERATURE_COL = 2\n",
        "RAW_INGREDIENTS_COL = 3\n",
        "\n",
        "print('Size of data set:', len(raw_dataset))"
      ],
      "execution_count": 2,
      "outputs": [
        {
          "output_type": "stream",
          "text": [
            "Size of data set: 28\n"
          ],
          "name": "stdout"
        }
      ]
    },
    {
      "cell_type": "code",
      "metadata": {
        "id": "KxIV4B-2ps8T"
      },
      "source": [
        "# Common imports\n",
        "import numpy as np\n",
        "import pandas as pd\n",
        "import seaborn as sns\n",
        "import tensorflow as tf\n",
        "from IPython.display import clear_output\n",
        "from matplotlib import pyplot as plt\n",
        "from sklearn.metrics import roc_curve\n",
        "from time import time\n",
        "\n",
        "sns_colors = sns.color_palette('colorblind')\n",
        "tf.random.set_seed(90128)\n"
      ],
      "execution_count": 3,
      "outputs": []
    },
    {
      "cell_type": "code",
      "metadata": {
        "colab": {
          "base_uri": "https://localhost:8080/"
        },
        "id": "zUo1fYs1_xy_",
        "outputId": "30acf518-de0f-465b-920e-2796e3de0088"
      },
      "source": [
        "# Ingredients list.\n",
        "ingredients_set = set()\n",
        "\n",
        "for data in raw_dataset:\n",
        "  ingredients_set |= set(data[RAW_INGREDIENTS_COL])\n",
        "\n",
        "ingredients = sorted(list(ingredients_set))\n",
        "print(f'Ingredients ({len(ingredients)}):', ingredients)"
      ],
      "execution_count": 4,
      "outputs": [
        {
          "output_type": "stream",
          "text": [
            "Ingredients (48): ['almond', 'anchovy', 'apple', 'arugula', 'banana', 'bay_leaf', 'bean', 'bell_pepper', 'black_pepper', 'blueberry', 'butter', 'carrot', 'cheese', 'chickpea', 'chili', 'chocolate', 'cookies', 'coriander', 'cranberry', 'cumin', 'egg', 'flour', 'garlic', 'ginger', 'kiwi', 'mango', 'mayonnaise', 'milk', 'mushroom', 'oil', 'okra', 'olive', 'onion', 'pea', 'peanut', 'pineapple', 'potato', 'red_pepper', 'rice', 'salt', 'skim_milk', 'spinach', 'squash', 'strawberry', 'sugar', 'tomato', 'tumeric', 'vanilla']\n"
          ],
          "name": "stdout"
        }
      ]
    },
    {
      "cell_type": "code",
      "metadata": {
        "colab": {
          "base_uri": "https://localhost:8080/",
          "height": 0
        },
        "id": "LisQaKlw-pfT",
        "outputId": "da2310e2-81cb-48cc-fdb4-8477e2b1ebac"
      },
      "source": [
        "# Processed dataset.\n",
        "processed_dataset = []\n",
        "feature_names = ['consistency', 'temperature'] + ingredients\n",
        "\n",
        "for data in raw_dataset:\n",
        "  data_ingredients_set = set(data[RAW_INGREDIENTS_COL])\n",
        "  processed_data = [\n",
        "    1 if data[RAW_LABEL_COL] else 0,\n",
        "    data[RAW_CONSISTENCY_COL],\n",
        "    data[RAW_TEMPERATURE_COL],\n",
        "  ]\n",
        "\n",
        "  for ingredient in ingredients:\n",
        "    processed_data.append('yes' if ingredient in data_ingredients_set else 'no')\n",
        "  \n",
        "  processed_dataset.append(processed_data)\n",
        "\n",
        "dataset = pd.DataFrame(processed_dataset, columns=['label', *feature_names])\n",
        "dataset_labels = dataset.pop('label')\n",
        "\n",
        "dataset.head()"
      ],
      "execution_count": 5,
      "outputs": [
        {
          "output_type": "execute_result",
          "data": {
            "text/html": [
              "<div>\n",
              "<style scoped>\n",
              "    .dataframe tbody tr th:only-of-type {\n",
              "        vertical-align: middle;\n",
              "    }\n",
              "\n",
              "    .dataframe tbody tr th {\n",
              "        vertical-align: top;\n",
              "    }\n",
              "\n",
              "    .dataframe thead th {\n",
              "        text-align: right;\n",
              "    }\n",
              "</style>\n",
              "<table border=\"1\" class=\"dataframe\">\n",
              "  <thead>\n",
              "    <tr style=\"text-align: right;\">\n",
              "      <th></th>\n",
              "      <th>consistency</th>\n",
              "      <th>temperature</th>\n",
              "      <th>almond</th>\n",
              "      <th>anchovy</th>\n",
              "      <th>apple</th>\n",
              "      <th>arugula</th>\n",
              "      <th>banana</th>\n",
              "      <th>bay_leaf</th>\n",
              "      <th>bean</th>\n",
              "      <th>bell_pepper</th>\n",
              "      <th>black_pepper</th>\n",
              "      <th>blueberry</th>\n",
              "      <th>butter</th>\n",
              "      <th>carrot</th>\n",
              "      <th>cheese</th>\n",
              "      <th>chickpea</th>\n",
              "      <th>chili</th>\n",
              "      <th>chocolate</th>\n",
              "      <th>cookies</th>\n",
              "      <th>coriander</th>\n",
              "      <th>cranberry</th>\n",
              "      <th>cumin</th>\n",
              "      <th>egg</th>\n",
              "      <th>flour</th>\n",
              "      <th>garlic</th>\n",
              "      <th>ginger</th>\n",
              "      <th>kiwi</th>\n",
              "      <th>mango</th>\n",
              "      <th>mayonnaise</th>\n",
              "      <th>milk</th>\n",
              "      <th>mushroom</th>\n",
              "      <th>oil</th>\n",
              "      <th>okra</th>\n",
              "      <th>olive</th>\n",
              "      <th>onion</th>\n",
              "      <th>pea</th>\n",
              "      <th>peanut</th>\n",
              "      <th>pineapple</th>\n",
              "      <th>potato</th>\n",
              "      <th>red_pepper</th>\n",
              "      <th>rice</th>\n",
              "      <th>salt</th>\n",
              "      <th>skim_milk</th>\n",
              "      <th>spinach</th>\n",
              "      <th>squash</th>\n",
              "      <th>strawberry</th>\n",
              "      <th>sugar</th>\n",
              "      <th>tomato</th>\n",
              "      <th>tumeric</th>\n",
              "      <th>vanilla</th>\n",
              "    </tr>\n",
              "  </thead>\n",
              "  <tbody>\n",
              "    <tr>\n",
              "      <th>0</th>\n",
              "      <td>solid</td>\n",
              "      <td>warm</td>\n",
              "      <td>no</td>\n",
              "      <td>no</td>\n",
              "      <td>no</td>\n",
              "      <td>no</td>\n",
              "      <td>no</td>\n",
              "      <td>no</td>\n",
              "      <td>no</td>\n",
              "      <td>yes</td>\n",
              "      <td>no</td>\n",
              "      <td>no</td>\n",
              "      <td>no</td>\n",
              "      <td>no</td>\n",
              "      <td>yes</td>\n",
              "      <td>no</td>\n",
              "      <td>no</td>\n",
              "      <td>no</td>\n",
              "      <td>no</td>\n",
              "      <td>no</td>\n",
              "      <td>no</td>\n",
              "      <td>no</td>\n",
              "      <td>no</td>\n",
              "      <td>yes</td>\n",
              "      <td>yes</td>\n",
              "      <td>no</td>\n",
              "      <td>no</td>\n",
              "      <td>no</td>\n",
              "      <td>no</td>\n",
              "      <td>no</td>\n",
              "      <td>no</td>\n",
              "      <td>yes</td>\n",
              "      <td>no</td>\n",
              "      <td>yes</td>\n",
              "      <td>yes</td>\n",
              "      <td>no</td>\n",
              "      <td>no</td>\n",
              "      <td>no</td>\n",
              "      <td>no</td>\n",
              "      <td>no</td>\n",
              "      <td>no</td>\n",
              "      <td>yes</td>\n",
              "      <td>no</td>\n",
              "      <td>no</td>\n",
              "      <td>no</td>\n",
              "      <td>no</td>\n",
              "      <td>yes</td>\n",
              "      <td>yes</td>\n",
              "      <td>no</td>\n",
              "      <td>no</td>\n",
              "    </tr>\n",
              "    <tr>\n",
              "      <th>1</th>\n",
              "      <td>solid</td>\n",
              "      <td>warm</td>\n",
              "      <td>no</td>\n",
              "      <td>yes</td>\n",
              "      <td>no</td>\n",
              "      <td>no</td>\n",
              "      <td>no</td>\n",
              "      <td>no</td>\n",
              "      <td>no</td>\n",
              "      <td>yes</td>\n",
              "      <td>no</td>\n",
              "      <td>no</td>\n",
              "      <td>no</td>\n",
              "      <td>no</td>\n",
              "      <td>yes</td>\n",
              "      <td>no</td>\n",
              "      <td>no</td>\n",
              "      <td>no</td>\n",
              "      <td>no</td>\n",
              "      <td>no</td>\n",
              "      <td>no</td>\n",
              "      <td>no</td>\n",
              "      <td>no</td>\n",
              "      <td>yes</td>\n",
              "      <td>yes</td>\n",
              "      <td>no</td>\n",
              "      <td>no</td>\n",
              "      <td>no</td>\n",
              "      <td>yes</td>\n",
              "      <td>no</td>\n",
              "      <td>no</td>\n",
              "      <td>yes</td>\n",
              "      <td>no</td>\n",
              "      <td>yes</td>\n",
              "      <td>yes</td>\n",
              "      <td>no</td>\n",
              "      <td>no</td>\n",
              "      <td>no</td>\n",
              "      <td>no</td>\n",
              "      <td>no</td>\n",
              "      <td>no</td>\n",
              "      <td>yes</td>\n",
              "      <td>no</td>\n",
              "      <td>yes</td>\n",
              "      <td>no</td>\n",
              "      <td>no</td>\n",
              "      <td>yes</td>\n",
              "      <td>no</td>\n",
              "      <td>no</td>\n",
              "      <td>no</td>\n",
              "    </tr>\n",
              "    <tr>\n",
              "      <th>2</th>\n",
              "      <td>solid</td>\n",
              "      <td>warm</td>\n",
              "      <td>no</td>\n",
              "      <td>no</td>\n",
              "      <td>yes</td>\n",
              "      <td>no</td>\n",
              "      <td>no</td>\n",
              "      <td>no</td>\n",
              "      <td>no</td>\n",
              "      <td>no</td>\n",
              "      <td>no</td>\n",
              "      <td>no</td>\n",
              "      <td>no</td>\n",
              "      <td>no</td>\n",
              "      <td>yes</td>\n",
              "      <td>no</td>\n",
              "      <td>no</td>\n",
              "      <td>no</td>\n",
              "      <td>no</td>\n",
              "      <td>yes</td>\n",
              "      <td>no</td>\n",
              "      <td>no</td>\n",
              "      <td>no</td>\n",
              "      <td>yes</td>\n",
              "      <td>yes</td>\n",
              "      <td>no</td>\n",
              "      <td>no</td>\n",
              "      <td>no</td>\n",
              "      <td>no</td>\n",
              "      <td>no</td>\n",
              "      <td>no</td>\n",
              "      <td>yes</td>\n",
              "      <td>no</td>\n",
              "      <td>no</td>\n",
              "      <td>yes</td>\n",
              "      <td>no</td>\n",
              "      <td>no</td>\n",
              "      <td>no</td>\n",
              "      <td>no</td>\n",
              "      <td>no</td>\n",
              "      <td>no</td>\n",
              "      <td>yes</td>\n",
              "      <td>no</td>\n",
              "      <td>no</td>\n",
              "      <td>no</td>\n",
              "      <td>no</td>\n",
              "      <td>yes</td>\n",
              "      <td>no</td>\n",
              "      <td>no</td>\n",
              "      <td>no</td>\n",
              "    </tr>\n",
              "    <tr>\n",
              "      <th>3</th>\n",
              "      <td>solid</td>\n",
              "      <td>warm</td>\n",
              "      <td>no</td>\n",
              "      <td>no</td>\n",
              "      <td>no</td>\n",
              "      <td>yes</td>\n",
              "      <td>no</td>\n",
              "      <td>no</td>\n",
              "      <td>no</td>\n",
              "      <td>yes</td>\n",
              "      <td>no</td>\n",
              "      <td>no</td>\n",
              "      <td>no</td>\n",
              "      <td>no</td>\n",
              "      <td>yes</td>\n",
              "      <td>no</td>\n",
              "      <td>no</td>\n",
              "      <td>no</td>\n",
              "      <td>no</td>\n",
              "      <td>yes</td>\n",
              "      <td>no</td>\n",
              "      <td>no</td>\n",
              "      <td>no</td>\n",
              "      <td>yes</td>\n",
              "      <td>yes</td>\n",
              "      <td>no</td>\n",
              "      <td>no</td>\n",
              "      <td>no</td>\n",
              "      <td>no</td>\n",
              "      <td>no</td>\n",
              "      <td>no</td>\n",
              "      <td>yes</td>\n",
              "      <td>no</td>\n",
              "      <td>no</td>\n",
              "      <td>yes</td>\n",
              "      <td>no</td>\n",
              "      <td>no</td>\n",
              "      <td>no</td>\n",
              "      <td>no</td>\n",
              "      <td>no</td>\n",
              "      <td>no</td>\n",
              "      <td>yes</td>\n",
              "      <td>no</td>\n",
              "      <td>yes</td>\n",
              "      <td>no</td>\n",
              "      <td>no</td>\n",
              "      <td>yes</td>\n",
              "      <td>yes</td>\n",
              "      <td>no</td>\n",
              "      <td>no</td>\n",
              "    </tr>\n",
              "    <tr>\n",
              "      <th>4</th>\n",
              "      <td>solid</td>\n",
              "      <td>warm</td>\n",
              "      <td>no</td>\n",
              "      <td>no</td>\n",
              "      <td>no</td>\n",
              "      <td>no</td>\n",
              "      <td>no</td>\n",
              "      <td>no</td>\n",
              "      <td>no</td>\n",
              "      <td>yes</td>\n",
              "      <td>no</td>\n",
              "      <td>no</td>\n",
              "      <td>no</td>\n",
              "      <td>no</td>\n",
              "      <td>yes</td>\n",
              "      <td>no</td>\n",
              "      <td>no</td>\n",
              "      <td>no</td>\n",
              "      <td>no</td>\n",
              "      <td>no</td>\n",
              "      <td>no</td>\n",
              "      <td>no</td>\n",
              "      <td>no</td>\n",
              "      <td>yes</td>\n",
              "      <td>yes</td>\n",
              "      <td>no</td>\n",
              "      <td>no</td>\n",
              "      <td>no</td>\n",
              "      <td>no</td>\n",
              "      <td>no</td>\n",
              "      <td>yes</td>\n",
              "      <td>yes</td>\n",
              "      <td>no</td>\n",
              "      <td>no</td>\n",
              "      <td>yes</td>\n",
              "      <td>no</td>\n",
              "      <td>no</td>\n",
              "      <td>no</td>\n",
              "      <td>no</td>\n",
              "      <td>no</td>\n",
              "      <td>no</td>\n",
              "      <td>yes</td>\n",
              "      <td>no</td>\n",
              "      <td>no</td>\n",
              "      <td>no</td>\n",
              "      <td>no</td>\n",
              "      <td>yes</td>\n",
              "      <td>no</td>\n",
              "      <td>no</td>\n",
              "      <td>no</td>\n",
              "    </tr>\n",
              "  </tbody>\n",
              "</table>\n",
              "</div>"
            ],
            "text/plain": [
              "  consistency temperature almond anchovy  ... sugar tomato tumeric vanilla\n",
              "0       solid        warm     no      no  ...   yes    yes      no      no\n",
              "1       solid        warm     no     yes  ...   yes     no      no      no\n",
              "2       solid        warm     no      no  ...   yes     no      no      no\n",
              "3       solid        warm     no      no  ...   yes    yes      no      no\n",
              "4       solid        warm     no      no  ...   yes     no      no      no\n",
              "\n",
              "[5 rows x 50 columns]"
            ]
          },
          "metadata": {
            "tags": []
          },
          "execution_count": 5
        }
      ]
    },
    {
      "cell_type": "code",
      "metadata": {
        "colab": {
          "base_uri": "https://localhost:8080/"
        },
        "id": "Uphd_tYOX00G",
        "outputId": "89423961-d4d5-4cdf-ddab-97f3f3ef94b3"
      },
      "source": [
        "dataset.info()"
      ],
      "execution_count": 6,
      "outputs": [
        {
          "output_type": "stream",
          "text": [
            "<class 'pandas.core.frame.DataFrame'>\n",
            "RangeIndex: 28 entries, 0 to 27\n",
            "Data columns (total 50 columns):\n",
            " #   Column        Non-Null Count  Dtype \n",
            "---  ------        --------------  ----- \n",
            " 0   consistency   28 non-null     object\n",
            " 1   temperature   28 non-null     object\n",
            " 2   almond        28 non-null     object\n",
            " 3   anchovy       28 non-null     object\n",
            " 4   apple         28 non-null     object\n",
            " 5   arugula       28 non-null     object\n",
            " 6   banana        28 non-null     object\n",
            " 7   bay_leaf      28 non-null     object\n",
            " 8   bean          28 non-null     object\n",
            " 9   bell_pepper   28 non-null     object\n",
            " 10  black_pepper  28 non-null     object\n",
            " 11  blueberry     28 non-null     object\n",
            " 12  butter        28 non-null     object\n",
            " 13  carrot        28 non-null     object\n",
            " 14  cheese        28 non-null     object\n",
            " 15  chickpea      28 non-null     object\n",
            " 16  chili         28 non-null     object\n",
            " 17  chocolate     28 non-null     object\n",
            " 18  cookies       28 non-null     object\n",
            " 19  coriander     28 non-null     object\n",
            " 20  cranberry     28 non-null     object\n",
            " 21  cumin         28 non-null     object\n",
            " 22  egg           28 non-null     object\n",
            " 23  flour         28 non-null     object\n",
            " 24  garlic        28 non-null     object\n",
            " 25  ginger        28 non-null     object\n",
            " 26  kiwi          28 non-null     object\n",
            " 27  mango         28 non-null     object\n",
            " 28  mayonnaise    28 non-null     object\n",
            " 29  milk          28 non-null     object\n",
            " 30  mushroom      28 non-null     object\n",
            " 31  oil           28 non-null     object\n",
            " 32  okra          28 non-null     object\n",
            " 33  olive         28 non-null     object\n",
            " 34  onion         28 non-null     object\n",
            " 35  pea           28 non-null     object\n",
            " 36  peanut        28 non-null     object\n",
            " 37  pineapple     28 non-null     object\n",
            " 38  potato        28 non-null     object\n",
            " 39  red_pepper    28 non-null     object\n",
            " 40  rice          28 non-null     object\n",
            " 41  salt          28 non-null     object\n",
            " 42  skim_milk     28 non-null     object\n",
            " 43  spinach       28 non-null     object\n",
            " 44  squash        28 non-null     object\n",
            " 45  strawberry    28 non-null     object\n",
            " 46  sugar         28 non-null     object\n",
            " 47  tomato        28 non-null     object\n",
            " 48  tumeric       28 non-null     object\n",
            " 49  vanilla       28 non-null     object\n",
            "dtypes: object(50)\n",
            "memory usage: 11.1+ KB\n"
          ],
          "name": "stdout"
        }
      ]
    },
    {
      "cell_type": "code",
      "metadata": {
        "colab": {
          "base_uri": "https://localhost:8080/"
        },
        "id": "eCNdZr0FSEV-",
        "outputId": "f9287115-3e43-4913-d102-983a8d9c3445"
      },
      "source": [
        "dataset_labels.head()"
      ],
      "execution_count": 7,
      "outputs": [
        {
          "output_type": "execute_result",
          "data": {
            "text/plain": [
              "0    0\n",
              "1    0\n",
              "2    0\n",
              "3    1\n",
              "4    1\n",
              "Name: label, dtype: int64"
            ]
          },
          "metadata": {
            "tags": []
          },
          "execution_count": 7
        }
      ]
    },
    {
      "cell_type": "code",
      "metadata": {
        "colab": {
          "base_uri": "https://localhost:8080/"
        },
        "id": "SLUDbVORX-Z0",
        "outputId": "27846243-65ff-4e04-e024-129f708fcbc4"
      },
      "source": [
        "dataset_labels.dtypes"
      ],
      "execution_count": 8,
      "outputs": [
        {
          "output_type": "execute_result",
          "data": {
            "text/plain": [
              "dtype('int64')"
            ]
          },
          "metadata": {
            "tags": []
          },
          "execution_count": 8
        }
      ]
    },
    {
      "cell_type": "code",
      "metadata": {
        "colab": {
          "base_uri": "https://localhost:8080/"
        },
        "id": "G1zkVQ01DPvx",
        "outputId": "9d50f115-7fe1-4306-8a56-7b6d3691ca7c"
      },
      "source": [
        "# Split dataset.\n",
        "from sklearn.model_selection import train_test_split\n",
        "\n",
        "X_train, X_test, y_train, y_test = train_test_split(dataset, dataset_labels)\n",
        "\n",
        "TRAIN_DATASET_SIZE = y_train.size\n",
        "TEST_DATASET_SIZE = y_test.size\n",
        "\n",
        "print('Training set size:', y_train.size)\n",
        "print('Testing set size:', y_test.size)"
      ],
      "execution_count": 9,
      "outputs": [
        {
          "output_type": "stream",
          "text": [
            "Training set size: 21\n",
            "Testing set size: 7\n"
          ],
          "name": "stdout"
        }
      ]
    },
    {
      "cell_type": "code",
      "metadata": {
        "id": "pYq8ydVOm96A",
        "colab": {
          "base_uri": "https://localhost:8080/",
          "height": 0
        },
        "outputId": "1cc3a832-9ea4-40b8-9f82-be9e297f05f4"
      },
      "source": [
        "# Training data.\n",
        "X_train.head()"
      ],
      "execution_count": 10,
      "outputs": [
        {
          "output_type": "execute_result",
          "data": {
            "text/html": [
              "<div>\n",
              "<style scoped>\n",
              "    .dataframe tbody tr th:only-of-type {\n",
              "        vertical-align: middle;\n",
              "    }\n",
              "\n",
              "    .dataframe tbody tr th {\n",
              "        vertical-align: top;\n",
              "    }\n",
              "\n",
              "    .dataframe thead th {\n",
              "        text-align: right;\n",
              "    }\n",
              "</style>\n",
              "<table border=\"1\" class=\"dataframe\">\n",
              "  <thead>\n",
              "    <tr style=\"text-align: right;\">\n",
              "      <th></th>\n",
              "      <th>consistency</th>\n",
              "      <th>temperature</th>\n",
              "      <th>almond</th>\n",
              "      <th>anchovy</th>\n",
              "      <th>apple</th>\n",
              "      <th>arugula</th>\n",
              "      <th>banana</th>\n",
              "      <th>bay_leaf</th>\n",
              "      <th>bean</th>\n",
              "      <th>bell_pepper</th>\n",
              "      <th>black_pepper</th>\n",
              "      <th>blueberry</th>\n",
              "      <th>butter</th>\n",
              "      <th>carrot</th>\n",
              "      <th>cheese</th>\n",
              "      <th>chickpea</th>\n",
              "      <th>chili</th>\n",
              "      <th>chocolate</th>\n",
              "      <th>cookies</th>\n",
              "      <th>coriander</th>\n",
              "      <th>cranberry</th>\n",
              "      <th>cumin</th>\n",
              "      <th>egg</th>\n",
              "      <th>flour</th>\n",
              "      <th>garlic</th>\n",
              "      <th>ginger</th>\n",
              "      <th>kiwi</th>\n",
              "      <th>mango</th>\n",
              "      <th>mayonnaise</th>\n",
              "      <th>milk</th>\n",
              "      <th>mushroom</th>\n",
              "      <th>oil</th>\n",
              "      <th>okra</th>\n",
              "      <th>olive</th>\n",
              "      <th>onion</th>\n",
              "      <th>pea</th>\n",
              "      <th>peanut</th>\n",
              "      <th>pineapple</th>\n",
              "      <th>potato</th>\n",
              "      <th>red_pepper</th>\n",
              "      <th>rice</th>\n",
              "      <th>salt</th>\n",
              "      <th>skim_milk</th>\n",
              "      <th>spinach</th>\n",
              "      <th>squash</th>\n",
              "      <th>strawberry</th>\n",
              "      <th>sugar</th>\n",
              "      <th>tomato</th>\n",
              "      <th>tumeric</th>\n",
              "      <th>vanilla</th>\n",
              "    </tr>\n",
              "  </thead>\n",
              "  <tbody>\n",
              "    <tr>\n",
              "      <th>13</th>\n",
              "      <td>thick</td>\n",
              "      <td>cool</td>\n",
              "      <td>no</td>\n",
              "      <td>no</td>\n",
              "      <td>no</td>\n",
              "      <td>no</td>\n",
              "      <td>no</td>\n",
              "      <td>no</td>\n",
              "      <td>no</td>\n",
              "      <td>no</td>\n",
              "      <td>no</td>\n",
              "      <td>yes</td>\n",
              "      <td>no</td>\n",
              "      <td>no</td>\n",
              "      <td>no</td>\n",
              "      <td>no</td>\n",
              "      <td>no</td>\n",
              "      <td>no</td>\n",
              "      <td>no</td>\n",
              "      <td>no</td>\n",
              "      <td>no</td>\n",
              "      <td>no</td>\n",
              "      <td>no</td>\n",
              "      <td>no</td>\n",
              "      <td>no</td>\n",
              "      <td>no</td>\n",
              "      <td>yes</td>\n",
              "      <td>yes</td>\n",
              "      <td>no</td>\n",
              "      <td>no</td>\n",
              "      <td>no</td>\n",
              "      <td>no</td>\n",
              "      <td>no</td>\n",
              "      <td>no</td>\n",
              "      <td>no</td>\n",
              "      <td>no</td>\n",
              "      <td>no</td>\n",
              "      <td>yes</td>\n",
              "      <td>no</td>\n",
              "      <td>no</td>\n",
              "      <td>no</td>\n",
              "      <td>no</td>\n",
              "      <td>no</td>\n",
              "      <td>no</td>\n",
              "      <td>no</td>\n",
              "      <td>no</td>\n",
              "      <td>no</td>\n",
              "      <td>no</td>\n",
              "      <td>no</td>\n",
              "      <td>no</td>\n",
              "    </tr>\n",
              "    <tr>\n",
              "      <th>9</th>\n",
              "      <td>thick</td>\n",
              "      <td>cool</td>\n",
              "      <td>no</td>\n",
              "      <td>no</td>\n",
              "      <td>no</td>\n",
              "      <td>no</td>\n",
              "      <td>no</td>\n",
              "      <td>no</td>\n",
              "      <td>no</td>\n",
              "      <td>no</td>\n",
              "      <td>no</td>\n",
              "      <td>no</td>\n",
              "      <td>no</td>\n",
              "      <td>no</td>\n",
              "      <td>no</td>\n",
              "      <td>no</td>\n",
              "      <td>no</td>\n",
              "      <td>yes</td>\n",
              "      <td>no</td>\n",
              "      <td>no</td>\n",
              "      <td>no</td>\n",
              "      <td>no</td>\n",
              "      <td>no</td>\n",
              "      <td>no</td>\n",
              "      <td>no</td>\n",
              "      <td>no</td>\n",
              "      <td>no</td>\n",
              "      <td>no</td>\n",
              "      <td>no</td>\n",
              "      <td>yes</td>\n",
              "      <td>no</td>\n",
              "      <td>no</td>\n",
              "      <td>no</td>\n",
              "      <td>no</td>\n",
              "      <td>no</td>\n",
              "      <td>no</td>\n",
              "      <td>no</td>\n",
              "      <td>no</td>\n",
              "      <td>no</td>\n",
              "      <td>no</td>\n",
              "      <td>no</td>\n",
              "      <td>no</td>\n",
              "      <td>no</td>\n",
              "      <td>no</td>\n",
              "      <td>no</td>\n",
              "      <td>no</td>\n",
              "      <td>no</td>\n",
              "      <td>no</td>\n",
              "      <td>no</td>\n",
              "      <td>yes</td>\n",
              "    </tr>\n",
              "    <tr>\n",
              "      <th>3</th>\n",
              "      <td>solid</td>\n",
              "      <td>warm</td>\n",
              "      <td>no</td>\n",
              "      <td>no</td>\n",
              "      <td>no</td>\n",
              "      <td>yes</td>\n",
              "      <td>no</td>\n",
              "      <td>no</td>\n",
              "      <td>no</td>\n",
              "      <td>yes</td>\n",
              "      <td>no</td>\n",
              "      <td>no</td>\n",
              "      <td>no</td>\n",
              "      <td>no</td>\n",
              "      <td>yes</td>\n",
              "      <td>no</td>\n",
              "      <td>no</td>\n",
              "      <td>no</td>\n",
              "      <td>no</td>\n",
              "      <td>yes</td>\n",
              "      <td>no</td>\n",
              "      <td>no</td>\n",
              "      <td>no</td>\n",
              "      <td>yes</td>\n",
              "      <td>yes</td>\n",
              "      <td>no</td>\n",
              "      <td>no</td>\n",
              "      <td>no</td>\n",
              "      <td>no</td>\n",
              "      <td>no</td>\n",
              "      <td>no</td>\n",
              "      <td>yes</td>\n",
              "      <td>no</td>\n",
              "      <td>no</td>\n",
              "      <td>yes</td>\n",
              "      <td>no</td>\n",
              "      <td>no</td>\n",
              "      <td>no</td>\n",
              "      <td>no</td>\n",
              "      <td>no</td>\n",
              "      <td>no</td>\n",
              "      <td>yes</td>\n",
              "      <td>no</td>\n",
              "      <td>yes</td>\n",
              "      <td>no</td>\n",
              "      <td>no</td>\n",
              "      <td>yes</td>\n",
              "      <td>yes</td>\n",
              "      <td>no</td>\n",
              "      <td>no</td>\n",
              "    </tr>\n",
              "    <tr>\n",
              "      <th>7</th>\n",
              "      <td>thick</td>\n",
              "      <td>cool</td>\n",
              "      <td>no</td>\n",
              "      <td>no</td>\n",
              "      <td>no</td>\n",
              "      <td>no</td>\n",
              "      <td>no</td>\n",
              "      <td>no</td>\n",
              "      <td>no</td>\n",
              "      <td>no</td>\n",
              "      <td>no</td>\n",
              "      <td>yes</td>\n",
              "      <td>no</td>\n",
              "      <td>no</td>\n",
              "      <td>no</td>\n",
              "      <td>no</td>\n",
              "      <td>no</td>\n",
              "      <td>no</td>\n",
              "      <td>no</td>\n",
              "      <td>no</td>\n",
              "      <td>no</td>\n",
              "      <td>no</td>\n",
              "      <td>no</td>\n",
              "      <td>no</td>\n",
              "      <td>no</td>\n",
              "      <td>no</td>\n",
              "      <td>no</td>\n",
              "      <td>no</td>\n",
              "      <td>no</td>\n",
              "      <td>no</td>\n",
              "      <td>no</td>\n",
              "      <td>no</td>\n",
              "      <td>no</td>\n",
              "      <td>no</td>\n",
              "      <td>no</td>\n",
              "      <td>no</td>\n",
              "      <td>no</td>\n",
              "      <td>yes</td>\n",
              "      <td>no</td>\n",
              "      <td>no</td>\n",
              "      <td>no</td>\n",
              "      <td>no</td>\n",
              "      <td>no</td>\n",
              "      <td>no</td>\n",
              "      <td>no</td>\n",
              "      <td>yes</td>\n",
              "      <td>no</td>\n",
              "      <td>no</td>\n",
              "      <td>no</td>\n",
              "      <td>no</td>\n",
              "    </tr>\n",
              "    <tr>\n",
              "      <th>1</th>\n",
              "      <td>solid</td>\n",
              "      <td>warm</td>\n",
              "      <td>no</td>\n",
              "      <td>yes</td>\n",
              "      <td>no</td>\n",
              "      <td>no</td>\n",
              "      <td>no</td>\n",
              "      <td>no</td>\n",
              "      <td>no</td>\n",
              "      <td>yes</td>\n",
              "      <td>no</td>\n",
              "      <td>no</td>\n",
              "      <td>no</td>\n",
              "      <td>no</td>\n",
              "      <td>yes</td>\n",
              "      <td>no</td>\n",
              "      <td>no</td>\n",
              "      <td>no</td>\n",
              "      <td>no</td>\n",
              "      <td>no</td>\n",
              "      <td>no</td>\n",
              "      <td>no</td>\n",
              "      <td>no</td>\n",
              "      <td>yes</td>\n",
              "      <td>yes</td>\n",
              "      <td>no</td>\n",
              "      <td>no</td>\n",
              "      <td>no</td>\n",
              "      <td>yes</td>\n",
              "      <td>no</td>\n",
              "      <td>no</td>\n",
              "      <td>yes</td>\n",
              "      <td>no</td>\n",
              "      <td>yes</td>\n",
              "      <td>yes</td>\n",
              "      <td>no</td>\n",
              "      <td>no</td>\n",
              "      <td>no</td>\n",
              "      <td>no</td>\n",
              "      <td>no</td>\n",
              "      <td>no</td>\n",
              "      <td>yes</td>\n",
              "      <td>no</td>\n",
              "      <td>yes</td>\n",
              "      <td>no</td>\n",
              "      <td>no</td>\n",
              "      <td>yes</td>\n",
              "      <td>no</td>\n",
              "      <td>no</td>\n",
              "      <td>no</td>\n",
              "    </tr>\n",
              "  </tbody>\n",
              "</table>\n",
              "</div>"
            ],
            "text/plain": [
              "   consistency temperature almond anchovy  ... sugar tomato tumeric vanilla\n",
              "13       thick        cool     no      no  ...    no     no      no      no\n",
              "9        thick        cool     no      no  ...    no     no      no     yes\n",
              "3        solid        warm     no      no  ...   yes    yes      no      no\n",
              "7        thick        cool     no      no  ...    no     no      no      no\n",
              "1        solid        warm     no     yes  ...   yes     no      no      no\n",
              "\n",
              "[5 rows x 50 columns]"
            ]
          },
          "metadata": {
            "tags": []
          },
          "execution_count": 10
        }
      ]
    },
    {
      "cell_type": "code",
      "metadata": {
        "colab": {
          "base_uri": "https://localhost:8080/",
          "height": 0
        },
        "id": "nk4Hz3tx3MjX",
        "outputId": "3fef8eb7-41c0-451c-a656-524dfc3ac40b"
      },
      "source": [
        "X_train.describe()"
      ],
      "execution_count": 11,
      "outputs": [
        {
          "output_type": "execute_result",
          "data": {
            "text/html": [
              "<div>\n",
              "<style scoped>\n",
              "    .dataframe tbody tr th:only-of-type {\n",
              "        vertical-align: middle;\n",
              "    }\n",
              "\n",
              "    .dataframe tbody tr th {\n",
              "        vertical-align: top;\n",
              "    }\n",
              "\n",
              "    .dataframe thead th {\n",
              "        text-align: right;\n",
              "    }\n",
              "</style>\n",
              "<table border=\"1\" class=\"dataframe\">\n",
              "  <thead>\n",
              "    <tr style=\"text-align: right;\">\n",
              "      <th></th>\n",
              "      <th>consistency</th>\n",
              "      <th>temperature</th>\n",
              "      <th>almond</th>\n",
              "      <th>anchovy</th>\n",
              "      <th>apple</th>\n",
              "      <th>arugula</th>\n",
              "      <th>banana</th>\n",
              "      <th>bay_leaf</th>\n",
              "      <th>bean</th>\n",
              "      <th>bell_pepper</th>\n",
              "      <th>black_pepper</th>\n",
              "      <th>blueberry</th>\n",
              "      <th>butter</th>\n",
              "      <th>carrot</th>\n",
              "      <th>cheese</th>\n",
              "      <th>chickpea</th>\n",
              "      <th>chili</th>\n",
              "      <th>chocolate</th>\n",
              "      <th>cookies</th>\n",
              "      <th>coriander</th>\n",
              "      <th>cranberry</th>\n",
              "      <th>cumin</th>\n",
              "      <th>egg</th>\n",
              "      <th>flour</th>\n",
              "      <th>garlic</th>\n",
              "      <th>ginger</th>\n",
              "      <th>kiwi</th>\n",
              "      <th>mango</th>\n",
              "      <th>mayonnaise</th>\n",
              "      <th>milk</th>\n",
              "      <th>mushroom</th>\n",
              "      <th>oil</th>\n",
              "      <th>okra</th>\n",
              "      <th>olive</th>\n",
              "      <th>onion</th>\n",
              "      <th>pea</th>\n",
              "      <th>peanut</th>\n",
              "      <th>pineapple</th>\n",
              "      <th>potato</th>\n",
              "      <th>red_pepper</th>\n",
              "      <th>rice</th>\n",
              "      <th>salt</th>\n",
              "      <th>skim_milk</th>\n",
              "      <th>spinach</th>\n",
              "      <th>squash</th>\n",
              "      <th>strawberry</th>\n",
              "      <th>sugar</th>\n",
              "      <th>tomato</th>\n",
              "      <th>tumeric</th>\n",
              "      <th>vanilla</th>\n",
              "    </tr>\n",
              "  </thead>\n",
              "  <tbody>\n",
              "    <tr>\n",
              "      <th>count</th>\n",
              "      <td>21</td>\n",
              "      <td>21</td>\n",
              "      <td>21</td>\n",
              "      <td>21</td>\n",
              "      <td>21</td>\n",
              "      <td>21</td>\n",
              "      <td>21</td>\n",
              "      <td>21</td>\n",
              "      <td>21</td>\n",
              "      <td>21</td>\n",
              "      <td>21</td>\n",
              "      <td>21</td>\n",
              "      <td>21</td>\n",
              "      <td>21</td>\n",
              "      <td>21</td>\n",
              "      <td>21</td>\n",
              "      <td>21</td>\n",
              "      <td>21</td>\n",
              "      <td>21</td>\n",
              "      <td>21</td>\n",
              "      <td>21</td>\n",
              "      <td>21</td>\n",
              "      <td>21</td>\n",
              "      <td>21</td>\n",
              "      <td>21</td>\n",
              "      <td>21</td>\n",
              "      <td>21</td>\n",
              "      <td>21</td>\n",
              "      <td>21</td>\n",
              "      <td>21</td>\n",
              "      <td>21</td>\n",
              "      <td>21</td>\n",
              "      <td>21</td>\n",
              "      <td>21</td>\n",
              "      <td>21</td>\n",
              "      <td>21</td>\n",
              "      <td>21</td>\n",
              "      <td>21</td>\n",
              "      <td>21</td>\n",
              "      <td>21</td>\n",
              "      <td>21</td>\n",
              "      <td>21</td>\n",
              "      <td>21</td>\n",
              "      <td>21</td>\n",
              "      <td>21</td>\n",
              "      <td>21</td>\n",
              "      <td>21</td>\n",
              "      <td>21</td>\n",
              "      <td>21</td>\n",
              "      <td>21</td>\n",
              "    </tr>\n",
              "    <tr>\n",
              "      <th>unique</th>\n",
              "      <td>5</td>\n",
              "      <td>2</td>\n",
              "      <td>1</td>\n",
              "      <td>2</td>\n",
              "      <td>1</td>\n",
              "      <td>2</td>\n",
              "      <td>2</td>\n",
              "      <td>2</td>\n",
              "      <td>2</td>\n",
              "      <td>2</td>\n",
              "      <td>2</td>\n",
              "      <td>2</td>\n",
              "      <td>2</td>\n",
              "      <td>2</td>\n",
              "      <td>2</td>\n",
              "      <td>2</td>\n",
              "      <td>2</td>\n",
              "      <td>2</td>\n",
              "      <td>2</td>\n",
              "      <td>2</td>\n",
              "      <td>1</td>\n",
              "      <td>2</td>\n",
              "      <td>2</td>\n",
              "      <td>2</td>\n",
              "      <td>2</td>\n",
              "      <td>2</td>\n",
              "      <td>2</td>\n",
              "      <td>2</td>\n",
              "      <td>2</td>\n",
              "      <td>2</td>\n",
              "      <td>2</td>\n",
              "      <td>2</td>\n",
              "      <td>1</td>\n",
              "      <td>2</td>\n",
              "      <td>2</td>\n",
              "      <td>1</td>\n",
              "      <td>2</td>\n",
              "      <td>2</td>\n",
              "      <td>2</td>\n",
              "      <td>1</td>\n",
              "      <td>2</td>\n",
              "      <td>2</td>\n",
              "      <td>2</td>\n",
              "      <td>2</td>\n",
              "      <td>2</td>\n",
              "      <td>2</td>\n",
              "      <td>2</td>\n",
              "      <td>2</td>\n",
              "      <td>2</td>\n",
              "      <td>2</td>\n",
              "    </tr>\n",
              "    <tr>\n",
              "      <th>top</th>\n",
              "      <td>thick</td>\n",
              "      <td>cool</td>\n",
              "      <td>no</td>\n",
              "      <td>no</td>\n",
              "      <td>no</td>\n",
              "      <td>no</td>\n",
              "      <td>no</td>\n",
              "      <td>no</td>\n",
              "      <td>no</td>\n",
              "      <td>no</td>\n",
              "      <td>no</td>\n",
              "      <td>no</td>\n",
              "      <td>no</td>\n",
              "      <td>no</td>\n",
              "      <td>no</td>\n",
              "      <td>no</td>\n",
              "      <td>no</td>\n",
              "      <td>no</td>\n",
              "      <td>no</td>\n",
              "      <td>no</td>\n",
              "      <td>no</td>\n",
              "      <td>no</td>\n",
              "      <td>no</td>\n",
              "      <td>no</td>\n",
              "      <td>no</td>\n",
              "      <td>no</td>\n",
              "      <td>no</td>\n",
              "      <td>no</td>\n",
              "      <td>no</td>\n",
              "      <td>no</td>\n",
              "      <td>no</td>\n",
              "      <td>no</td>\n",
              "      <td>no</td>\n",
              "      <td>no</td>\n",
              "      <td>no</td>\n",
              "      <td>no</td>\n",
              "      <td>no</td>\n",
              "      <td>no</td>\n",
              "      <td>no</td>\n",
              "      <td>no</td>\n",
              "      <td>no</td>\n",
              "      <td>yes</td>\n",
              "      <td>no</td>\n",
              "      <td>no</td>\n",
              "      <td>no</td>\n",
              "      <td>no</td>\n",
              "      <td>no</td>\n",
              "      <td>no</td>\n",
              "      <td>no</td>\n",
              "      <td>no</td>\n",
              "    </tr>\n",
              "    <tr>\n",
              "      <th>freq</th>\n",
              "      <td>10</td>\n",
              "      <td>11</td>\n",
              "      <td>21</td>\n",
              "      <td>20</td>\n",
              "      <td>21</td>\n",
              "      <td>20</td>\n",
              "      <td>16</td>\n",
              "      <td>20</td>\n",
              "      <td>20</td>\n",
              "      <td>17</td>\n",
              "      <td>17</td>\n",
              "      <td>18</td>\n",
              "      <td>18</td>\n",
              "      <td>20</td>\n",
              "      <td>15</td>\n",
              "      <td>20</td>\n",
              "      <td>19</td>\n",
              "      <td>19</td>\n",
              "      <td>20</td>\n",
              "      <td>18</td>\n",
              "      <td>21</td>\n",
              "      <td>20</td>\n",
              "      <td>20</td>\n",
              "      <td>14</td>\n",
              "      <td>12</td>\n",
              "      <td>20</td>\n",
              "      <td>18</td>\n",
              "      <td>19</td>\n",
              "      <td>20</td>\n",
              "      <td>14</td>\n",
              "      <td>20</td>\n",
              "      <td>14</td>\n",
              "      <td>21</td>\n",
              "      <td>19</td>\n",
              "      <td>12</td>\n",
              "      <td>21</td>\n",
              "      <td>20</td>\n",
              "      <td>18</td>\n",
              "      <td>19</td>\n",
              "      <td>21</td>\n",
              "      <td>20</td>\n",
              "      <td>11</td>\n",
              "      <td>20</td>\n",
              "      <td>19</td>\n",
              "      <td>20</td>\n",
              "      <td>16</td>\n",
              "      <td>15</td>\n",
              "      <td>17</td>\n",
              "      <td>19</td>\n",
              "      <td>15</td>\n",
              "    </tr>\n",
              "  </tbody>\n",
              "</table>\n",
              "</div>"
            ],
            "text/plain": [
              "       consistency temperature almond anchovy  ... sugar tomato tumeric vanilla\n",
              "count           21          21     21      21  ...    21     21      21      21\n",
              "unique           5           2      1       2  ...     2      2       2       2\n",
              "top          thick        cool     no      no  ...    no     no      no      no\n",
              "freq            10          11     21      20  ...    15     17      19      15\n",
              "\n",
              "[4 rows x 50 columns]"
            ]
          },
          "metadata": {
            "tags": []
          },
          "execution_count": 11
        }
      ]
    },
    {
      "cell_type": "code",
      "metadata": {
        "colab": {
          "base_uri": "https://localhost:8080/",
          "height": 0
        },
        "id": "YfWgXWbfEUcz",
        "outputId": "bfc50c23-d5a1-4c28-a2a7-662df2ffeac1"
      },
      "source": [
        "X_train.consistency.hist()"
      ],
      "execution_count": 12,
      "outputs": [
        {
          "output_type": "execute_result",
          "data": {
            "text/plain": [
              "<matplotlib.axes._subplots.AxesSubplot at 0x7f1767719320>"
            ]
          },
          "metadata": {
            "tags": []
          },
          "execution_count": 12
        },
        {
          "output_type": "display_data",
          "data": {
            "image/png": "[encoded data removed]",
            "text/plain": [
              "<Figure size 432x288 with 1 Axes>"
            ]
          },
          "metadata": {
            "tags": [],
            "needs_background": "light"
          }
        }
      ]
    },
    {
      "cell_type": "code",
      "metadata": {
        "colab": {
          "base_uri": "https://localhost:8080/",
          "height": 0
        },
        "id": "ReVYcuPgEcaU",
        "outputId": "8bdf920c-b09f-46aa-ba41-c5c61e561740"
      },
      "source": [
        "X_train.temperature.hist()"
      ],
      "execution_count": 13,
      "outputs": [
        {
          "output_type": "execute_result",
          "data": {
            "text/plain": [
              "<matplotlib.axes._subplots.AxesSubplot at 0x7f1767663438>"
            ]
          },
          "metadata": {
            "tags": []
          },
          "execution_count": 13
        },
        {
          "output_type": "display_data",
          "data": {
            "image/png": "[encoded data removed]",
            "text/plain": [
              "<Figure size 432x288 with 1 Axes>"
            ]
          },
          "metadata": {
            "tags": [],
            "needs_background": "light"
          }
        }
      ]
    },
    {
      "cell_type": "code",
      "metadata": {
        "id": "q6s_D0Rc5_Bu",
        "colab": {
          "base_uri": "https://localhost:8080/"
        },
        "outputId": "ac03ff15-8d1a-4942-fe20-569b752f1e30"
      },
      "source": [
        "# Feature columns\n",
        "feature_columns = []\n",
        "\n",
        "for name in feature_names:\n",
        "  vocabulary = dataset[name].unique()\n",
        "  feature_columns.append(\n",
        "      tf.feature_column.indicator_column(\n",
        "          tf.feature_column.categorical_column_with_vocabulary_list(name, vocabulary)))\n",
        "\n",
        "print('Feature columns:')\n",
        "feature_columns"
      ],
      "execution_count": 14,
      "outputs": [
        {
          "output_type": "stream",
          "text": [
            "Feature columns:\n"
          ],
          "name": "stdout"
        },
        {
          "output_type": "execute_result",
          "data": {
            "text/plain": [
              "[IndicatorColumn(categorical_column=VocabularyListCategoricalColumn(key='consistency', vocabulary_list=('solid', 'chewy', 'thick', 'mashed', 'liquid', 'crunchy'), dtype=tf.string, default_value=-1, num_oov_buckets=0)),\n",
              " IndicatorColumn(categorical_column=VocabularyListCategoricalColumn(key='temperature', vocabulary_list=('warm', 'cool', 'normal'), dtype=tf.string, default_value=-1, num_oov_buckets=0)),\n",
              " IndicatorColumn(categorical_column=VocabularyListCategoricalColumn(key='almond', vocabulary_list=('no', 'yes'), dtype=tf.string, default_value=-1, num_oov_buckets=0)),\n",
              " IndicatorColumn(categorical_column=VocabularyListCategoricalColumn(key='anchovy', vocabulary_list=('no', 'yes'), dtype=tf.string, default_value=-1, num_oov_buckets=0)),\n",
              " IndicatorColumn(categorical_column=VocabularyListCategoricalColumn(key='apple', vocabulary_list=('no', 'yes'), dtype=tf.string, default_value=-1, num_oov_buckets=0)),\n",
              " IndicatorColumn(categorical_column=VocabularyListCategoricalColumn(key='arugula', vocabulary_list=('no', 'yes'), dtype=tf.string, default_value=-1, num_oov_buckets=0)),\n",
              " IndicatorColumn(categorical_column=VocabularyListCategoricalColumn(key='banana', vocabulary_list=('no', 'yes'), dtype=tf.string, default_value=-1, num_oov_buckets=0)),\n",
              " IndicatorColumn(categorical_column=VocabularyListCategoricalColumn(key='bay_leaf', vocabulary_list=('no', 'yes'), dtype=tf.string, default_value=-1, num_oov_buckets=0)),\n",
              " IndicatorColumn(categorical_column=VocabularyListCategoricalColumn(key='bean', vocabulary_list=('no', 'yes'), dtype=tf.string, default_value=-1, num_oov_buckets=0)),\n",
              " IndicatorColumn(categorical_column=VocabularyListCategoricalColumn(key='bell_pepper', vocabulary_list=('yes', 'no'), dtype=tf.string, default_value=-1, num_oov_buckets=0)),\n",
              " IndicatorColumn(categorical_column=VocabularyListCategoricalColumn(key='black_pepper', vocabulary_list=('no', 'yes'), dtype=tf.string, default_value=-1, num_oov_buckets=0)),\n",
              " IndicatorColumn(categorical_column=VocabularyListCategoricalColumn(key='blueberry', vocabulary_list=('no', 'yes'), dtype=tf.string, default_value=-1, num_oov_buckets=0)),\n",
              " IndicatorColumn(categorical_column=VocabularyListCategoricalColumn(key='butter', vocabulary_list=('no', 'yes'), dtype=tf.string, default_value=-1, num_oov_buckets=0)),\n",
              " IndicatorColumn(categorical_column=VocabularyListCategoricalColumn(key='carrot', vocabulary_list=('no', 'yes'), dtype=tf.string, default_value=-1, num_oov_buckets=0)),\n",
              " IndicatorColumn(categorical_column=VocabularyListCategoricalColumn(key='cheese', vocabulary_list=('yes', 'no'), dtype=tf.string, default_value=-1, num_oov_buckets=0)),\n",
              " IndicatorColumn(categorical_column=VocabularyListCategoricalColumn(key='chickpea', vocabulary_list=('no', 'yes'), dtype=tf.string, default_value=-1, num_oov_buckets=0)),\n",
              " IndicatorColumn(categorical_column=VocabularyListCategoricalColumn(key='chili', vocabulary_list=('no', 'yes'), dtype=tf.string, default_value=-1, num_oov_buckets=0)),\n",
              " IndicatorColumn(categorical_column=VocabularyListCategoricalColumn(key='chocolate', vocabulary_list=('no', 'yes'), dtype=tf.string, default_value=-1, num_oov_buckets=0)),\n",
              " IndicatorColumn(categorical_column=VocabularyListCategoricalColumn(key='cookies', vocabulary_list=('no', 'yes'), dtype=tf.string, default_value=-1, num_oov_buckets=0)),\n",
              " IndicatorColumn(categorical_column=VocabularyListCategoricalColumn(key='coriander', vocabulary_list=('no', 'yes'), dtype=tf.string, default_value=-1, num_oov_buckets=0)),\n",
              " IndicatorColumn(categorical_column=VocabularyListCategoricalColumn(key='cranberry', vocabulary_list=('no', 'yes'), dtype=tf.string, default_value=-1, num_oov_buckets=0)),\n",
              " IndicatorColumn(categorical_column=VocabularyListCategoricalColumn(key='cumin', vocabulary_list=('no', 'yes'), dtype=tf.string, default_value=-1, num_oov_buckets=0)),\n",
              " IndicatorColumn(categorical_column=VocabularyListCategoricalColumn(key='egg', vocabulary_list=('no', 'yes'), dtype=tf.string, default_value=-1, num_oov_buckets=0)),\n",
              " IndicatorColumn(categorical_column=VocabularyListCategoricalColumn(key='flour', vocabulary_list=('yes', 'no'), dtype=tf.string, default_value=-1, num_oov_buckets=0)),\n",
              " IndicatorColumn(categorical_column=VocabularyListCategoricalColumn(key='garlic', vocabulary_list=('yes', 'no'), dtype=tf.string, default_value=-1, num_oov_buckets=0)),\n",
              " IndicatorColumn(categorical_column=VocabularyListCategoricalColumn(key='ginger', vocabulary_list=('no', 'yes'), dtype=tf.string, default_value=-1, num_oov_buckets=0)),\n",
              " IndicatorColumn(categorical_column=VocabularyListCategoricalColumn(key='kiwi', vocabulary_list=('no', 'yes'), dtype=tf.string, default_value=-1, num_oov_buckets=0)),\n",
              " IndicatorColumn(categorical_column=VocabularyListCategoricalColumn(key='mango', vocabulary_list=('no', 'yes'), dtype=tf.string, default_value=-1, num_oov_buckets=0)),\n",
              " IndicatorColumn(categorical_column=VocabularyListCategoricalColumn(key='mayonnaise', vocabulary_list=('no', 'yes'), dtype=tf.string, default_value=-1, num_oov_buckets=0)),\n",
              " IndicatorColumn(categorical_column=VocabularyListCategoricalColumn(key='milk', vocabulary_list=('no', 'yes'), dtype=tf.string, default_value=-1, num_oov_buckets=0)),\n",
              " IndicatorColumn(categorical_column=VocabularyListCategoricalColumn(key='mushroom', vocabulary_list=('no', 'yes'), dtype=tf.string, default_value=-1, num_oov_buckets=0)),\n",
              " IndicatorColumn(categorical_column=VocabularyListCategoricalColumn(key='oil', vocabulary_list=('yes', 'no'), dtype=tf.string, default_value=-1, num_oov_buckets=0)),\n",
              " IndicatorColumn(categorical_column=VocabularyListCategoricalColumn(key='okra', vocabulary_list=('no', 'yes'), dtype=tf.string, default_value=-1, num_oov_buckets=0)),\n",
              " IndicatorColumn(categorical_column=VocabularyListCategoricalColumn(key='olive', vocabulary_list=('yes', 'no'), dtype=tf.string, default_value=-1, num_oov_buckets=0)),\n",
              " IndicatorColumn(categorical_column=VocabularyListCategoricalColumn(key='onion', vocabulary_list=('yes', 'no'), dtype=tf.string, default_value=-1, num_oov_buckets=0)),\n",
              " IndicatorColumn(categorical_column=VocabularyListCategoricalColumn(key='pea', vocabulary_list=('no', 'yes'), dtype=tf.string, default_value=-1, num_oov_buckets=0)),\n",
              " IndicatorColumn(categorical_column=VocabularyListCategoricalColumn(key='peanut', vocabulary_list=('no', 'yes'), dtype=tf.string, default_value=-1, num_oov_buckets=0)),\n",
              " IndicatorColumn(categorical_column=VocabularyListCategoricalColumn(key='pineapple', vocabulary_list=('no', 'yes'), dtype=tf.string, default_value=-1, num_oov_buckets=0)),\n",
              " IndicatorColumn(categorical_column=VocabularyListCategoricalColumn(key='potato', vocabulary_list=('no', 'yes'), dtype=tf.string, default_value=-1, num_oov_buckets=0)),\n",
              " IndicatorColumn(categorical_column=VocabularyListCategoricalColumn(key='red_pepper', vocabulary_list=('no', 'yes'), dtype=tf.string, default_value=-1, num_oov_buckets=0)),\n",
              " IndicatorColumn(categorical_column=VocabularyListCategoricalColumn(key='rice', vocabulary_list=('no', 'yes'), dtype=tf.string, default_value=-1, num_oov_buckets=0)),\n",
              " IndicatorColumn(categorical_column=VocabularyListCategoricalColumn(key='salt', vocabulary_list=('yes', 'no'), dtype=tf.string, default_value=-1, num_oov_buckets=0)),\n",
              " IndicatorColumn(categorical_column=VocabularyListCategoricalColumn(key='skim_milk', vocabulary_list=('no', 'yes'), dtype=tf.string, default_value=-1, num_oov_buckets=0)),\n",
              " IndicatorColumn(categorical_column=VocabularyListCategoricalColumn(key='spinach', vocabulary_list=('no', 'yes'), dtype=tf.string, default_value=-1, num_oov_buckets=0)),\n",
              " IndicatorColumn(categorical_column=VocabularyListCategoricalColumn(key='squash', vocabulary_list=('no', 'yes'), dtype=tf.string, default_value=-1, num_oov_buckets=0)),\n",
              " IndicatorColumn(categorical_column=VocabularyListCategoricalColumn(key='strawberry', vocabulary_list=('no', 'yes'), dtype=tf.string, default_value=-1, num_oov_buckets=0)),\n",
              " IndicatorColumn(categorical_column=VocabularyListCategoricalColumn(key='sugar', vocabulary_list=('yes', 'no'), dtype=tf.string, default_value=-1, num_oov_buckets=0)),\n",
              " IndicatorColumn(categorical_column=VocabularyListCategoricalColumn(key='tomato', vocabulary_list=('yes', 'no'), dtype=tf.string, default_value=-1, num_oov_buckets=0)),\n",
              " IndicatorColumn(categorical_column=VocabularyListCategoricalColumn(key='tumeric', vocabulary_list=('no', 'yes'), dtype=tf.string, default_value=-1, num_oov_buckets=0)),\n",
              " IndicatorColumn(categorical_column=VocabularyListCategoricalColumn(key='vanilla', vocabulary_list=('no', 'yes'), dtype=tf.string, default_value=-1, num_oov_buckets=0))]"
            ]
          },
          "metadata": {
            "tags": []
          },
          "execution_count": 14
        }
      ]
    },
    {
      "cell_type": "code",
      "metadata": {
        "id": "eLWhgFAo7KuL"
      },
      "source": [
        "# Input functions\n",
        "def make_input_fn(X, y, num_epochs=None, shuffle=True):\n",
        "  def input_fn():\n",
        "    dataset = tf.data.Dataset.from_tensor_slices((X.to_dict(orient='list'), y))\n",
        "    \n",
        "    if shuffle:\n",
        "      dataset = dataset.shuffle(TRAIN_DATASET_SIZE)\n",
        "  \n",
        "    # For training, cycle thru dataset as many times as need (n_epochs=None).\n",
        "    dataset = (dataset\n",
        "      .repeat(num_epochs)\n",
        "      .batch(TRAIN_DATASET_SIZE))\n",
        "    \n",
        "    return dataset\n",
        "  \n",
        "  return input_fn\n",
        "\n",
        "def make_in_memory_input_fn(X, y):\n",
        "  \"\"\"\n",
        "  Input function for in-memory training. In-memory input_fn does not use\n",
        "  batching.\n",
        "  \"\"\"\n",
        "  y = np.expand_dims(y, axis=1)\n",
        "\n",
        "  def input_fn():\n",
        "    return dict(X), y\n",
        "\n",
        "  return input_fn\n",
        "\n",
        "train_input_fn = make_input_fn(X_train, y_train)\n",
        "in_memory_train_input_fn = make_in_memory_input_fn(X_train, y_train)\n",
        "eval_input_fn = make_input_fn(X_test, y_test, num_epochs=1, shuffle=False)\n"
      ],
      "execution_count": 15,
      "outputs": []
    },
    {
      "cell_type": "code",
      "metadata": {
        "id": "blXs1jfyzaQ6"
      },
      "source": [
        "def train(model_class, train_args=None, print_results=True, **model_args):\n",
        "  \"\"\"Trains a TensorFlow model.\"\"\"\n",
        "  start_time = time()\n",
        "  model = model_class(**model_args, feature_columns=feature_columns)\n",
        "  train_args = train_args if train_args is not None else {'max_steps': 100}\n",
        "  default_input_fn = in_memory_train_input_fn if model_args.get('train_in_memory') else train_input_fn\n",
        "  input_fn = train_args.pop('input_fn', default_input_fn)\n",
        "\n",
        "  model.train(input_fn, **train_args)\n",
        "\n",
        "  model_result = model.evaluate(eval_input_fn)\n",
        "  exec_time = round(time() - start_time, 3)\n",
        "\n",
        "  if print_results:\n",
        "    clear_output()\n",
        "    print('Execution time:', exec_time)\n",
        "    print('Accuracy:', model_result['accuracy'])\n",
        "    print(model_result)\n",
        "  \n",
        "  return model\n",
        "\n",
        "\n",
        "def train_dnn(**args):\n",
        "  \"\"\"Helper function to train DNN.\"\"\"\n",
        "  return train(\n",
        "    tf.estimator.DNNClassifier,\n",
        "    train_args={'steps': 5000},\n",
        "    **args,\n",
        "  )\n"
      ],
      "execution_count": 16,
      "outputs": []
    },
    {
      "cell_type": "markdown",
      "metadata": {
        "id": "dMkcbqZ3muum"
      },
      "source": [
        "# [Linear Classifier](https://www.tensorflow.org/tutorials/estimator/linear)\n"
      ]
    },
    {
      "cell_type": "markdown",
      "metadata": {
        "id": "3eC4xfnkbAqa"
      },
      "source": [
        "## Estimators"
      ]
    },
    {
      "cell_type": "markdown",
      "metadata": {
        "id": "7X0CLlcU3MeV"
      },
      "source": [
        "### Linear estimator with default values."
      ]
    },
    {
      "cell_type": "code",
      "metadata": {
        "colab": {
          "base_uri": "https://localhost:8080/"
        },
        "id": "JW-1mFJIbMlA",
        "outputId": "86e8e880-269a-405a-cc7f-f44598ba6f69"
      },
      "source": [
        "linear_est = train(tf.estimator.LinearClassifier)"
      ],
      "execution_count": null,
      "outputs": [
        {
          "output_type": "stream",
          "text": [
            "Execution time: 14.159\n",
            "Accuracy: 0.42857143\n",
            "{'accuracy': 0.42857143, 'accuracy_baseline': 0.85714287, 'auc': 0.33333334, 'auc_precision_recall': 0.8587837, 'average_loss': 0.80180126, 'label/mean': 0.85714287, 'loss': 0.80180126, 'precision': 1.0, 'prediction/mean': 0.4733431, 'recall': 0.33333334, 'global_step': 100}\n"
          ],
          "name": "stdout"
        }
      ]
    },
    {
      "cell_type": "markdown",
      "metadata": {
        "id": "CKc_8xK13PkS"
      },
      "source": [
        "### Linear estimator using the FTRL optimizer with regularization."
      ]
    },
    {
      "cell_type": "code",
      "metadata": {
        "colab": {
          "base_uri": "https://localhost:8080/"
        },
        "id": "BQeAnge8TDLm",
        "outputId": "4786490c-424f-4f90-a8a8-986aa7dbaeae"
      },
      "source": [
        "train(tf.estimator.LinearClassifier, optimizer=tf.keras.optimizers.Ftrl(\n",
        "  learning_rate=0.1,\n",
        "  l1_regularization_strength=0.001,\n",
        "))"
      ],
      "execution_count": null,
      "outputs": [
        {
          "output_type": "stream",
          "text": [
            "Execution time: 15.782\n",
            "Accuracy: 0.42857143\n",
            "{'accuracy': 0.42857143, 'accuracy_baseline': 0.85714287, 'auc': 0.5, 'auc_precision_recall': 0.9067307, 'average_loss': 0.77234936, 'label/mean': 0.85714287, 'loss': 0.77234936, 'precision': 1.0, 'prediction/mean': 0.47143036, 'recall': 0.33333334, 'global_step': 100}\n"
          ],
          "name": "stdout"
        },
        {
          "output_type": "execute_result",
          "data": {
            "text/plain": [
              "<tensorflow_estimator.python.estimator.canned.linear.LinearClassifierV2 at 0x7f6ba33f9518>"
            ]
          },
          "metadata": {
            "tags": []
          },
          "execution_count": 337
        }
      ]
    },
    {
      "cell_type": "markdown",
      "metadata": {
        "id": "b35JpJjl3qGi"
      },
      "source": [
        "### Linear estimator using an optimizer with a learning rate decay."
      ]
    },
    {
      "cell_type": "code",
      "metadata": {
        "colab": {
          "base_uri": "https://localhost:8080/"
        },
        "id": "pQO292j38XyF",
        "outputId": "8df9a3d2-29cb-4657-8a0c-64a15fd583d5"
      },
      "source": [
        "train(\n",
        "  tf.estimator.LinearClassifier,\n",
        "  optimizer=lambda: tf.keras.optimizers.Ftrl(\n",
        "    learning_rate=tf.keras.optimizers.schedules.ExponentialDecay(\n",
        "      decay_rate=0.96,\n",
        "      decay_steps=10000,\n",
        "      initial_learning_rate=0.1,\n",
        "      name=None,\n",
        "      staircase=False,\n",
        "    )\n",
        "  )\n",
        ")"
      ],
      "execution_count": null,
      "outputs": [
        {
          "output_type": "stream",
          "text": [
            "Execution time: 15.263\n",
            "Accuracy: 0.42857143\n",
            "{'accuracy': 0.42857143, 'accuracy_baseline': 0.85714287, 'auc': 0.5, 'auc_precision_recall': 0.9067307, 'average_loss': 0.772069, 'label/mean': 0.85714287, 'loss': 0.772069, 'precision': 1.0, 'prediction/mean': 0.471476, 'recall': 0.33333334, 'global_step': 100}\n"
          ],
          "name": "stdout"
        },
        {
          "output_type": "execute_result",
          "data": {
            "text/plain": [
              "<tensorflow_estimator.python.estimator.canned.linear.LinearClassifierV2 at 0x7f6bb87227b8>"
            ]
          },
          "metadata": {
            "tags": []
          },
          "execution_count": 338
        }
      ]
    },
    {
      "cell_type": "markdown",
      "metadata": {
        "id": "kSjlEKD4eK1_"
      },
      "source": [
        "## Analysis"
      ]
    },
    {
      "cell_type": "code",
      "metadata": {
        "id": "g3ZChiCvkYuj",
        "colab": {
          "base_uri": "https://localhost:8080/"
        },
        "outputId": "e8b7a978-bf30-469a-f3bc-981917741290"
      },
      "source": [
        "# Predicted probabilities.\n",
        "linear_est_predictions = list(linear_est.predict(eval_input_fn))\n",
        "linear_est_probabilities = pd.Series([pred['probabilities'][1] for pred in linear_est_predictions])\n",
        "\n",
        "linear_est_probabilities.plot(kind='hist', bins=20, title='predicted probabilities')"
      ],
      "execution_count": null,
      "outputs": [
        {
          "output_type": "stream",
          "text": [
            "INFO:tensorflow:Calling model_fn.\n"
          ],
          "name": "stdout"
        },
        {
          "output_type": "stream",
          "text": [
            "/usr/local/lib/python3.6/dist-packages/tensorflow/python/keras/engine/base_layer_v1.py:1727: UserWarning: `layer.add_variable` is deprecated and will be removed in a future version. Please use `layer.add_weight` method instead.\n",
            "  warnings.warn('`layer.add_variable` is deprecated and '\n"
          ],
          "name": "stderr"
        },
        {
          "output_type": "stream",
          "text": [
            "INFO:tensorflow:Done calling model_fn.\n",
            "INFO:tensorflow:Graph was finalized.\n",
            "INFO:tensorflow:Restoring parameters from /tmp/tmpukppdpkb/model.ckpt-100\n",
            "INFO:tensorflow:Running local_init_op.\n",
            "INFO:tensorflow:Done running local_init_op.\n"
          ],
          "name": "stdout"
        },
        {
          "output_type": "execute_result",
          "data": {
            "text/plain": [
              "<matplotlib.axes._subplots.AxesSubplot at 0x7f6ba797c198>"
            ]
          },
          "metadata": {
            "tags": []
          },
          "execution_count": 339
        },
        {
          "output_type": "display_data",
          "data": {
            "image/png": "[encoded data removed]",
            "text/plain": [
              "<Figure size 432x288 with 1 Axes>"
            ]
          },
          "metadata": {
            "tags": [],
            "needs_background": "light"
          }
        }
      ]
    },
    {
      "cell_type": "code",
      "metadata": {
        "id": "BM6wWaN5ks_z",
        "colab": {
          "base_uri": "https://localhost:8080/"
        },
        "outputId": "8f17f097-93b2-4271-eb4b-c1a050772a7e"
      },
      "source": [
        "# ROC curve.\n",
        "\n",
        "fpr, tpr, _ = roc_curve(y_test, linear_est_probabilities)\n",
        "plt.plot(fpr, tpr)\n",
        "plt.title('ROC curve')\n",
        "plt.xlabel('false positive rate')\n",
        "plt.ylabel('true positive rate')\n",
        "plt.xlim(0,)\n",
        "plt.ylim(0,)"
      ],
      "execution_count": null,
      "outputs": [
        {
          "output_type": "execute_result",
          "data": {
            "text/plain": [
              "(0.0, 1.05)"
            ]
          },
          "metadata": {
            "tags": []
          },
          "execution_count": 340
        },
        {
          "output_type": "display_data",
          "data": {
            "image/png": "[encoded data removed]",
            "text/plain": [
              "<Figure size 432x288 with 1 Axes>"
            ]
          },
          "metadata": {
            "tags": [],
            "needs_background": "light"
          }
        }
      ]
    },
    {
      "cell_type": "markdown",
      "metadata": {
        "id": "lgZdyrSLo8ta"
      },
      "source": [
        "# Boosted Trees"
      ]
    },
    {
      "cell_type": "markdown",
      "metadata": {
        "id": "xcMTU_65eRCu"
      },
      "source": [
        "## Estimators"
      ]
    },
    {
      "cell_type": "code",
      "metadata": {
        "id": "7vExk2cfpAmh",
        "colab": {
          "base_uri": "https://localhost:8080/"
        },
        "outputId": "f124c5c6-33c3-40d1-fa29-1900798a7ba5"
      },
      "source": [
        "boosted_trees_est_default = train(\n",
        "  tf.estimator.BoostedTreesClassifier,\n",
        "\n",
        "  # \"center_bias=True\" forces the model to make an initial prediction before\n",
        "  # using any features (e.g. use the mean of the training labels for\n",
        "  # regression or log odds for classification when using cross entropy loss).\n",
        "  # This is necessary for DFCs.\n",
        "  center_bias=True,\n",
        "  max_depth=3,\n",
        "  n_batches_per_layer=1,\n",
        "  n_trees=50,\n",
        "  train_in_memory=True,\n",
        ")"
      ],
      "execution_count": null,
      "outputs": [
        {
          "output_type": "stream",
          "text": [
            "Execution time: 11.129\n",
            "Accuracy: 0.42857143\n",
            "{'accuracy': 0.42857143, 'accuracy_baseline': 0.85714287, 'auc': 0.49999958, 'auc_precision_recall': 0.9047618, 'average_loss': 1.2477659, 'label/mean': 0.85714287, 'loss': 1.2477659, 'precision': 0.75, 'prediction/mean': 0.6191873, 'recall': 0.5, 'global_step': 100}\n"
          ],
          "name": "stdout"
        }
      ]
    },
    {
      "cell_type": "markdown",
      "metadata": {
        "id": "FkPvn7TVecPx"
      },
      "source": [
        "## Analysis"
      ]
    },
    {
      "cell_type": "code",
      "metadata": {
        "id": "vzhtwD-30F21",
        "colab": {
          "base_uri": "https://localhost:8080/"
        },
        "outputId": "7d45fb4d-2532-4df7-ed00-e5c6ef76970f"
      },
      "source": [
        "# Predicted probabilities.\n",
        "boosted_trees_est = boosted_trees_est_default\n",
        "\n",
        "boosted_trees_est_predictions = list(boosted_trees_est.predict(eval_input_fn))\n",
        "boosted_trees_est_probabilities = pd.Series([pred['probabilities'][1] for pred in boosted_trees_est_predictions])\n",
        "\n",
        "boosted_trees_est_probabilities.plot(kind='hist', bins=20, title='predicted probabilities')"
      ],
      "execution_count": null,
      "outputs": [
        {
          "output_type": "stream",
          "text": [
            "INFO:tensorflow:Calling model_fn.\n",
            "INFO:tensorflow:Done calling model_fn.\n",
            "INFO:tensorflow:Graph was finalized.\n",
            "INFO:tensorflow:Restoring parameters from /tmp/tmpl6_ne5y3/model.ckpt-100\n",
            "INFO:tensorflow:Running local_init_op.\n",
            "INFO:tensorflow:Done running local_init_op.\n"
          ],
          "name": "stdout"
        },
        {
          "output_type": "execute_result",
          "data": {
            "text/plain": [
              "<matplotlib.axes._subplots.AxesSubplot at 0x7f6b9c63d5f8>"
            ]
          },
          "metadata": {
            "tags": []
          },
          "execution_count": 342
        },
        {
          "output_type": "display_data",
          "data": {
            "image/png": "[encoded data removed]",
            "text/plain": [
              "<Figure size 432x288 with 1 Axes>"
            ]
          },
          "metadata": {
            "tags": [],
            "needs_background": "light"
          }
        }
      ]
    },
    {
      "cell_type": "code",
      "metadata": {
        "id": "uZHwq9B_z-TH",
        "colab": {
          "base_uri": "https://localhost:8080/"
        },
        "outputId": "9bed8810-ffd4-4e7f-d1fa-11b3ac4f6989"
      },
      "source": [
        "# ROC curve.\n",
        "\n",
        "fpr, tpr, _ = roc_curve(y_test, boosted_trees_est_probabilities)\n",
        "plt.plot(fpr, tpr)\n",
        "plt.title('ROC curve')\n",
        "plt.xlabel('false positive rate')\n",
        "plt.ylabel('true positive rate')\n",
        "plt.xlim(0,)\n",
        "plt.ylim(0,)"
      ],
      "execution_count": null,
      "outputs": [
        {
          "output_type": "execute_result",
          "data": {
            "text/plain": [
              "(0.0, 1.05)"
            ]
          },
          "metadata": {
            "tags": []
          },
          "execution_count": 343
        },
        {
          "output_type": "display_data",
          "data": {
            "image/png": "[encoded data removed]",
            "text/plain": [
              "<Figure size 432x288 with 1 Axes>"
            ]
          },
          "metadata": {
            "tags": [],
            "needs_background": "light"
          }
        }
      ]
    },
    {
      "cell_type": "markdown",
      "metadata": {
        "id": "e3TU6Pnx4SR-"
      },
      "source": [
        "# [Local Interpretability of Boosted Trees](https://www.tensorflow.org/tutorials/estimator/boosted_trees_model_understanding#local_interpretability)"
      ]
    },
    {
      "cell_type": "code",
      "metadata": {
        "id": "ZCaVLu5w0ySS",
        "colab": {
          "base_uri": "https://localhost:8080/"
        },
        "outputId": "d427cf17-3e3e-4633-a131-a4258e7290d9"
      },
      "source": [
        "boosted_trees_predictions = list(boosted_trees_est.experimental_predict_with_explanations(eval_input_fn))\n",
        "labels = y_test.values\n",
        "boosted_trees_probabilities = pd.Series([pred['probabilities'][1] for pred in boosted_trees_predictions])\n",
        "boosted_trees_dfc = pd.DataFrame([pred['dfc'] for pred in boosted_trees_predictions])\n",
        "boosted_trees_dfc.describe().T\n"
      ],
      "execution_count": null,
      "outputs": [
        {
          "output_type": "stream",
          "text": [
            "INFO:tensorflow:Using config: {'_model_dir': '/tmp/tmpl6_ne5y3', '_tf_random_seed': None, '_save_summary_steps': 100, '_save_checkpoints_steps': None, '_save_checkpoints_secs': 600, '_session_config': allow_soft_placement: true\n",
            "graph_options {\n",
            "  rewrite_options {\n",
            "    meta_optimizer_iterations: ONE\n",
            "  }\n",
            "}\n",
            ", '_keep_checkpoint_max': 5, '_keep_checkpoint_every_n_hours': 10000, '_log_step_count_steps': 100, '_train_distribute': None, '_device_fn': None, '_protocol': None, '_eval_distribute': None, '_experimental_distribute': None, '_experimental_max_worker_delay_secs': None, '_session_creation_timeout_secs': 7200, '_checkpoint_save_graph_def': True, '_service': None, '_cluster_spec': ClusterSpec({}), '_task_type': 'worker', '_task_id': 0, '_global_id_in_cluster': 0, '_master': '', '_evaluation_master': '', '_is_chief': True, '_num_ps_replicas': 0, '_num_worker_replicas': 1}\n",
            "INFO:tensorflow:Calling model_fn.\n",
            "INFO:tensorflow:Done calling model_fn.\n",
            "INFO:tensorflow:Graph was finalized.\n",
            "INFO:tensorflow:Restoring parameters from /tmp/tmpl6_ne5y3/model.ckpt-100\n",
            "INFO:tensorflow:Running local_init_op.\n",
            "INFO:tensorflow:Done running local_init_op.\n"
          ],
          "name": "stdout"
        },
        {
          "output_type": "execute_result",
          "data": {
            "text/html": [
              "<div>\n",
              "<style scoped>\n",
              "    .dataframe tbody tr th:only-of-type {\n",
              "        vertical-align: middle;\n",
              "    }\n",
              "\n",
              "    .dataframe tbody tr th {\n",
              "        vertical-align: top;\n",
              "    }\n",
              "\n",
              "    .dataframe thead th {\n",
              "        text-align: right;\n",
              "    }\n",
              "</style>\n",
              "<table border=\"1\" class=\"dataframe\">\n",
              "  <thead>\n",
              "    <tr style=\"text-align: right;\">\n",
              "      <th></th>\n",
              "      <th>count</th>\n",
              "      <th>mean</th>\n",
              "      <th>std</th>\n",
              "      <th>min</th>\n",
              "      <th>25%</th>\n",
              "      <th>50%</th>\n",
              "      <th>75%</th>\n",
              "      <th>max</th>\n",
              "    </tr>\n",
              "  </thead>\n",
              "  <tbody>\n",
              "    <tr>\n",
              "      <th>almond</th>\n",
              "      <td>7.0</td>\n",
              "      <td>0.130278</td>\n",
              "      <td>0.130226</td>\n",
              "      <td>0.000000</td>\n",
              "      <td>0.000000</td>\n",
              "      <td>0.130760</td>\n",
              "      <td>0.257683</td>\n",
              "      <td>0.265818</td>\n",
              "    </tr>\n",
              "    <tr>\n",
              "      <th>banana</th>\n",
              "      <td>7.0</td>\n",
              "      <td>0.078583</td>\n",
              "      <td>0.212860</td>\n",
              "      <td>-0.111412</td>\n",
              "      <td>-0.102298</td>\n",
              "      <td>-0.018781</td>\n",
              "      <td>0.265822</td>\n",
              "      <td>0.353228</td>\n",
              "    </tr>\n",
              "    <tr>\n",
              "      <th>mango</th>\n",
              "      <td>7.0</td>\n",
              "      <td>-0.015321</td>\n",
              "      <td>0.062677</td>\n",
              "      <td>-0.054111</td>\n",
              "      <td>-0.049787</td>\n",
              "      <td>-0.034030</td>\n",
              "      <td>-0.020878</td>\n",
              "      <td>0.122226</td>\n",
              "    </tr>\n",
              "    <tr>\n",
              "      <th>carrot</th>\n",
              "      <td>7.0</td>\n",
              "      <td>-0.038687</td>\n",
              "      <td>0.017746</td>\n",
              "      <td>-0.058583</td>\n",
              "      <td>-0.054969</td>\n",
              "      <td>-0.033443</td>\n",
              "      <td>-0.027434</td>\n",
              "      <td>-0.013979</td>\n",
              "    </tr>\n",
              "    <tr>\n",
              "      <th>cheese</th>\n",
              "      <td>7.0</td>\n",
              "      <td>-0.027814</td>\n",
              "      <td>0.076246</td>\n",
              "      <td>-0.084125</td>\n",
              "      <td>-0.078493</td>\n",
              "      <td>-0.037488</td>\n",
              "      <td>-0.024953</td>\n",
              "      <td>0.133808</td>\n",
              "    </tr>\n",
              "    <tr>\n",
              "      <th>mushroom</th>\n",
              "      <td>7.0</td>\n",
              "      <td>0.001169</td>\n",
              "      <td>0.078112</td>\n",
              "      <td>-0.043771</td>\n",
              "      <td>-0.040561</td>\n",
              "      <td>-0.016403</td>\n",
              "      <td>-0.012981</td>\n",
              "      <td>0.175445</td>\n",
              "    </tr>\n",
              "    <tr>\n",
              "      <th>arugula</th>\n",
              "      <td>7.0</td>\n",
              "      <td>0.007429</td>\n",
              "      <td>0.044016</td>\n",
              "      <td>-0.009839</td>\n",
              "      <td>-0.009391</td>\n",
              "      <td>-0.009088</td>\n",
              "      <td>-0.008766</td>\n",
              "      <td>0.107244</td>\n",
              "    </tr>\n",
              "    <tr>\n",
              "      <th>olive</th>\n",
              "      <td>7.0</td>\n",
              "      <td>0.018007</td>\n",
              "      <td>0.010387</td>\n",
              "      <td>0.005333</td>\n",
              "      <td>0.011885</td>\n",
              "      <td>0.017631</td>\n",
              "      <td>0.020722</td>\n",
              "      <td>0.037871</td>\n",
              "    </tr>\n",
              "    <tr>\n",
              "      <th>chickpea</th>\n",
              "      <td>7.0</td>\n",
              "      <td>0.014751</td>\n",
              "      <td>0.009537</td>\n",
              "      <td>0.004515</td>\n",
              "      <td>0.006438</td>\n",
              "      <td>0.013451</td>\n",
              "      <td>0.022284</td>\n",
              "      <td>0.027843</td>\n",
              "    </tr>\n",
              "    <tr>\n",
              "      <th>potato</th>\n",
              "      <td>7.0</td>\n",
              "      <td>-0.018455</td>\n",
              "      <td>0.008203</td>\n",
              "      <td>-0.026639</td>\n",
              "      <td>-0.023612</td>\n",
              "      <td>-0.022117</td>\n",
              "      <td>-0.014857</td>\n",
              "      <td>-0.003488</td>\n",
              "    </tr>\n",
              "    <tr>\n",
              "      <th>tomato</th>\n",
              "      <td>7.0</td>\n",
              "      <td>-0.004487</td>\n",
              "      <td>0.002498</td>\n",
              "      <td>-0.007889</td>\n",
              "      <td>-0.006178</td>\n",
              "      <td>-0.004207</td>\n",
              "      <td>-0.003026</td>\n",
              "      <td>-0.000906</td>\n",
              "    </tr>\n",
              "    <tr>\n",
              "      <th>apple</th>\n",
              "      <td>7.0</td>\n",
              "      <td>-0.002265</td>\n",
              "      <td>0.061261</td>\n",
              "      <td>-0.125471</td>\n",
              "      <td>0.002345</td>\n",
              "      <td>0.003935</td>\n",
              "      <td>0.009939</td>\n",
              "      <td>0.081115</td>\n",
              "    </tr>\n",
              "    <tr>\n",
              "      <th>okra</th>\n",
              "      <td>7.0</td>\n",
              "      <td>0.002813</td>\n",
              "      <td>0.001961</td>\n",
              "      <td>0.000276</td>\n",
              "      <td>0.001528</td>\n",
              "      <td>0.002145</td>\n",
              "      <td>0.004389</td>\n",
              "      <td>0.005436</td>\n",
              "    </tr>\n",
              "    <tr>\n",
              "      <th>consistency</th>\n",
              "      <td>7.0</td>\n",
              "      <td>0.001674</td>\n",
              "      <td>0.001213</td>\n",
              "      <td>0.000149</td>\n",
              "      <td>0.000862</td>\n",
              "      <td>0.001251</td>\n",
              "      <td>0.002642</td>\n",
              "      <td>0.003311</td>\n",
              "    </tr>\n",
              "    <tr>\n",
              "      <th>chocolate</th>\n",
              "      <td>7.0</td>\n",
              "      <td>0.000357</td>\n",
              "      <td>0.002957</td>\n",
              "      <td>-0.005486</td>\n",
              "      <td>0.000039</td>\n",
              "      <td>0.000186</td>\n",
              "      <td>0.001946</td>\n",
              "      <td>0.003832</td>\n",
              "    </tr>\n",
              "    <tr>\n",
              "      <th>anchovy</th>\n",
              "      <td>7.0</td>\n",
              "      <td>0.000000</td>\n",
              "      <td>0.000000</td>\n",
              "      <td>0.000000</td>\n",
              "      <td>0.000000</td>\n",
              "      <td>0.000000</td>\n",
              "      <td>0.000000</td>\n",
              "      <td>0.000000</td>\n",
              "    </tr>\n",
              "    <tr>\n",
              "      <th>bay_leaf</th>\n",
              "      <td>7.0</td>\n",
              "      <td>0.000000</td>\n",
              "      <td>0.000000</td>\n",
              "      <td>0.000000</td>\n",
              "      <td>0.000000</td>\n",
              "      <td>0.000000</td>\n",
              "      <td>0.000000</td>\n",
              "      <td>0.000000</td>\n",
              "    </tr>\n",
              "    <tr>\n",
              "      <th>bean</th>\n",
              "      <td>7.0</td>\n",
              "      <td>0.000000</td>\n",
              "      <td>0.000000</td>\n",
              "      <td>0.000000</td>\n",
              "      <td>0.000000</td>\n",
              "      <td>0.000000</td>\n",
              "      <td>0.000000</td>\n",
              "      <td>0.000000</td>\n",
              "    </tr>\n",
              "    <tr>\n",
              "      <th>bell_pepper</th>\n",
              "      <td>7.0</td>\n",
              "      <td>0.000000</td>\n",
              "      <td>0.000000</td>\n",
              "      <td>0.000000</td>\n",
              "      <td>0.000000</td>\n",
              "      <td>0.000000</td>\n",
              "      <td>0.000000</td>\n",
              "      <td>0.000000</td>\n",
              "    </tr>\n",
              "    <tr>\n",
              "      <th>black_pepper</th>\n",
              "      <td>7.0</td>\n",
              "      <td>0.000000</td>\n",
              "      <td>0.000000</td>\n",
              "      <td>0.000000</td>\n",
              "      <td>0.000000</td>\n",
              "      <td>0.000000</td>\n",
              "      <td>0.000000</td>\n",
              "      <td>0.000000</td>\n",
              "    </tr>\n",
              "    <tr>\n",
              "      <th>blueberry</th>\n",
              "      <td>7.0</td>\n",
              "      <td>0.000000</td>\n",
              "      <td>0.000000</td>\n",
              "      <td>0.000000</td>\n",
              "      <td>0.000000</td>\n",
              "      <td>0.000000</td>\n",
              "      <td>0.000000</td>\n",
              "      <td>0.000000</td>\n",
              "    </tr>\n",
              "    <tr>\n",
              "      <th>butter</th>\n",
              "      <td>7.0</td>\n",
              "      <td>0.000000</td>\n",
              "      <td>0.000000</td>\n",
              "      <td>0.000000</td>\n",
              "      <td>0.000000</td>\n",
              "      <td>0.000000</td>\n",
              "      <td>0.000000</td>\n",
              "      <td>0.000000</td>\n",
              "    </tr>\n",
              "    <tr>\n",
              "      <th>chili</th>\n",
              "      <td>7.0</td>\n",
              "      <td>0.000000</td>\n",
              "      <td>0.000000</td>\n",
              "      <td>0.000000</td>\n",
              "      <td>0.000000</td>\n",
              "      <td>0.000000</td>\n",
              "      <td>0.000000</td>\n",
              "      <td>0.000000</td>\n",
              "    </tr>\n",
              "    <tr>\n",
              "      <th>cookies</th>\n",
              "      <td>7.0</td>\n",
              "      <td>0.000000</td>\n",
              "      <td>0.000000</td>\n",
              "      <td>0.000000</td>\n",
              "      <td>0.000000</td>\n",
              "      <td>0.000000</td>\n",
              "      <td>0.000000</td>\n",
              "      <td>0.000000</td>\n",
              "    </tr>\n",
              "    <tr>\n",
              "      <th>coriander</th>\n",
              "      <td>7.0</td>\n",
              "      <td>0.000000</td>\n",
              "      <td>0.000000</td>\n",
              "      <td>0.000000</td>\n",
              "      <td>0.000000</td>\n",
              "      <td>0.000000</td>\n",
              "      <td>0.000000</td>\n",
              "      <td>0.000000</td>\n",
              "    </tr>\n",
              "    <tr>\n",
              "      <th>cranberry</th>\n",
              "      <td>7.0</td>\n",
              "      <td>0.000000</td>\n",
              "      <td>0.000000</td>\n",
              "      <td>0.000000</td>\n",
              "      <td>0.000000</td>\n",
              "      <td>0.000000</td>\n",
              "      <td>0.000000</td>\n",
              "      <td>0.000000</td>\n",
              "    </tr>\n",
              "    <tr>\n",
              "      <th>cumin</th>\n",
              "      <td>7.0</td>\n",
              "      <td>0.000000</td>\n",
              "      <td>0.000000</td>\n",
              "      <td>0.000000</td>\n",
              "      <td>0.000000</td>\n",
              "      <td>0.000000</td>\n",
              "      <td>0.000000</td>\n",
              "      <td>0.000000</td>\n",
              "    </tr>\n",
              "    <tr>\n",
              "      <th>egg</th>\n",
              "      <td>7.0</td>\n",
              "      <td>0.000000</td>\n",
              "      <td>0.000000</td>\n",
              "      <td>0.000000</td>\n",
              "      <td>0.000000</td>\n",
              "      <td>0.000000</td>\n",
              "      <td>0.000000</td>\n",
              "      <td>0.000000</td>\n",
              "    </tr>\n",
              "    <tr>\n",
              "      <th>flour</th>\n",
              "      <td>7.0</td>\n",
              "      <td>0.000000</td>\n",
              "      <td>0.000000</td>\n",
              "      <td>0.000000</td>\n",
              "      <td>0.000000</td>\n",
              "      <td>0.000000</td>\n",
              "      <td>0.000000</td>\n",
              "      <td>0.000000</td>\n",
              "    </tr>\n",
              "    <tr>\n",
              "      <th>garlic</th>\n",
              "      <td>7.0</td>\n",
              "      <td>0.000000</td>\n",
              "      <td>0.000000</td>\n",
              "      <td>0.000000</td>\n",
              "      <td>0.000000</td>\n",
              "      <td>0.000000</td>\n",
              "      <td>0.000000</td>\n",
              "      <td>0.000000</td>\n",
              "    </tr>\n",
              "    <tr>\n",
              "      <th>ginger</th>\n",
              "      <td>7.0</td>\n",
              "      <td>0.000000</td>\n",
              "      <td>0.000000</td>\n",
              "      <td>0.000000</td>\n",
              "      <td>0.000000</td>\n",
              "      <td>0.000000</td>\n",
              "      <td>0.000000</td>\n",
              "      <td>0.000000</td>\n",
              "    </tr>\n",
              "    <tr>\n",
              "      <th>kiwi</th>\n",
              "      <td>7.0</td>\n",
              "      <td>0.000000</td>\n",
              "      <td>0.000000</td>\n",
              "      <td>0.000000</td>\n",
              "      <td>0.000000</td>\n",
              "      <td>0.000000</td>\n",
              "      <td>0.000000</td>\n",
              "      <td>0.000000</td>\n",
              "    </tr>\n",
              "    <tr>\n",
              "      <th>mayonnaise</th>\n",
              "      <td>7.0</td>\n",
              "      <td>0.000000</td>\n",
              "      <td>0.000000</td>\n",
              "      <td>0.000000</td>\n",
              "      <td>0.000000</td>\n",
              "      <td>0.000000</td>\n",
              "      <td>0.000000</td>\n",
              "      <td>0.000000</td>\n",
              "    </tr>\n",
              "    <tr>\n",
              "      <th>milk</th>\n",
              "      <td>7.0</td>\n",
              "      <td>0.000000</td>\n",
              "      <td>0.000000</td>\n",
              "      <td>0.000000</td>\n",
              "      <td>0.000000</td>\n",
              "      <td>0.000000</td>\n",
              "      <td>0.000000</td>\n",
              "      <td>0.000000</td>\n",
              "    </tr>\n",
              "    <tr>\n",
              "      <th>oil</th>\n",
              "      <td>7.0</td>\n",
              "      <td>0.000000</td>\n",
              "      <td>0.000000</td>\n",
              "      <td>0.000000</td>\n",
              "      <td>0.000000</td>\n",
              "      <td>0.000000</td>\n",
              "      <td>0.000000</td>\n",
              "      <td>0.000000</td>\n",
              "    </tr>\n",
              "    <tr>\n",
              "      <th>onion</th>\n",
              "      <td>7.0</td>\n",
              "      <td>0.000000</td>\n",
              "      <td>0.000000</td>\n",
              "      <td>0.000000</td>\n",
              "      <td>0.000000</td>\n",
              "      <td>0.000000</td>\n",
              "      <td>0.000000</td>\n",
              "      <td>0.000000</td>\n",
              "    </tr>\n",
              "    <tr>\n",
              "      <th>pea</th>\n",
              "      <td>7.0</td>\n",
              "      <td>0.000000</td>\n",
              "      <td>0.000000</td>\n",
              "      <td>0.000000</td>\n",
              "      <td>0.000000</td>\n",
              "      <td>0.000000</td>\n",
              "      <td>0.000000</td>\n",
              "      <td>0.000000</td>\n",
              "    </tr>\n",
              "    <tr>\n",
              "      <th>peanut</th>\n",
              "      <td>7.0</td>\n",
              "      <td>0.000000</td>\n",
              "      <td>0.000000</td>\n",
              "      <td>0.000000</td>\n",
              "      <td>0.000000</td>\n",
              "      <td>0.000000</td>\n",
              "      <td>0.000000</td>\n",
              "      <td>0.000000</td>\n",
              "    </tr>\n",
              "    <tr>\n",
              "      <th>pineapple</th>\n",
              "      <td>7.0</td>\n",
              "      <td>0.000000</td>\n",
              "      <td>0.000000</td>\n",
              "      <td>0.000000</td>\n",
              "      <td>0.000000</td>\n",
              "      <td>0.000000</td>\n",
              "      <td>0.000000</td>\n",
              "      <td>0.000000</td>\n",
              "    </tr>\n",
              "    <tr>\n",
              "      <th>red_pepper</th>\n",
              "      <td>7.0</td>\n",
              "      <td>0.000000</td>\n",
              "      <td>0.000000</td>\n",
              "      <td>0.000000</td>\n",
              "      <td>0.000000</td>\n",
              "      <td>0.000000</td>\n",
              "      <td>0.000000</td>\n",
              "      <td>0.000000</td>\n",
              "    </tr>\n",
              "    <tr>\n",
              "      <th>rice</th>\n",
              "      <td>7.0</td>\n",
              "      <td>0.000000</td>\n",
              "      <td>0.000000</td>\n",
              "      <td>0.000000</td>\n",
              "      <td>0.000000</td>\n",
              "      <td>0.000000</td>\n",
              "      <td>0.000000</td>\n",
              "      <td>0.000000</td>\n",
              "    </tr>\n",
              "    <tr>\n",
              "      <th>salt</th>\n",
              "      <td>7.0</td>\n",
              "      <td>-0.007938</td>\n",
              "      <td>0.023168</td>\n",
              "      <td>-0.059366</td>\n",
              "      <td>-0.005502</td>\n",
              "      <td>0.000000</td>\n",
              "      <td>0.004428</td>\n",
              "      <td>0.005947</td>\n",
              "    </tr>\n",
              "    <tr>\n",
              "      <th>skim_milk</th>\n",
              "      <td>7.0</td>\n",
              "      <td>0.000000</td>\n",
              "      <td>0.000000</td>\n",
              "      <td>0.000000</td>\n",
              "      <td>0.000000</td>\n",
              "      <td>0.000000</td>\n",
              "      <td>0.000000</td>\n",
              "      <td>0.000000</td>\n",
              "    </tr>\n",
              "    <tr>\n",
              "      <th>spinach</th>\n",
              "      <td>7.0</td>\n",
              "      <td>0.000000</td>\n",
              "      <td>0.000000</td>\n",
              "      <td>0.000000</td>\n",
              "      <td>0.000000</td>\n",
              "      <td>0.000000</td>\n",
              "      <td>0.000000</td>\n",
              "      <td>0.000000</td>\n",
              "    </tr>\n",
              "    <tr>\n",
              "      <th>squash</th>\n",
              "      <td>7.0</td>\n",
              "      <td>0.000000</td>\n",
              "      <td>0.000000</td>\n",
              "      <td>0.000000</td>\n",
              "      <td>0.000000</td>\n",
              "      <td>0.000000</td>\n",
              "      <td>0.000000</td>\n",
              "      <td>0.000000</td>\n",
              "    </tr>\n",
              "    <tr>\n",
              "      <th>strawberry</th>\n",
              "      <td>7.0</td>\n",
              "      <td>0.002902</td>\n",
              "      <td>0.002853</td>\n",
              "      <td>0.000000</td>\n",
              "      <td>0.000000</td>\n",
              "      <td>0.003376</td>\n",
              "      <td>0.005313</td>\n",
              "      <td>0.006315</td>\n",
              "    </tr>\n",
              "    <tr>\n",
              "      <th>sugar</th>\n",
              "      <td>7.0</td>\n",
              "      <td>0.000000</td>\n",
              "      <td>0.000000</td>\n",
              "      <td>0.000000</td>\n",
              "      <td>0.000000</td>\n",
              "      <td>0.000000</td>\n",
              "      <td>0.000000</td>\n",
              "      <td>0.000000</td>\n",
              "    </tr>\n",
              "    <tr>\n",
              "      <th>temperature</th>\n",
              "      <td>7.0</td>\n",
              "      <td>0.000000</td>\n",
              "      <td>0.000000</td>\n",
              "      <td>0.000000</td>\n",
              "      <td>0.000000</td>\n",
              "      <td>0.000000</td>\n",
              "      <td>0.000000</td>\n",
              "      <td>0.000000</td>\n",
              "    </tr>\n",
              "    <tr>\n",
              "      <th>tumeric</th>\n",
              "      <td>7.0</td>\n",
              "      <td>0.000000</td>\n",
              "      <td>0.000000</td>\n",
              "      <td>0.000000</td>\n",
              "      <td>0.000000</td>\n",
              "      <td>0.000000</td>\n",
              "      <td>0.000000</td>\n",
              "      <td>0.000000</td>\n",
              "    </tr>\n",
              "    <tr>\n",
              "      <th>vanilla</th>\n",
              "      <td>7.0</td>\n",
              "      <td>0.000000</td>\n",
              "      <td>0.000000</td>\n",
              "      <td>0.000000</td>\n",
              "      <td>0.000000</td>\n",
              "      <td>0.000000</td>\n",
              "      <td>0.000000</td>\n",
              "      <td>0.000000</td>\n",
              "    </tr>\n",
              "  </tbody>\n",
              "</table>\n",
              "</div>"
            ],
            "text/plain": [
              "              count      mean       std  ...       50%       75%       max\n",
              "almond          7.0  0.130278  0.130226  ...  0.130760  0.257683  0.265818\n",
              "banana          7.0  0.078583  0.212860  ... -0.018781  0.265822  0.353228\n",
              "mango           7.0 -0.015321  0.062677  ... -0.034030 -0.020878  0.122226\n",
              "carrot          7.0 -0.038687  0.017746  ... -0.033443 -0.027434 -0.013979\n",
              "cheese          7.0 -0.027814  0.076246  ... -0.037488 -0.024953  0.133808\n",
              "mushroom        7.0  0.001169  0.078112  ... -0.016403 -0.012981  0.175445\n",
              "arugula         7.0  0.007429  0.044016  ... -0.009088 -0.008766  0.107244\n",
              "olive           7.0  0.018007  0.010387  ...  0.017631  0.020722  0.037871\n",
              "chickpea        7.0  0.014751  0.009537  ...  0.013451  0.022284  0.027843\n",
              "potato          7.0 -0.018455  0.008203  ... -0.022117 -0.014857 -0.003488\n",
              "tomato          7.0 -0.004487  0.002498  ... -0.004207 -0.003026 -0.000906\n",
              "apple           7.0 -0.002265  0.061261  ...  0.003935  0.009939  0.081115\n",
              "okra            7.0  0.002813  0.001961  ...  0.002145  0.004389  0.005436\n",
              "consistency     7.0  0.001674  0.001213  ...  0.001251  0.002642  0.003311\n",
              "chocolate       7.0  0.000357  0.002957  ...  0.000186  0.001946  0.003832\n",
              "anchovy         7.0  0.000000  0.000000  ...  0.000000  0.000000  0.000000\n",
              "bay_leaf        7.0  0.000000  0.000000  ...  0.000000  0.000000  0.000000\n",
              "bean            7.0  0.000000  0.000000  ...  0.000000  0.000000  0.000000\n",
              "bell_pepper     7.0  0.000000  0.000000  ...  0.000000  0.000000  0.000000\n",
              "black_pepper    7.0  0.000000  0.000000  ...  0.000000  0.000000  0.000000\n",
              "blueberry       7.0  0.000000  0.000000  ...  0.000000  0.000000  0.000000\n",
              "butter          7.0  0.000000  0.000000  ...  0.000000  0.000000  0.000000\n",
              "chili           7.0  0.000000  0.000000  ...  0.000000  0.000000  0.000000\n",
              "cookies         7.0  0.000000  0.000000  ...  0.000000  0.000000  0.000000\n",
              "coriander       7.0  0.000000  0.000000  ...  0.000000  0.000000  0.000000\n",
              "cranberry       7.0  0.000000  0.000000  ...  0.000000  0.000000  0.000000\n",
              "cumin           7.0  0.000000  0.000000  ...  0.000000  0.000000  0.000000\n",
              "egg             7.0  0.000000  0.000000  ...  0.000000  0.000000  0.000000\n",
              "flour           7.0  0.000000  0.000000  ...  0.000000  0.000000  0.000000\n",
              "garlic          7.0  0.000000  0.000000  ...  0.000000  0.000000  0.000000\n",
              "ginger          7.0  0.000000  0.000000  ...  0.000000  0.000000  0.000000\n",
              "kiwi            7.0  0.000000  0.000000  ...  0.000000  0.000000  0.000000\n",
              "mayonnaise      7.0  0.000000  0.000000  ...  0.000000  0.000000  0.000000\n",
              "milk            7.0  0.000000  0.000000  ...  0.000000  0.000000  0.000000\n",
              "oil             7.0  0.000000  0.000000  ...  0.000000  0.000000  0.000000\n",
              "onion           7.0  0.000000  0.000000  ...  0.000000  0.000000  0.000000\n",
              "pea             7.0  0.000000  0.000000  ...  0.000000  0.000000  0.000000\n",
              "peanut          7.0  0.000000  0.000000  ...  0.000000  0.000000  0.000000\n",
              "pineapple       7.0  0.000000  0.000000  ...  0.000000  0.000000  0.000000\n",
              "red_pepper      7.0  0.000000  0.000000  ...  0.000000  0.000000  0.000000\n",
              "rice            7.0  0.000000  0.000000  ...  0.000000  0.000000  0.000000\n",
              "salt            7.0 -0.007938  0.023168  ...  0.000000  0.004428  0.005947\n",
              "skim_milk       7.0  0.000000  0.000000  ...  0.000000  0.000000  0.000000\n",
              "spinach         7.0  0.000000  0.000000  ...  0.000000  0.000000  0.000000\n",
              "squash          7.0  0.000000  0.000000  ...  0.000000  0.000000  0.000000\n",
              "strawberry      7.0  0.002902  0.002853  ...  0.003376  0.005313  0.006315\n",
              "sugar           7.0  0.000000  0.000000  ...  0.000000  0.000000  0.000000\n",
              "temperature     7.0  0.000000  0.000000  ...  0.000000  0.000000  0.000000\n",
              "tumeric         7.0  0.000000  0.000000  ...  0.000000  0.000000  0.000000\n",
              "vanilla         7.0  0.000000  0.000000  ...  0.000000  0.000000  0.000000\n",
              "\n",
              "[50 rows x 8 columns]"
            ]
          },
          "metadata": {
            "tags": []
          },
          "execution_count": 344
        }
      ]
    },
    {
      "cell_type": "code",
      "metadata": {
        "id": "94hgJiEW4Pqp"
      },
      "source": [
        "# Sum of DFCs + bias == probabality.\n",
        "bias = boosted_trees_predictions[0]['bias']\n",
        "dfc_prob = boosted_trees_dfc.sum(axis=1) + bias\n",
        "np.testing.assert_almost_equal(dfc_prob.values, boosted_trees_probabilities.values)\n"
      ],
      "execution_count": null,
      "outputs": []
    },
    {
      "cell_type": "code",
      "metadata": {
        "id": "aVtTc4SP48ft"
      },
      "source": [
        "# Boilerplate code for plotting :)\n",
        "\n",
        "dfeval = X_test + y_test\n",
        "\n",
        "def _get_color(value):\n",
        "    \"\"\"To make positive DFCs plot green, negative DFCs plot red.\"\"\"\n",
        "    green, red = sns.color_palette()[2:4]\n",
        "    if value >= 0: return green\n",
        "    return red\n",
        "\n",
        "def _add_feature_values(feature_values, ax):\n",
        "    \"\"\"Display feature's values on left of plot.\"\"\"\n",
        "    x_coord = ax.get_xlim()[0]\n",
        "    OFFSET = 0.15\n",
        "    for y_coord, (feat_name, feat_val) in enumerate(feature_values.items()):\n",
        "        t = plt.text(x_coord, y_coord - OFFSET, '{}'.format(feat_val), size=12)\n",
        "        t.set_bbox(dict(facecolor='white', alpha=0.5))\n",
        "    from matplotlib.font_manager import FontProperties\n",
        "    font = FontProperties()\n",
        "    font.set_weight('bold')\n",
        "    t = plt.text(x_coord, y_coord + 1 - OFFSET, 'feature\\nvalue',\n",
        "    fontproperties=font, size=12)\n",
        "\n",
        "def plot_example(example, TOP_N, ID):\n",
        "  sorted_ix = example.abs().sort_values()[-TOP_N:].index  # Sort by magnitude.\n",
        "  example = example[sorted_ix]\n",
        "  colors = example.map(_get_color).tolist()\n",
        "  ax = example.to_frame().plot(kind='barh',\n",
        "                          color=[colors],\n",
        "                          legend=None,\n",
        "                          alpha=0.75,\n",
        "                          figsize=(10,6))\n",
        "  ax.grid(False, axis='y')\n",
        "  ax.set_yticklabels(ax.get_yticklabels(), size=14)\n",
        "\n",
        "  # Add feature values.\n",
        "  _add_feature_values(dfeval.iloc[ID][sorted_ix], ax)\n",
        "  return ax"
      ],
      "execution_count": null,
      "outputs": []
    },
    {
      "cell_type": "code",
      "metadata": {
        "id": "GKmMSFnJ5HHx",
        "colab": {
          "base_uri": "https://localhost:8080/"
        },
        "outputId": "a162c2d1-f9f5-4838-b7cc-b1afb50d2e11"
      },
      "source": [
        "# Plot results.\n",
        "\n",
        "# Index of example to choose.\n",
        "boosted_trees_ID = 3\n",
        "\n",
        "# Example in evaluation set.\n",
        "example = boosted_trees_dfc.iloc[boosted_trees_ID]\n",
        "\n",
        "# View top n features.\n",
        "TOP_N = 8\n",
        "\n",
        "sorted_ix = example.abs().sort_values()[-TOP_N:].index\n",
        "ax = plot_example(example, TOP_N, boosted_trees_ID)\n",
        "ax.set_title('Feature contributions for example {}\\n pred: {:1.2f}; label: {}'\\\n",
        "             .format(boosted_trees_ID, boosted_trees_probabilities[boosted_trees_ID], labels[boosted_trees_ID]))\n",
        "ax.set_xlabel('Contribution to predicted probability', size=14)\n",
        "plt.show()\n"
      ],
      "execution_count": null,
      "outputs": [
        {
          "output_type": "display_data",
          "data": {
            "image/png": "[encoded data removed]",
            "text/plain": [
              "<Figure size 720x432 with 1 Axes>"
            ]
          },
          "metadata": {
            "tags": [],
            "needs_background": "light"
          }
        }
      ]
    },
    {
      "cell_type": "code",
      "metadata": {
        "id": "3oT2hEWQ7S9B",
        "colab": {
          "base_uri": "https://localhost:8080/"
        },
        "outputId": "702abd50-9282-4472-bf4b-17f62c0a7f5b"
      },
      "source": [
        "# Boilerplate plotting code.\n",
        "def dist_violin_plot(df_dfc, ID):\n",
        "  # Initialize plot.\n",
        "  fig, ax = plt.subplots(1, 1, figsize=(10, 6))\n",
        "\n",
        "  # Create example dataframe.\n",
        "  TOP_N = 8  # View top 8 features.\n",
        "  example = boosted_trees_dfc.iloc[ID]\n",
        "  ix = example.abs().sort_values()[-TOP_N:].index\n",
        "  example = example[ix]\n",
        "  example_df = example.to_frame(name='dfc')\n",
        "\n",
        "  # Add contributions of entire distribution.\n",
        "  parts=ax.violinplot([df_dfc[w] for w in ix],\n",
        "                 vert=False,\n",
        "                 showextrema=False,\n",
        "                 widths=0.7,\n",
        "                 positions=np.arange(len(ix)))\n",
        "  face_color = sns_colors[0]\n",
        "  alpha = 0.15\n",
        "  for pc in parts['bodies']:\n",
        "      pc.set_facecolor(face_color)\n",
        "      pc.set_alpha(alpha)\n",
        "\n",
        "  # Add feature values.\n",
        "  _add_feature_values(dfeval.iloc[ID][sorted_ix], ax)\n",
        "\n",
        "  # Add local contributions.\n",
        "  ax.scatter(example,\n",
        "              np.arange(example.shape[0]),\n",
        "              color=sns.color_palette()[2],\n",
        "              s=100,\n",
        "              marker=\"s\",\n",
        "              label='contributions for example')\n",
        "\n",
        "  # Legend\n",
        "  # Proxy plot, to show violinplot dist on legend.\n",
        "  ax.plot([0,0], [1,1], label='eval set contributions\\ndistributions',\n",
        "          color=face_color, alpha=alpha, linewidth=10)\n",
        "  legend = ax.legend(loc='lower right', shadow=True, fontsize='x-large',\n",
        "                     frameon=True)\n",
        "  legend.get_frame().set_facecolor('white')\n",
        "\n",
        "  # Format plot.\n",
        "  ax.set_yticks(np.arange(example.shape[0]))\n",
        "  ax.set_yticklabels(example.index)\n",
        "  ax.grid(False, axis='y')\n",
        "  ax.set_xlabel('Contribution to predicted probability', size=14)\n",
        "\n",
        "\n",
        "dist_violin_plot(boosted_trees_dfc, boosted_trees_ID)\n",
        "plt.title('Feature contributions for example {}\\n pred: {:1.2f}; label: {}'\\\n",
        "             .format(boosted_trees_ID, boosted_trees_probabilities[boosted_trees_ID], labels[boosted_trees_ID]))\n",
        "plt.show()\n"
      ],
      "execution_count": null,
      "outputs": [
        {
          "output_type": "display_data",
          "data": {
            "image/png": "[encoded data removed]",
            "text/plain": [
              "<Figure size 720x432 with 1 Axes>"
            ]
          },
          "metadata": {
            "tags": [],
            "needs_background": "light"
          }
        }
      ]
    },
    {
      "cell_type": "markdown",
      "metadata": {
        "id": "vJLHNuxj8USE"
      },
      "source": [
        "# [Global Interpretability of Boosted Trees](https://www.tensorflow.org/tutorials/estimator/boosted_trees_model_understanding#global_feature_importances)\n",
        "\n",
        "In general, permutation feature importance are preferred to gain-based feature importance, though both methods can be unreliable in situations where potential predictor variables vary in their scale of measurement or their number of categories and when features are correlated ([source](https://bmcbioinformatics.biomedcentral.com/articles/10.1186/1471-2105-9-307)). Check out [this article](http://explained.ai/rf-importance/index.html) for an in-depth overview and great discussion on different feature importance types."
      ]
    },
    {
      "cell_type": "markdown",
      "metadata": {
        "id": "fUxJ9wKBnTHD"
      },
      "source": [
        "## Gain-based feature importances\n",
        "\n",
        "Gain-based feature importances measure the loss change when splitting on a particular feature"
      ]
    },
    {
      "cell_type": "code",
      "metadata": {
        "id": "dG0YVq5n8SMV",
        "colab": {
          "base_uri": "https://localhost:8080/"
        },
        "outputId": "d1e2b84c-7744-4734-e445-c0f40251ff00"
      },
      "source": [
        "importances = boosted_trees_est.experimental_feature_importances(normalize=True)\n",
        "df_imp = pd.Series(importances)\n",
        "\n",
        "# Visualize importances.\n",
        "N = 8\n",
        "ax = (df_imp.iloc[0:N][::-1]\n",
        "    .plot(kind='barh',\n",
        "          color=sns_colors[0],\n",
        "          title='Gain feature importances',\n",
        "          figsize=(10, 6)))\n",
        "ax.grid(False, axis='y')\n"
      ],
      "execution_count": null,
      "outputs": [
        {
          "output_type": "display_data",
          "data": {
            "image/png": "[encoded data removed]",
            "text/plain": [
              "<Figure size 720x432 with 1 Axes>"
            ]
          },
          "metadata": {
            "tags": [],
            "needs_background": "light"
          }
        }
      ]
    },
    {
      "cell_type": "markdown",
      "metadata": {
        "id": "-sWF0J1AnXDY"
      },
      "source": [
        "## Average absolute DFCs"
      ]
    },
    {
      "cell_type": "code",
      "metadata": {
        "id": "nyeDVM-A88OU",
        "colab": {
          "base_uri": "https://localhost:8080/"
        },
        "outputId": "1fe3e9cf-11ac-4881-afd4-f6d55b9af563"
      },
      "source": [
        "dfc_mean = boosted_trees_dfc.abs().mean()\n",
        "N = 8\n",
        "sorted_ix = dfc_mean.abs().sort_values()[-N:].index  # Average and sort by absolute.\n",
        "ax = dfc_mean[sorted_ix].plot(kind='barh',\n",
        "                       color=sns_colors[1],\n",
        "                       title='Mean |directional feature contributions|',\n",
        "                       figsize=(10, 6))\n",
        "ax.grid(False, axis='y')\n"
      ],
      "execution_count": null,
      "outputs": [
        {
          "output_type": "display_data",
          "data": {
            "image/png": "[encoded data removed]",
            "text/plain": [
              "<Figure size 720x432 with 1 Axes>"
            ]
          },
          "metadata": {
            "tags": [],
            "needs_background": "light"
          }
        }
      ]
    },
    {
      "cell_type": "code",
      "metadata": {
        "id": "L8uuUAj09H9i",
        "colab": {
          "base_uri": "https://localhost:8080/"
        },
        "outputId": "2cbf7e99-492a-4c68-f0e6-40f721bab8b6"
      },
      "source": [
        "# You can also see how DFCs vary as a feature value varies.\n",
        "\n",
        "FEATURE = 'strawberry'\n",
        "feature = pd.Series(boosted_trees_dfc[FEATURE].values, index=dfeval[FEATURE].values).sort_index()\n",
        "ax = sns.regplot(feature.index.values, feature.values, lowess=True)\n",
        "ax.set_ylabel('contribution')\n",
        "ax.set_xlabel(FEATURE)\n",
        "ax.set_xlim(0, 100)\n",
        "plt.show()\n"
      ],
      "execution_count": null,
      "outputs": [
        {
          "output_type": "stream",
          "text": [
            "/usr/local/lib/python3.6/dist-packages/seaborn/_decorators.py:43: FutureWarning: Pass the following variables as keyword args: x, y. From version 0.12, the only valid positional argument will be `data`, and passing other arguments without an explicit keyword will result in an error or misinterpretation.\n",
            "  FutureWarning\n"
          ],
          "name": "stderr"
        },
        {
          "output_type": "display_data",
          "data": {
            "image/png": "[encoded data removed]",
            "text/plain": [
              "<Figure size 432x288 with 1 Axes>"
            ]
          },
          "metadata": {
            "tags": [],
            "needs_background": "light"
          }
        }
      ]
    },
    {
      "cell_type": "markdown",
      "metadata": {
        "id": "vGj2gWuWnbnF"
      },
      "source": [
        "## Permutation feature importance\n",
        "\n",
        "Permutation feature importances are computed by evaluating model performance on the evaluation set by shuffling each feature one-by-one and attributing the change in model performance to the shuffled feature."
      ]
    },
    {
      "cell_type": "code",
      "metadata": {
        "id": "GpzRa4Fd9VbK",
        "colab": {
          "base_uri": "https://localhost:8080/"
        },
        "outputId": "a94cab26-8b92-4241-d94c-628cf41559de"
      },
      "source": [
        "def permutation_importances(est, X_eval, y_eval, metric, features):\n",
        "    \"\"\"Column by column, shuffle values and observe effect on eval set.\n",
        "\n",
        "    source: http://explained.ai/rf-importance/index.html\n",
        "    A similar approach can be done during training. See \"Drop-column importance\"\n",
        "    in the above article.\"\"\"\n",
        "    baseline = metric(est, X_eval, y_eval)\n",
        "    imp = []\n",
        "\n",
        "    for col in features:\n",
        "        save = X_eval[col].copy()\n",
        "        X_eval[col] = np.random.permutation(X_eval[col])\n",
        "        m = metric(est, X_eval, y_eval)\n",
        "        X_eval[col] = save\n",
        "        imp.append(baseline - m)\n",
        "\n",
        "    return np.array(imp)\n",
        "\n",
        "\n",
        "def accuracy_metric(est, X, y):\n",
        "    \"\"\"TensorFlow estimator accuracy.\"\"\"\n",
        "    input_fn = make_input_fn(X, y, num_epochs=1, shuffle=False)\n",
        "    pred = est.evaluate(input_fn)\n",
        "\n",
        "    return pred['accuracy']\n",
        "\n",
        "\n",
        "print('Features: ', feature_names)\n",
        "importances = permutation_importances(boosted_trees_est, X_test, y_test, accuracy_metric, feature_names)\n",
        "df_imp = pd.Series(importances, index=feature_names)\n",
        "\n",
        "N = 10\n",
        "sorted_ix = df_imp.abs().sort_values().index\n",
        "ax = df_imp[sorted_ix][-N:].plot(kind='barh', color=sns_colors[2], figsize=(10, 6))\n",
        "ax.grid(False, axis='y')\n",
        "ax.set_title('Permutation feature importance')\n",
        "plt.show()\n"
      ],
      "execution_count": null,
      "outputs": [
        {
          "output_type": "stream",
          "text": [
            "Features:  ['consistency', 'temperature', 'almond', 'anchovy', 'apple', 'arugula', 'banana', 'bay_leaf', 'bean', 'bell_pepper', 'black_pepper', 'blueberry', 'butter', 'carrot', 'cheese', 'chickpea', 'chili', 'chocolate', 'cookies', 'coriander', 'cranberry', 'cumin', 'egg', 'flour', 'garlic', 'ginger', 'kiwi', 'mango', 'mayonnaise', 'milk', 'mushroom', 'oil', 'okra', 'olive', 'onion', 'pea', 'peanut', 'pineapple', 'potato', 'red_pepper', 'rice', 'salt', 'skim_milk', 'spinach', 'squash', 'strawberry', 'sugar', 'tomato', 'tumeric', 'vanilla']\n",
            "INFO:tensorflow:Calling model_fn.\n",
            "WARNING:tensorflow:Trapezoidal rule is known to produce incorrect PR-AUCs; please switch to \"careful_interpolation\" instead.\n",
            "WARNING:tensorflow:Trapezoidal rule is known to produce incorrect PR-AUCs; please switch to \"careful_interpolation\" instead.\n",
            "INFO:tensorflow:Done calling model_fn.\n",
            "INFO:tensorflow:Starting evaluation at 2021-02-02T00:32:27Z\n",
            "INFO:tensorflow:Graph was finalized.\n",
            "INFO:tensorflow:Restoring parameters from /tmp/tmpl6_ne5y3/model.ckpt-100\n",
            "INFO:tensorflow:Running local_init_op.\n",
            "INFO:tensorflow:Done running local_init_op.\n",
            "INFO:tensorflow:Inference Time : 0.93665s\n",
            "INFO:tensorflow:Finished evaluation at 2021-02-02-00:32:28\n",
            "INFO:tensorflow:Saving dict for global step 100: accuracy = 0.42857143, accuracy_baseline = 0.85714287, auc = 0.49999958, auc_precision_recall = 0.9047618, average_loss = 1.2477659, global_step = 100, label/mean = 0.85714287, loss = 1.2477659, precision = 0.75, prediction/mean = 0.6191873, recall = 0.5\n",
            "INFO:tensorflow:Saving 'checkpoint_path' summary for global step 100: /tmp/tmpl6_ne5y3/model.ckpt-100\n",
            "INFO:tensorflow:Calling model_fn.\n"
          ],
          "name": "stdout"
        },
        {
          "output_type": "stream",
          "text": [
            "/usr/local/lib/python3.6/dist-packages/ipykernel_launcher.py:12: SettingWithCopyWarning: \n",
            "A value is trying to be set on a copy of a slice from a DataFrame.\n",
            "Try using .loc[row_indexer,col_indexer] = value instead\n",
            "\n",
            "See the caveats in the documentation: https://pandas.pydata.org/pandas-docs/stable/user_guide/indexing.html#returning-a-view-versus-a-copy\n",
            "  if sys.path[0] == '':\n"
          ],
          "name": "stderr"
        },
        {
          "output_type": "stream",
          "text": [
            "WARNING:tensorflow:Trapezoidal rule is known to produce incorrect PR-AUCs; please switch to \"careful_interpolation\" instead.\n",
            "WARNING:tensorflow:Trapezoidal rule is known to produce incorrect PR-AUCs; please switch to \"careful_interpolation\" instead.\n",
            "INFO:tensorflow:Done calling model_fn.\n",
            "INFO:tensorflow:Starting evaluation at 2021-02-02T00:32:30Z\n",
            "INFO:tensorflow:Graph was finalized.\n",
            "INFO:tensorflow:Restoring parameters from /tmp/tmpl6_ne5y3/model.ckpt-100\n",
            "INFO:tensorflow:Running local_init_op.\n",
            "INFO:tensorflow:Done running local_init_op.\n",
            "INFO:tensorflow:Inference Time : 0.97625s\n",
            "INFO:tensorflow:Finished evaluation at 2021-02-02-00:32:31\n",
            "INFO:tensorflow:Saving dict for global step 100: accuracy = 0.42857143, accuracy_baseline = 0.85714287, auc = 0.49999958, auc_precision_recall = 0.9047618, average_loss = 1.2477659, global_step = 100, label/mean = 0.85714287, loss = 1.2477659, precision = 0.75, prediction/mean = 0.6191873, recall = 0.5\n",
            "INFO:tensorflow:Saving 'checkpoint_path' summary for global step 100: /tmp/tmpl6_ne5y3/model.ckpt-100\n",
            "INFO:tensorflow:Calling model_fn.\n"
          ],
          "name": "stdout"
        },
        {
          "output_type": "stream",
          "text": [
            "/usr/local/lib/python3.6/dist-packages/ipykernel_launcher.py:14: SettingWithCopyWarning: \n",
            "A value is trying to be set on a copy of a slice from a DataFrame.\n",
            "Try using .loc[row_indexer,col_indexer] = value instead\n",
            "\n",
            "See the caveats in the documentation: https://pandas.pydata.org/pandas-docs/stable/user_guide/indexing.html#returning-a-view-versus-a-copy\n",
            "  \n"
          ],
          "name": "stderr"
        },
        {
          "output_type": "stream",
          "text": [
            "WARNING:tensorflow:Trapezoidal rule is known to produce incorrect PR-AUCs; please switch to \"careful_interpolation\" instead.\n",
            "WARNING:tensorflow:Trapezoidal rule is known to produce incorrect PR-AUCs; please switch to \"careful_interpolation\" instead.\n",
            "INFO:tensorflow:Done calling model_fn.\n",
            "INFO:tensorflow:Starting evaluation at 2021-02-02T00:32:32Z\n",
            "INFO:tensorflow:Graph was finalized.\n",
            "INFO:tensorflow:Restoring parameters from /tmp/tmpl6_ne5y3/model.ckpt-100\n",
            "INFO:tensorflow:Running local_init_op.\n",
            "INFO:tensorflow:Done running local_init_op.\n",
            "INFO:tensorflow:Inference Time : 0.90648s\n",
            "INFO:tensorflow:Finished evaluation at 2021-02-02-00:32:33\n",
            "INFO:tensorflow:Saving dict for global step 100: accuracy = 0.42857143, accuracy_baseline = 0.85714287, auc = 0.49999958, auc_precision_recall = 0.9047618, average_loss = 1.2477659, global_step = 100, label/mean = 0.85714287, loss = 1.2477659, precision = 0.75, prediction/mean = 0.6191873, recall = 0.5\n",
            "INFO:tensorflow:Saving 'checkpoint_path' summary for global step 100: /tmp/tmpl6_ne5y3/model.ckpt-100\n",
            "INFO:tensorflow:Calling model_fn.\n",
            "WARNING:tensorflow:Trapezoidal rule is known to produce incorrect PR-AUCs; please switch to \"careful_interpolation\" instead.\n",
            "WARNING:tensorflow:Trapezoidal rule is known to produce incorrect PR-AUCs; please switch to \"careful_interpolation\" instead.\n",
            "INFO:tensorflow:Done calling model_fn.\n",
            "INFO:tensorflow:Starting evaluation at 2021-02-02T00:32:34Z\n",
            "INFO:tensorflow:Graph was finalized.\n",
            "INFO:tensorflow:Restoring parameters from /tmp/tmpl6_ne5y3/model.ckpt-100\n",
            "INFO:tensorflow:Running local_init_op.\n",
            "INFO:tensorflow:Done running local_init_op.\n",
            "INFO:tensorflow:Inference Time : 0.92432s\n",
            "INFO:tensorflow:Finished evaluation at 2021-02-02-00:32:35\n",
            "INFO:tensorflow:Saving dict for global step 100: accuracy = 0.42857143, accuracy_baseline = 0.85714287, auc = 0.49999958, auc_precision_recall = 0.9047618, average_loss = 1.2477659, global_step = 100, label/mean = 0.85714287, loss = 1.2477659, precision = 0.75, prediction/mean = 0.6191873, recall = 0.5\n",
            "INFO:tensorflow:Saving 'checkpoint_path' summary for global step 100: /tmp/tmpl6_ne5y3/model.ckpt-100\n",
            "INFO:tensorflow:Calling model_fn.\n",
            "WARNING:tensorflow:Trapezoidal rule is known to produce incorrect PR-AUCs; please switch to \"careful_interpolation\" instead.\n",
            "WARNING:tensorflow:Trapezoidal rule is known to produce incorrect PR-AUCs; please switch to \"careful_interpolation\" instead.\n",
            "INFO:tensorflow:Done calling model_fn.\n",
            "INFO:tensorflow:Starting evaluation at 2021-02-02T00:32:37Z\n",
            "INFO:tensorflow:Graph was finalized.\n",
            "INFO:tensorflow:Restoring parameters from /tmp/tmpl6_ne5y3/model.ckpt-100\n",
            "INFO:tensorflow:Running local_init_op.\n",
            "INFO:tensorflow:Done running local_init_op.\n",
            "INFO:tensorflow:Inference Time : 0.98896s\n",
            "INFO:tensorflow:Finished evaluation at 2021-02-02-00:32:38\n",
            "INFO:tensorflow:Saving dict for global step 100: accuracy = 0.42857143, accuracy_baseline = 0.85714287, auc = 0.49999958, auc_precision_recall = 0.9047618, average_loss = 1.2477659, global_step = 100, label/mean = 0.85714287, loss = 1.2477659, precision = 0.75, prediction/mean = 0.6191873, recall = 0.5\n",
            "INFO:tensorflow:Saving 'checkpoint_path' summary for global step 100: /tmp/tmpl6_ne5y3/model.ckpt-100\n",
            "INFO:tensorflow:Calling model_fn.\n",
            "WARNING:tensorflow:Trapezoidal rule is known to produce incorrect PR-AUCs; please switch to \"careful_interpolation\" instead.\n",
            "WARNING:tensorflow:Trapezoidal rule is known to produce incorrect PR-AUCs; please switch to \"careful_interpolation\" instead.\n",
            "INFO:tensorflow:Done calling model_fn.\n",
            "INFO:tensorflow:Starting evaluation at 2021-02-02T00:32:39Z\n",
            "INFO:tensorflow:Graph was finalized.\n",
            "INFO:tensorflow:Restoring parameters from /tmp/tmpl6_ne5y3/model.ckpt-100\n",
            "INFO:tensorflow:Running local_init_op.\n",
            "INFO:tensorflow:Done running local_init_op.\n",
            "INFO:tensorflow:Inference Time : 0.96246s\n",
            "INFO:tensorflow:Finished evaluation at 2021-02-02-00:32:40\n",
            "INFO:tensorflow:Saving dict for global step 100: accuracy = 0.42857143, accuracy_baseline = 0.85714287, auc = 0.49999958, auc_precision_recall = 0.90615064, average_loss = 1.1866627, global_step = 100, label/mean = 0.85714287, loss = 1.1866627, precision = 0.75, prediction/mean = 0.6308447, recall = 0.5\n",
            "INFO:tensorflow:Saving 'checkpoint_path' summary for global step 100: /tmp/tmpl6_ne5y3/model.ckpt-100\n",
            "INFO:tensorflow:Calling model_fn.\n",
            "WARNING:tensorflow:Trapezoidal rule is known to produce incorrect PR-AUCs; please switch to \"careful_interpolation\" instead.\n",
            "WARNING:tensorflow:Trapezoidal rule is known to produce incorrect PR-AUCs; please switch to \"careful_interpolation\" instead.\n",
            "INFO:tensorflow:Done calling model_fn.\n",
            "INFO:tensorflow:Starting evaluation at 2021-02-02T00:32:41Z\n",
            "INFO:tensorflow:Graph was finalized.\n",
            "INFO:tensorflow:Restoring parameters from /tmp/tmpl6_ne5y3/model.ckpt-100\n",
            "INFO:tensorflow:Running local_init_op.\n",
            "INFO:tensorflow:Done running local_init_op.\n",
            "INFO:tensorflow:Inference Time : 0.97300s\n",
            "INFO:tensorflow:Finished evaluation at 2021-02-02-00:32:42\n",
            "INFO:tensorflow:Saving dict for global step 100: accuracy = 0.42857143, accuracy_baseline = 0.85714287, auc = 0.49999958, auc_precision_recall = 0.90615064, average_loss = 1.219835, global_step = 100, label/mean = 0.85714287, loss = 1.219835, precision = 0.75, prediction/mean = 0.6332002, recall = 0.5\n",
            "INFO:tensorflow:Saving 'checkpoint_path' summary for global step 100: /tmp/tmpl6_ne5y3/model.ckpt-100\n",
            "INFO:tensorflow:Calling model_fn.\n",
            "WARNING:tensorflow:Trapezoidal rule is known to produce incorrect PR-AUCs; please switch to \"careful_interpolation\" instead.\n",
            "WARNING:tensorflow:Trapezoidal rule is known to produce incorrect PR-AUCs; please switch to \"careful_interpolation\" instead.\n",
            "INFO:tensorflow:Done calling model_fn.\n",
            "INFO:tensorflow:Starting evaluation at 2021-02-02T00:32:43Z\n",
            "INFO:tensorflow:Graph was finalized.\n",
            "INFO:tensorflow:Restoring parameters from /tmp/tmpl6_ne5y3/model.ckpt-100\n",
            "INFO:tensorflow:Running local_init_op.\n",
            "INFO:tensorflow:Done running local_init_op.\n",
            "INFO:tensorflow:Inference Time : 0.92661s\n",
            "INFO:tensorflow:Finished evaluation at 2021-02-02-00:32:44\n",
            "INFO:tensorflow:Saving dict for global step 100: accuracy = 0.71428573, accuracy_baseline = 0.85714287, auc = 0.99999905, auc_precision_recall = 0.9999998, average_loss = 0.60135, global_step = 100, label/mean = 0.85714287, loss = 0.60135, precision = 1.0, prediction/mean = 0.6096691, recall = 0.6666667\n",
            "INFO:tensorflow:Saving 'checkpoint_path' summary for global step 100: /tmp/tmpl6_ne5y3/model.ckpt-100\n",
            "INFO:tensorflow:Calling model_fn.\n",
            "WARNING:tensorflow:Trapezoidal rule is known to produce incorrect PR-AUCs; please switch to \"careful_interpolation\" instead.\n",
            "WARNING:tensorflow:Trapezoidal rule is known to produce incorrect PR-AUCs; please switch to \"careful_interpolation\" instead.\n",
            "INFO:tensorflow:Done calling model_fn.\n",
            "INFO:tensorflow:Starting evaluation at 2021-02-02T00:32:46Z\n",
            "INFO:tensorflow:Graph was finalized.\n",
            "INFO:tensorflow:Restoring parameters from /tmp/tmpl6_ne5y3/model.ckpt-100\n",
            "INFO:tensorflow:Running local_init_op.\n",
            "INFO:tensorflow:Done running local_init_op.\n",
            "INFO:tensorflow:Inference Time : 0.95399s\n",
            "INFO:tensorflow:Finished evaluation at 2021-02-02-00:32:47\n",
            "INFO:tensorflow:Saving dict for global step 100: accuracy = 0.42857143, accuracy_baseline = 0.85714287, auc = 0.49999958, auc_precision_recall = 0.9047618, average_loss = 1.2477659, global_step = 100, label/mean = 0.85714287, loss = 1.2477659, precision = 0.75, prediction/mean = 0.6191873, recall = 0.5\n",
            "INFO:tensorflow:Saving 'checkpoint_path' summary for global step 100: /tmp/tmpl6_ne5y3/model.ckpt-100\n",
            "INFO:tensorflow:Calling model_fn.\n",
            "WARNING:tensorflow:Trapezoidal rule is known to produce incorrect PR-AUCs; please switch to \"careful_interpolation\" instead.\n",
            "WARNING:tensorflow:Trapezoidal rule is known to produce incorrect PR-AUCs; please switch to \"careful_interpolation\" instead.\n",
            "INFO:tensorflow:Done calling model_fn.\n",
            "INFO:tensorflow:Starting evaluation at 2021-02-02T00:32:48Z\n",
            "INFO:tensorflow:Graph was finalized.\n",
            "INFO:tensorflow:Restoring parameters from /tmp/tmpl6_ne5y3/model.ckpt-100\n",
            "INFO:tensorflow:Running local_init_op.\n",
            "INFO:tensorflow:Done running local_init_op.\n",
            "INFO:tensorflow:Inference Time : 0.94295s\n",
            "INFO:tensorflow:Finished evaluation at 2021-02-02-00:32:49\n",
            "INFO:tensorflow:Saving dict for global step 100: accuracy = 0.42857143, accuracy_baseline = 0.85714287, auc = 0.49999958, auc_precision_recall = 0.9047618, average_loss = 1.2477659, global_step = 100, label/mean = 0.85714287, loss = 1.2477659, precision = 0.75, prediction/mean = 0.6191873, recall = 0.5\n",
            "INFO:tensorflow:Saving 'checkpoint_path' summary for global step 100: /tmp/tmpl6_ne5y3/model.ckpt-100\n",
            "INFO:tensorflow:Calling model_fn.\n",
            "WARNING:tensorflow:Trapezoidal rule is known to produce incorrect PR-AUCs; please switch to \"careful_interpolation\" instead.\n",
            "WARNING:tensorflow:Trapezoidal rule is known to produce incorrect PR-AUCs; please switch to \"careful_interpolation\" instead.\n",
            "INFO:tensorflow:Done calling model_fn.\n",
            "INFO:tensorflow:Starting evaluation at 2021-02-02T00:32:50Z\n",
            "INFO:tensorflow:Graph was finalized.\n",
            "INFO:tensorflow:Restoring parameters from /tmp/tmpl6_ne5y3/model.ckpt-100\n",
            "INFO:tensorflow:Running local_init_op.\n",
            "INFO:tensorflow:Done running local_init_op.\n",
            "INFO:tensorflow:Inference Time : 1.77902s\n",
            "INFO:tensorflow:Finished evaluation at 2021-02-02-00:32:52\n",
            "INFO:tensorflow:Saving dict for global step 100: accuracy = 0.42857143, accuracy_baseline = 0.85714287, auc = 0.49999958, auc_precision_recall = 0.9047618, average_loss = 1.2477659, global_step = 100, label/mean = 0.85714287, loss = 1.2477659, precision = 0.75, prediction/mean = 0.6191873, recall = 0.5\n",
            "INFO:tensorflow:Saving 'checkpoint_path' summary for global step 100: /tmp/tmpl6_ne5y3/model.ckpt-100\n",
            "INFO:tensorflow:Calling model_fn.\n",
            "WARNING:tensorflow:Trapezoidal rule is known to produce incorrect PR-AUCs; please switch to \"careful_interpolation\" instead.\n",
            "WARNING:tensorflow:Trapezoidal rule is known to produce incorrect PR-AUCs; please switch to \"careful_interpolation\" instead.\n",
            "INFO:tensorflow:Done calling model_fn.\n",
            "INFO:tensorflow:Starting evaluation at 2021-02-02T00:32:53Z\n",
            "INFO:tensorflow:Graph was finalized.\n",
            "INFO:tensorflow:Restoring parameters from /tmp/tmpl6_ne5y3/model.ckpt-100\n",
            "INFO:tensorflow:Running local_init_op.\n",
            "INFO:tensorflow:Done running local_init_op.\n",
            "INFO:tensorflow:Inference Time : 0.93069s\n",
            "INFO:tensorflow:Finished evaluation at 2021-02-02-00:32:54\n",
            "INFO:tensorflow:Saving dict for global step 100: accuracy = 0.42857143, accuracy_baseline = 0.85714287, auc = 0.49999958, auc_precision_recall = 0.9047618, average_loss = 1.2477659, global_step = 100, label/mean = 0.85714287, loss = 1.2477659, precision = 0.75, prediction/mean = 0.6191873, recall = 0.5\n",
            "INFO:tensorflow:Saving 'checkpoint_path' summary for global step 100: /tmp/tmpl6_ne5y3/model.ckpt-100\n",
            "INFO:tensorflow:Calling model_fn.\n",
            "WARNING:tensorflow:Trapezoidal rule is known to produce incorrect PR-AUCs; please switch to \"careful_interpolation\" instead.\n",
            "WARNING:tensorflow:Trapezoidal rule is known to produce incorrect PR-AUCs; please switch to \"careful_interpolation\" instead.\n",
            "INFO:tensorflow:Done calling model_fn.\n",
            "INFO:tensorflow:Starting evaluation at 2021-02-02T00:32:56Z\n",
            "INFO:tensorflow:Graph was finalized.\n",
            "INFO:tensorflow:Restoring parameters from /tmp/tmpl6_ne5y3/model.ckpt-100\n",
            "INFO:tensorflow:Running local_init_op.\n",
            "INFO:tensorflow:Done running local_init_op.\n",
            "INFO:tensorflow:Inference Time : 0.99052s\n",
            "INFO:tensorflow:Finished evaluation at 2021-02-02-00:32:57\n",
            "INFO:tensorflow:Saving dict for global step 100: accuracy = 0.42857143, accuracy_baseline = 0.85714287, auc = 0.49999958, auc_precision_recall = 0.9047618, average_loss = 1.2477659, global_step = 100, label/mean = 0.85714287, loss = 1.2477659, precision = 0.75, prediction/mean = 0.6191873, recall = 0.5\n",
            "INFO:tensorflow:Saving 'checkpoint_path' summary for global step 100: /tmp/tmpl6_ne5y3/model.ckpt-100\n",
            "INFO:tensorflow:Calling model_fn.\n",
            "WARNING:tensorflow:Trapezoidal rule is known to produce incorrect PR-AUCs; please switch to \"careful_interpolation\" instead.\n",
            "WARNING:tensorflow:Trapezoidal rule is known to produce incorrect PR-AUCs; please switch to \"careful_interpolation\" instead.\n",
            "INFO:tensorflow:Done calling model_fn.\n",
            "INFO:tensorflow:Starting evaluation at 2021-02-02T00:32:58Z\n",
            "INFO:tensorflow:Graph was finalized.\n",
            "INFO:tensorflow:Restoring parameters from /tmp/tmpl6_ne5y3/model.ckpt-100\n",
            "INFO:tensorflow:Running local_init_op.\n",
            "INFO:tensorflow:Done running local_init_op.\n",
            "INFO:tensorflow:Inference Time : 0.98963s\n",
            "INFO:tensorflow:Finished evaluation at 2021-02-02-00:32:59\n",
            "INFO:tensorflow:Saving dict for global step 100: accuracy = 0.42857143, accuracy_baseline = 0.85714287, auc = 0.49999958, auc_precision_recall = 0.9047618, average_loss = 1.2477659, global_step = 100, label/mean = 0.85714287, loss = 1.2477659, precision = 0.75, prediction/mean = 0.6191873, recall = 0.5\n",
            "INFO:tensorflow:Saving 'checkpoint_path' summary for global step 100: /tmp/tmpl6_ne5y3/model.ckpt-100\n",
            "INFO:tensorflow:Calling model_fn.\n",
            "WARNING:tensorflow:Trapezoidal rule is known to produce incorrect PR-AUCs; please switch to \"careful_interpolation\" instead.\n",
            "WARNING:tensorflow:Trapezoidal rule is known to produce incorrect PR-AUCs; please switch to \"careful_interpolation\" instead.\n",
            "INFO:tensorflow:Done calling model_fn.\n",
            "INFO:tensorflow:Starting evaluation at 2021-02-02T00:33:00Z\n",
            "INFO:tensorflow:Graph was finalized.\n",
            "INFO:tensorflow:Restoring parameters from /tmp/tmpl6_ne5y3/model.ckpt-100\n",
            "INFO:tensorflow:Running local_init_op.\n",
            "INFO:tensorflow:Done running local_init_op.\n",
            "INFO:tensorflow:Inference Time : 0.96832s\n",
            "INFO:tensorflow:Finished evaluation at 2021-02-02-00:33:01\n",
            "INFO:tensorflow:Saving dict for global step 100: accuracy = 0.42857143, accuracy_baseline = 0.85714287, auc = 0.49999958, auc_precision_recall = 0.9047618, average_loss = 1.2477659, global_step = 100, label/mean = 0.85714287, loss = 1.2477659, precision = 0.75, prediction/mean = 0.6191873, recall = 0.5\n",
            "INFO:tensorflow:Saving 'checkpoint_path' summary for global step 100: /tmp/tmpl6_ne5y3/model.ckpt-100\n",
            "INFO:tensorflow:Calling model_fn.\n",
            "WARNING:tensorflow:Trapezoidal rule is known to produce incorrect PR-AUCs; please switch to \"careful_interpolation\" instead.\n",
            "WARNING:tensorflow:Trapezoidal rule is known to produce incorrect PR-AUCs; please switch to \"careful_interpolation\" instead.\n",
            "INFO:tensorflow:Done calling model_fn.\n",
            "INFO:tensorflow:Starting evaluation at 2021-02-02T00:33:03Z\n",
            "INFO:tensorflow:Graph was finalized.\n",
            "INFO:tensorflow:Restoring parameters from /tmp/tmpl6_ne5y3/model.ckpt-100\n",
            "INFO:tensorflow:Running local_init_op.\n",
            "INFO:tensorflow:Done running local_init_op.\n",
            "INFO:tensorflow:Inference Time : 1.00258s\n",
            "INFO:tensorflow:Finished evaluation at 2021-02-02-00:33:04\n",
            "INFO:tensorflow:Saving dict for global step 100: accuracy = 0.42857143, accuracy_baseline = 0.85714287, auc = 0.16666664, auc_precision_recall = 0.78670627, average_loss = 1.5609167, global_step = 100, label/mean = 0.85714287, loss = 1.5609167, precision = 0.75, prediction/mean = 0.6153143, recall = 0.5\n",
            "INFO:tensorflow:Saving 'checkpoint_path' summary for global step 100: /tmp/tmpl6_ne5y3/model.ckpt-100\n",
            "INFO:tensorflow:Calling model_fn.\n",
            "WARNING:tensorflow:Trapezoidal rule is known to produce incorrect PR-AUCs; please switch to \"careful_interpolation\" instead.\n",
            "WARNING:tensorflow:Trapezoidal rule is known to produce incorrect PR-AUCs; please switch to \"careful_interpolation\" instead.\n",
            "INFO:tensorflow:Done calling model_fn.\n",
            "INFO:tensorflow:Starting evaluation at 2021-02-02T00:33:05Z\n",
            "INFO:tensorflow:Graph was finalized.\n",
            "INFO:tensorflow:Restoring parameters from /tmp/tmpl6_ne5y3/model.ckpt-100\n",
            "INFO:tensorflow:Running local_init_op.\n",
            "INFO:tensorflow:Done running local_init_op.\n",
            "INFO:tensorflow:Inference Time : 0.95987s\n",
            "INFO:tensorflow:Finished evaluation at 2021-02-02-00:33:06\n",
            "INFO:tensorflow:Saving dict for global step 100: accuracy = 0.42857143, accuracy_baseline = 0.85714287, auc = 0.49999958, auc_precision_recall = 0.9047618, average_loss = 1.2477659, global_step = 100, label/mean = 0.85714287, loss = 1.2477659, precision = 0.75, prediction/mean = 0.6191873, recall = 0.5\n",
            "INFO:tensorflow:Saving 'checkpoint_path' summary for global step 100: /tmp/tmpl6_ne5y3/model.ckpt-100\n",
            "INFO:tensorflow:Calling model_fn.\n",
            "WARNING:tensorflow:Trapezoidal rule is known to produce incorrect PR-AUCs; please switch to \"careful_interpolation\" instead.\n",
            "WARNING:tensorflow:Trapezoidal rule is known to produce incorrect PR-AUCs; please switch to \"careful_interpolation\" instead.\n",
            "INFO:tensorflow:Done calling model_fn.\n",
            "INFO:tensorflow:Starting evaluation at 2021-02-02T00:33:07Z\n",
            "INFO:tensorflow:Graph was finalized.\n",
            "INFO:tensorflow:Restoring parameters from /tmp/tmpl6_ne5y3/model.ckpt-100\n",
            "INFO:tensorflow:Running local_init_op.\n",
            "INFO:tensorflow:Done running local_init_op.\n",
            "INFO:tensorflow:Inference Time : 0.93972s\n",
            "INFO:tensorflow:Finished evaluation at 2021-02-02-00:33:08\n",
            "INFO:tensorflow:Saving dict for global step 100: accuracy = 0.42857143, accuracy_baseline = 0.85714287, auc = 0.49999958, auc_precision_recall = 0.9047618, average_loss = 1.2477659, global_step = 100, label/mean = 0.85714287, loss = 1.2477659, precision = 0.75, prediction/mean = 0.6191873, recall = 0.5\n",
            "INFO:tensorflow:Saving 'checkpoint_path' summary for global step 100: /tmp/tmpl6_ne5y3/model.ckpt-100\n",
            "INFO:tensorflow:Calling model_fn.\n",
            "WARNING:tensorflow:Trapezoidal rule is known to produce incorrect PR-AUCs; please switch to \"careful_interpolation\" instead.\n",
            "WARNING:tensorflow:Trapezoidal rule is known to produce incorrect PR-AUCs; please switch to \"careful_interpolation\" instead.\n",
            "INFO:tensorflow:Done calling model_fn.\n",
            "INFO:tensorflow:Starting evaluation at 2021-02-02T00:33:09Z\n",
            "INFO:tensorflow:Graph was finalized.\n",
            "INFO:tensorflow:Restoring parameters from /tmp/tmpl6_ne5y3/model.ckpt-100\n",
            "INFO:tensorflow:Running local_init_op.\n",
            "INFO:tensorflow:Done running local_init_op.\n",
            "INFO:tensorflow:Inference Time : 0.94919s\n",
            "INFO:tensorflow:Finished evaluation at 2021-02-02-00:33:10\n",
            "INFO:tensorflow:Saving dict for global step 100: accuracy = 0.42857143, accuracy_baseline = 0.85714287, auc = 0.41666636, auc_precision_recall = 0.8839284, average_loss = 1.2666374, global_step = 100, label/mean = 0.85714287, loss = 1.2666374, precision = 0.75, prediction/mean = 0.6201593, recall = 0.5\n",
            "INFO:tensorflow:Saving 'checkpoint_path' summary for global step 100: /tmp/tmpl6_ne5y3/model.ckpt-100\n",
            "INFO:tensorflow:Calling model_fn.\n",
            "WARNING:tensorflow:Trapezoidal rule is known to produce incorrect PR-AUCs; please switch to \"careful_interpolation\" instead.\n",
            "WARNING:tensorflow:Trapezoidal rule is known to produce incorrect PR-AUCs; please switch to \"careful_interpolation\" instead.\n",
            "INFO:tensorflow:Done calling model_fn.\n",
            "INFO:tensorflow:Starting evaluation at 2021-02-02T00:33:12Z\n",
            "INFO:tensorflow:Graph was finalized.\n",
            "INFO:tensorflow:Restoring parameters from /tmp/tmpl6_ne5y3/model.ckpt-100\n",
            "INFO:tensorflow:Running local_init_op.\n",
            "INFO:tensorflow:Done running local_init_op.\n",
            "INFO:tensorflow:Inference Time : 0.97255s\n",
            "INFO:tensorflow:Finished evaluation at 2021-02-02-00:33:13\n",
            "INFO:tensorflow:Saving dict for global step 100: accuracy = 0.42857143, accuracy_baseline = 0.85714287, auc = 0.49999958, auc_precision_recall = 0.9047618, average_loss = 1.2477659, global_step = 100, label/mean = 0.85714287, loss = 1.2477659, precision = 0.75, prediction/mean = 0.6191873, recall = 0.5\n",
            "INFO:tensorflow:Saving 'checkpoint_path' summary for global step 100: /tmp/tmpl6_ne5y3/model.ckpt-100\n",
            "INFO:tensorflow:Calling model_fn.\n",
            "WARNING:tensorflow:Trapezoidal rule is known to produce incorrect PR-AUCs; please switch to \"careful_interpolation\" instead.\n",
            "WARNING:tensorflow:Trapezoidal rule is known to produce incorrect PR-AUCs; please switch to \"careful_interpolation\" instead.\n",
            "INFO:tensorflow:Done calling model_fn.\n",
            "INFO:tensorflow:Starting evaluation at 2021-02-02T00:33:15Z\n",
            "INFO:tensorflow:Graph was finalized.\n",
            "INFO:tensorflow:Restoring parameters from /tmp/tmpl6_ne5y3/model.ckpt-100\n",
            "INFO:tensorflow:Running local_init_op.\n",
            "INFO:tensorflow:Done running local_init_op.\n",
            "INFO:tensorflow:Inference Time : 0.94578s\n",
            "INFO:tensorflow:Finished evaluation at 2021-02-02-00:33:16\n",
            "INFO:tensorflow:Saving dict for global step 100: accuracy = 0.42857143, accuracy_baseline = 0.85714287, auc = 0.49999958, auc_precision_recall = 0.9047618, average_loss = 1.2477659, global_step = 100, label/mean = 0.85714287, loss = 1.2477659, precision = 0.75, prediction/mean = 0.6191873, recall = 0.5\n",
            "INFO:tensorflow:Saving 'checkpoint_path' summary for global step 100: /tmp/tmpl6_ne5y3/model.ckpt-100\n",
            "INFO:tensorflow:Calling model_fn.\n",
            "WARNING:tensorflow:Trapezoidal rule is known to produce incorrect PR-AUCs; please switch to \"careful_interpolation\" instead.\n",
            "WARNING:tensorflow:Trapezoidal rule is known to produce incorrect PR-AUCs; please switch to \"careful_interpolation\" instead.\n",
            "INFO:tensorflow:Done calling model_fn.\n",
            "INFO:tensorflow:Starting evaluation at 2021-02-02T00:33:17Z\n",
            "INFO:tensorflow:Graph was finalized.\n",
            "INFO:tensorflow:Restoring parameters from /tmp/tmpl6_ne5y3/model.ckpt-100\n",
            "INFO:tensorflow:Running local_init_op.\n",
            "INFO:tensorflow:Done running local_init_op.\n",
            "INFO:tensorflow:Inference Time : 0.99492s\n",
            "INFO:tensorflow:Finished evaluation at 2021-02-02-00:33:18\n",
            "INFO:tensorflow:Saving dict for global step 100: accuracy = 0.42857143, accuracy_baseline = 0.85714287, auc = 0.49999958, auc_precision_recall = 0.9047618, average_loss = 1.2477659, global_step = 100, label/mean = 0.85714287, loss = 1.2477659, precision = 0.75, prediction/mean = 0.6191873, recall = 0.5\n",
            "INFO:tensorflow:Saving 'checkpoint_path' summary for global step 100: /tmp/tmpl6_ne5y3/model.ckpt-100\n",
            "INFO:tensorflow:Calling model_fn.\n",
            "WARNING:tensorflow:Trapezoidal rule is known to produce incorrect PR-AUCs; please switch to \"careful_interpolation\" instead.\n",
            "WARNING:tensorflow:Trapezoidal rule is known to produce incorrect PR-AUCs; please switch to \"careful_interpolation\" instead.\n",
            "INFO:tensorflow:Done calling model_fn.\n",
            "INFO:tensorflow:Starting evaluation at 2021-02-02T00:33:19Z\n",
            "INFO:tensorflow:Graph was finalized.\n",
            "INFO:tensorflow:Restoring parameters from /tmp/tmpl6_ne5y3/model.ckpt-100\n",
            "INFO:tensorflow:Running local_init_op.\n",
            "INFO:tensorflow:Done running local_init_op.\n",
            "INFO:tensorflow:Inference Time : 0.93339s\n",
            "INFO:tensorflow:Finished evaluation at 2021-02-02-00:33:20\n",
            "INFO:tensorflow:Saving dict for global step 100: accuracy = 0.42857143, accuracy_baseline = 0.85714287, auc = 0.49999958, auc_precision_recall = 0.9047618, average_loss = 1.2477659, global_step = 100, label/mean = 0.85714287, loss = 1.2477659, precision = 0.75, prediction/mean = 0.6191873, recall = 0.5\n",
            "INFO:tensorflow:Saving 'checkpoint_path' summary for global step 100: /tmp/tmpl6_ne5y3/model.ckpt-100\n",
            "INFO:tensorflow:Calling model_fn.\n",
            "WARNING:tensorflow:Trapezoidal rule is known to produce incorrect PR-AUCs; please switch to \"careful_interpolation\" instead.\n",
            "WARNING:tensorflow:Trapezoidal rule is known to produce incorrect PR-AUCs; please switch to \"careful_interpolation\" instead.\n",
            "INFO:tensorflow:Done calling model_fn.\n",
            "INFO:tensorflow:Starting evaluation at 2021-02-02T00:33:21Z\n",
            "INFO:tensorflow:Graph was finalized.\n",
            "INFO:tensorflow:Restoring parameters from /tmp/tmpl6_ne5y3/model.ckpt-100\n",
            "INFO:tensorflow:Running local_init_op.\n",
            "INFO:tensorflow:Done running local_init_op.\n",
            "INFO:tensorflow:Inference Time : 0.97308s\n",
            "INFO:tensorflow:Finished evaluation at 2021-02-02-00:33:22\n",
            "INFO:tensorflow:Saving dict for global step 100: accuracy = 0.42857143, accuracy_baseline = 0.85714287, auc = 0.49999958, auc_precision_recall = 0.9047618, average_loss = 1.2477659, global_step = 100, label/mean = 0.85714287, loss = 1.2477659, precision = 0.75, prediction/mean = 0.6191873, recall = 0.5\n",
            "INFO:tensorflow:Saving 'checkpoint_path' summary for global step 100: /tmp/tmpl6_ne5y3/model.ckpt-100\n",
            "INFO:tensorflow:Calling model_fn.\n",
            "WARNING:tensorflow:Trapezoidal rule is known to produce incorrect PR-AUCs; please switch to \"careful_interpolation\" instead.\n",
            "WARNING:tensorflow:Trapezoidal rule is known to produce incorrect PR-AUCs; please switch to \"careful_interpolation\" instead.\n",
            "INFO:tensorflow:Done calling model_fn.\n",
            "INFO:tensorflow:Starting evaluation at 2021-02-02T00:33:24Z\n",
            "INFO:tensorflow:Graph was finalized.\n",
            "INFO:tensorflow:Restoring parameters from /tmp/tmpl6_ne5y3/model.ckpt-100\n",
            "INFO:tensorflow:Running local_init_op.\n",
            "INFO:tensorflow:Done running local_init_op.\n",
            "INFO:tensorflow:Inference Time : 0.97119s\n",
            "INFO:tensorflow:Finished evaluation at 2021-02-02-00:33:25\n",
            "INFO:tensorflow:Saving dict for global step 100: accuracy = 0.42857143, accuracy_baseline = 0.85714287, auc = 0.49999958, auc_precision_recall = 0.9047618, average_loss = 1.2477659, global_step = 100, label/mean = 0.85714287, loss = 1.2477659, precision = 0.75, prediction/mean = 0.6191873, recall = 0.5\n",
            "INFO:tensorflow:Saving 'checkpoint_path' summary for global step 100: /tmp/tmpl6_ne5y3/model.ckpt-100\n",
            "INFO:tensorflow:Calling model_fn.\n",
            "WARNING:tensorflow:Trapezoidal rule is known to produce incorrect PR-AUCs; please switch to \"careful_interpolation\" instead.\n",
            "WARNING:tensorflow:Trapezoidal rule is known to produce incorrect PR-AUCs; please switch to \"careful_interpolation\" instead.\n",
            "INFO:tensorflow:Done calling model_fn.\n",
            "INFO:tensorflow:Starting evaluation at 2021-02-02T00:33:26Z\n",
            "INFO:tensorflow:Graph was finalized.\n",
            "INFO:tensorflow:Restoring parameters from /tmp/tmpl6_ne5y3/model.ckpt-100\n",
            "INFO:tensorflow:Running local_init_op.\n",
            "INFO:tensorflow:Done running local_init_op.\n",
            "INFO:tensorflow:Inference Time : 0.97373s\n",
            "INFO:tensorflow:Finished evaluation at 2021-02-02-00:33:27\n",
            "INFO:tensorflow:Saving dict for global step 100: accuracy = 0.42857143, accuracy_baseline = 0.85714287, auc = 0.49999958, auc_precision_recall = 0.9047618, average_loss = 1.2477659, global_step = 100, label/mean = 0.85714287, loss = 1.2477659, precision = 0.75, prediction/mean = 0.6191873, recall = 0.5\n",
            "INFO:tensorflow:Saving 'checkpoint_path' summary for global step 100: /tmp/tmpl6_ne5y3/model.ckpt-100\n",
            "INFO:tensorflow:Calling model_fn.\n",
            "WARNING:tensorflow:Trapezoidal rule is known to produce incorrect PR-AUCs; please switch to \"careful_interpolation\" instead.\n",
            "WARNING:tensorflow:Trapezoidal rule is known to produce incorrect PR-AUCs; please switch to \"careful_interpolation\" instead.\n",
            "INFO:tensorflow:Done calling model_fn.\n",
            "INFO:tensorflow:Starting evaluation at 2021-02-02T00:33:28Z\n",
            "INFO:tensorflow:Graph was finalized.\n",
            "INFO:tensorflow:Restoring parameters from /tmp/tmpl6_ne5y3/model.ckpt-100\n",
            "INFO:tensorflow:Running local_init_op.\n",
            "INFO:tensorflow:Done running local_init_op.\n",
            "INFO:tensorflow:Inference Time : 0.95352s\n",
            "INFO:tensorflow:Finished evaluation at 2021-02-02-00:33:29\n",
            "INFO:tensorflow:Saving dict for global step 100: accuracy = 0.42857143, accuracy_baseline = 0.85714287, auc = 0.49999958, auc_precision_recall = 0.9047618, average_loss = 1.2477659, global_step = 100, label/mean = 0.85714287, loss = 1.2477659, precision = 0.75, prediction/mean = 0.6191873, recall = 0.5\n",
            "INFO:tensorflow:Saving 'checkpoint_path' summary for global step 100: /tmp/tmpl6_ne5y3/model.ckpt-100\n",
            "INFO:tensorflow:Calling model_fn.\n",
            "WARNING:tensorflow:Trapezoidal rule is known to produce incorrect PR-AUCs; please switch to \"careful_interpolation\" instead.\n",
            "WARNING:tensorflow:Trapezoidal rule is known to produce incorrect PR-AUCs; please switch to \"careful_interpolation\" instead.\n",
            "INFO:tensorflow:Done calling model_fn.\n",
            "INFO:tensorflow:Starting evaluation at 2021-02-02T00:33:31Z\n",
            "INFO:tensorflow:Graph was finalized.\n",
            "INFO:tensorflow:Restoring parameters from /tmp/tmpl6_ne5y3/model.ckpt-100\n",
            "INFO:tensorflow:Running local_init_op.\n",
            "INFO:tensorflow:Done running local_init_op.\n",
            "INFO:tensorflow:Inference Time : 0.99429s\n",
            "INFO:tensorflow:Finished evaluation at 2021-02-02-00:33:32\n",
            "INFO:tensorflow:Saving dict for global step 100: accuracy = 0.42857143, accuracy_baseline = 0.85714287, auc = 0.49999958, auc_precision_recall = 0.9047618, average_loss = 1.2477659, global_step = 100, label/mean = 0.85714287, loss = 1.2477659, precision = 0.75, prediction/mean = 0.6191873, recall = 0.5\n",
            "INFO:tensorflow:Saving 'checkpoint_path' summary for global step 100: /tmp/tmpl6_ne5y3/model.ckpt-100\n",
            "INFO:tensorflow:Calling model_fn.\n",
            "WARNING:tensorflow:Trapezoidal rule is known to produce incorrect PR-AUCs; please switch to \"careful_interpolation\" instead.\n",
            "WARNING:tensorflow:Trapezoidal rule is known to produce incorrect PR-AUCs; please switch to \"careful_interpolation\" instead.\n",
            "INFO:tensorflow:Done calling model_fn.\n",
            "INFO:tensorflow:Starting evaluation at 2021-02-02T00:33:33Z\n",
            "INFO:tensorflow:Graph was finalized.\n",
            "INFO:tensorflow:Restoring parameters from /tmp/tmpl6_ne5y3/model.ckpt-100\n",
            "INFO:tensorflow:Running local_init_op.\n",
            "INFO:tensorflow:Done running local_init_op.\n",
            "INFO:tensorflow:Inference Time : 0.97040s\n",
            "INFO:tensorflow:Finished evaluation at 2021-02-02-00:33:34\n",
            "INFO:tensorflow:Saving dict for global step 100: accuracy = 0.42857143, accuracy_baseline = 0.85714287, auc = 0.49999958, auc_precision_recall = 0.9047618, average_loss = 1.2536498, global_step = 100, label/mean = 0.85714287, loss = 1.2536498, precision = 0.75, prediction/mean = 0.6134714, recall = 0.5\n",
            "INFO:tensorflow:Saving 'checkpoint_path' summary for global step 100: /tmp/tmpl6_ne5y3/model.ckpt-100\n",
            "INFO:tensorflow:Calling model_fn.\n",
            "WARNING:tensorflow:Trapezoidal rule is known to produce incorrect PR-AUCs; please switch to \"careful_interpolation\" instead.\n",
            "WARNING:tensorflow:Trapezoidal rule is known to produce incorrect PR-AUCs; please switch to \"careful_interpolation\" instead.\n",
            "INFO:tensorflow:Done calling model_fn.\n",
            "INFO:tensorflow:Starting evaluation at 2021-02-02T00:33:36Z\n",
            "INFO:tensorflow:Graph was finalized.\n",
            "INFO:tensorflow:Restoring parameters from /tmp/tmpl6_ne5y3/model.ckpt-100\n",
            "INFO:tensorflow:Running local_init_op.\n",
            "INFO:tensorflow:Done running local_init_op.\n",
            "INFO:tensorflow:Inference Time : 1.00872s\n",
            "INFO:tensorflow:Finished evaluation at 2021-02-02-00:33:37\n",
            "INFO:tensorflow:Saving dict for global step 100: accuracy = 0.42857143, accuracy_baseline = 0.85714287, auc = 0.49999958, auc_precision_recall = 0.9047618, average_loss = 1.2477659, global_step = 100, label/mean = 0.85714287, loss = 1.2477659, precision = 0.75, prediction/mean = 0.6191873, recall = 0.5\n",
            "INFO:tensorflow:Saving 'checkpoint_path' summary for global step 100: /tmp/tmpl6_ne5y3/model.ckpt-100\n",
            "INFO:tensorflow:Calling model_fn.\n",
            "WARNING:tensorflow:Trapezoidal rule is known to produce incorrect PR-AUCs; please switch to \"careful_interpolation\" instead.\n",
            "WARNING:tensorflow:Trapezoidal rule is known to produce incorrect PR-AUCs; please switch to \"careful_interpolation\" instead.\n",
            "INFO:tensorflow:Done calling model_fn.\n",
            "INFO:tensorflow:Starting evaluation at 2021-02-02T00:33:38Z\n",
            "INFO:tensorflow:Graph was finalized.\n",
            "INFO:tensorflow:Restoring parameters from /tmp/tmpl6_ne5y3/model.ckpt-100\n",
            "INFO:tensorflow:Running local_init_op.\n",
            "INFO:tensorflow:Done running local_init_op.\n",
            "INFO:tensorflow:Inference Time : 0.98322s\n",
            "INFO:tensorflow:Finished evaluation at 2021-02-02-00:33:39\n",
            "INFO:tensorflow:Saving dict for global step 100: accuracy = 0.42857143, accuracy_baseline = 0.85714287, auc = 0.49999958, auc_precision_recall = 0.9047618, average_loss = 1.2477659, global_step = 100, label/mean = 0.85714287, loss = 1.2477659, precision = 0.75, prediction/mean = 0.6191873, recall = 0.5\n",
            "INFO:tensorflow:Saving 'checkpoint_path' summary for global step 100: /tmp/tmpl6_ne5y3/model.ckpt-100\n",
            "INFO:tensorflow:Calling model_fn.\n",
            "WARNING:tensorflow:Trapezoidal rule is known to produce incorrect PR-AUCs; please switch to \"careful_interpolation\" instead.\n",
            "WARNING:tensorflow:Trapezoidal rule is known to produce incorrect PR-AUCs; please switch to \"careful_interpolation\" instead.\n",
            "INFO:tensorflow:Done calling model_fn.\n",
            "INFO:tensorflow:Starting evaluation at 2021-02-02T00:33:41Z\n",
            "INFO:tensorflow:Graph was finalized.\n",
            "INFO:tensorflow:Restoring parameters from /tmp/tmpl6_ne5y3/model.ckpt-100\n",
            "INFO:tensorflow:Running local_init_op.\n",
            "INFO:tensorflow:Done running local_init_op.\n",
            "INFO:tensorflow:Inference Time : 0.98930s\n",
            "INFO:tensorflow:Finished evaluation at 2021-02-02-00:33:42\n",
            "INFO:tensorflow:Saving dict for global step 100: accuracy = 0.42857143, accuracy_baseline = 0.85714287, auc = 0.3333331, auc_precision_recall = 0.8561507, average_loss = 1.2709744, global_step = 100, label/mean = 0.85714287, loss = 1.2709744, precision = 0.75, prediction/mean = 0.59888875, recall = 0.5\n",
            "INFO:tensorflow:Saving 'checkpoint_path' summary for global step 100: /tmp/tmpl6_ne5y3/model.ckpt-100\n",
            "INFO:tensorflow:Calling model_fn.\n",
            "WARNING:tensorflow:Trapezoidal rule is known to produce incorrect PR-AUCs; please switch to \"careful_interpolation\" instead.\n",
            "WARNING:tensorflow:Trapezoidal rule is known to produce incorrect PR-AUCs; please switch to \"careful_interpolation\" instead.\n",
            "INFO:tensorflow:Done calling model_fn.\n",
            "INFO:tensorflow:Starting evaluation at 2021-02-02T00:33:43Z\n",
            "INFO:tensorflow:Graph was finalized.\n",
            "INFO:tensorflow:Restoring parameters from /tmp/tmpl6_ne5y3/model.ckpt-100\n",
            "INFO:tensorflow:Running local_init_op.\n",
            "INFO:tensorflow:Done running local_init_op.\n",
            "INFO:tensorflow:Inference Time : 0.97389s\n",
            "INFO:tensorflow:Finished evaluation at 2021-02-02-00:33:44\n",
            "INFO:tensorflow:Saving dict for global step 100: accuracy = 0.42857143, accuracy_baseline = 0.85714287, auc = 0.49999958, auc_precision_recall = 0.9047618, average_loss = 1.2477659, global_step = 100, label/mean = 0.85714287, loss = 1.2477659, precision = 0.75, prediction/mean = 0.6191873, recall = 0.5\n",
            "INFO:tensorflow:Saving 'checkpoint_path' summary for global step 100: /tmp/tmpl6_ne5y3/model.ckpt-100\n",
            "INFO:tensorflow:Calling model_fn.\n",
            "WARNING:tensorflow:Trapezoidal rule is known to produce incorrect PR-AUCs; please switch to \"careful_interpolation\" instead.\n",
            "WARNING:tensorflow:Trapezoidal rule is known to produce incorrect PR-AUCs; please switch to \"careful_interpolation\" instead.\n",
            "INFO:tensorflow:Done calling model_fn.\n",
            "INFO:tensorflow:Starting evaluation at 2021-02-02T00:33:45Z\n",
            "INFO:tensorflow:Graph was finalized.\n",
            "INFO:tensorflow:Restoring parameters from /tmp/tmpl6_ne5y3/model.ckpt-100\n",
            "INFO:tensorflow:Running local_init_op.\n",
            "INFO:tensorflow:Done running local_init_op.\n",
            "INFO:tensorflow:Inference Time : 1.02106s\n",
            "INFO:tensorflow:Finished evaluation at 2021-02-02-00:33:46\n",
            "INFO:tensorflow:Saving dict for global step 100: accuracy = 0.42857143, accuracy_baseline = 0.85714287, auc = 0.49999958, auc_precision_recall = 0.9047618, average_loss = 1.2477659, global_step = 100, label/mean = 0.85714287, loss = 1.2477659, precision = 0.75, prediction/mean = 0.6191873, recall = 0.5\n",
            "INFO:tensorflow:Saving 'checkpoint_path' summary for global step 100: /tmp/tmpl6_ne5y3/model.ckpt-100\n",
            "INFO:tensorflow:Calling model_fn.\n",
            "WARNING:tensorflow:Trapezoidal rule is known to produce incorrect PR-AUCs; please switch to \"careful_interpolation\" instead.\n",
            "WARNING:tensorflow:Trapezoidal rule is known to produce incorrect PR-AUCs; please switch to \"careful_interpolation\" instead.\n",
            "INFO:tensorflow:Done calling model_fn.\n",
            "INFO:tensorflow:Starting evaluation at 2021-02-02T00:33:48Z\n",
            "INFO:tensorflow:Graph was finalized.\n",
            "INFO:tensorflow:Restoring parameters from /tmp/tmpl6_ne5y3/model.ckpt-100\n",
            "INFO:tensorflow:Running local_init_op.\n",
            "INFO:tensorflow:Done running local_init_op.\n",
            "INFO:tensorflow:Inference Time : 1.03476s\n",
            "INFO:tensorflow:Finished evaluation at 2021-02-02-00:33:49\n",
            "INFO:tensorflow:Saving dict for global step 100: accuracy = 0.42857143, accuracy_baseline = 0.85714287, auc = 0.49999958, auc_precision_recall = 0.9047618, average_loss = 1.2477659, global_step = 100, label/mean = 0.85714287, loss = 1.2477659, precision = 0.75, prediction/mean = 0.6191873, recall = 0.5\n",
            "INFO:tensorflow:Saving 'checkpoint_path' summary for global step 100: /tmp/tmpl6_ne5y3/model.ckpt-100\n",
            "INFO:tensorflow:Calling model_fn.\n",
            "WARNING:tensorflow:Trapezoidal rule is known to produce incorrect PR-AUCs; please switch to \"careful_interpolation\" instead.\n",
            "WARNING:tensorflow:Trapezoidal rule is known to produce incorrect PR-AUCs; please switch to \"careful_interpolation\" instead.\n",
            "INFO:tensorflow:Done calling model_fn.\n",
            "INFO:tensorflow:Starting evaluation at 2021-02-02T00:33:50Z\n",
            "INFO:tensorflow:Graph was finalized.\n",
            "INFO:tensorflow:Restoring parameters from /tmp/tmpl6_ne5y3/model.ckpt-100\n",
            "INFO:tensorflow:Running local_init_op.\n",
            "INFO:tensorflow:Done running local_init_op.\n",
            "INFO:tensorflow:Inference Time : 0.96127s\n",
            "INFO:tensorflow:Finished evaluation at 2021-02-02-00:33:51\n",
            "INFO:tensorflow:Saving dict for global step 100: accuracy = 0.42857143, accuracy_baseline = 0.85714287, auc = 0.49999958, auc_precision_recall = 0.9047618, average_loss = 1.2477659, global_step = 100, label/mean = 0.85714287, loss = 1.2477659, precision = 0.75, prediction/mean = 0.6191873, recall = 0.5\n",
            "INFO:tensorflow:Saving 'checkpoint_path' summary for global step 100: /tmp/tmpl6_ne5y3/model.ckpt-100\n",
            "INFO:tensorflow:Calling model_fn.\n",
            "WARNING:tensorflow:Trapezoidal rule is known to produce incorrect PR-AUCs; please switch to \"careful_interpolation\" instead.\n",
            "WARNING:tensorflow:Trapezoidal rule is known to produce incorrect PR-AUCs; please switch to \"careful_interpolation\" instead.\n",
            "INFO:tensorflow:Done calling model_fn.\n",
            "INFO:tensorflow:Starting evaluation at 2021-02-02T00:33:53Z\n",
            "INFO:tensorflow:Graph was finalized.\n",
            "INFO:tensorflow:Restoring parameters from /tmp/tmpl6_ne5y3/model.ckpt-100\n",
            "INFO:tensorflow:Running local_init_op.\n",
            "INFO:tensorflow:Done running local_init_op.\n",
            "INFO:tensorflow:Inference Time : 0.92877s\n",
            "INFO:tensorflow:Finished evaluation at 2021-02-02-00:33:53\n",
            "INFO:tensorflow:Saving dict for global step 100: accuracy = 0.42857143, accuracy_baseline = 0.85714287, auc = 0.49999958, auc_precision_recall = 0.9047618, average_loss = 1.2477659, global_step = 100, label/mean = 0.85714287, loss = 1.2477659, precision = 0.75, prediction/mean = 0.6191873, recall = 0.5\n",
            "INFO:tensorflow:Saving 'checkpoint_path' summary for global step 100: /tmp/tmpl6_ne5y3/model.ckpt-100\n",
            "INFO:tensorflow:Calling model_fn.\n",
            "WARNING:tensorflow:Trapezoidal rule is known to produce incorrect PR-AUCs; please switch to \"careful_interpolation\" instead.\n",
            "WARNING:tensorflow:Trapezoidal rule is known to produce incorrect PR-AUCs; please switch to \"careful_interpolation\" instead.\n",
            "INFO:tensorflow:Done calling model_fn.\n",
            "INFO:tensorflow:Starting evaluation at 2021-02-02T00:33:55Z\n",
            "INFO:tensorflow:Graph was finalized.\n",
            "INFO:tensorflow:Restoring parameters from /tmp/tmpl6_ne5y3/model.ckpt-100\n",
            "INFO:tensorflow:Running local_init_op.\n",
            "INFO:tensorflow:Done running local_init_op.\n",
            "INFO:tensorflow:Inference Time : 0.95030s\n",
            "INFO:tensorflow:Finished evaluation at 2021-02-02-00:33:56\n",
            "INFO:tensorflow:Saving dict for global step 100: accuracy = 0.42857143, accuracy_baseline = 0.85714287, auc = 0.49999958, auc_precision_recall = 0.9047618, average_loss = 1.2477659, global_step = 100, label/mean = 0.85714287, loss = 1.2477659, precision = 0.75, prediction/mean = 0.6191873, recall = 0.5\n",
            "INFO:tensorflow:Saving 'checkpoint_path' summary for global step 100: /tmp/tmpl6_ne5y3/model.ckpt-100\n",
            "INFO:tensorflow:Calling model_fn.\n",
            "WARNING:tensorflow:Trapezoidal rule is known to produce incorrect PR-AUCs; please switch to \"careful_interpolation\" instead.\n",
            "WARNING:tensorflow:Trapezoidal rule is known to produce incorrect PR-AUCs; please switch to \"careful_interpolation\" instead.\n",
            "INFO:tensorflow:Done calling model_fn.\n",
            "INFO:tensorflow:Starting evaluation at 2021-02-02T00:33:58Z\n",
            "INFO:tensorflow:Graph was finalized.\n",
            "INFO:tensorflow:Restoring parameters from /tmp/tmpl6_ne5y3/model.ckpt-100\n",
            "INFO:tensorflow:Running local_init_op.\n",
            "INFO:tensorflow:Done running local_init_op.\n",
            "INFO:tensorflow:Inference Time : 1.02322s\n",
            "INFO:tensorflow:Finished evaluation at 2021-02-02-00:33:59\n",
            "INFO:tensorflow:Saving dict for global step 100: accuracy = 0.42857143, accuracy_baseline = 0.85714287, auc = 0.49999958, auc_precision_recall = 0.9047618, average_loss = 1.2477659, global_step = 100, label/mean = 0.85714287, loss = 1.2477659, precision = 0.75, prediction/mean = 0.6191873, recall = 0.5\n",
            "INFO:tensorflow:Saving 'checkpoint_path' summary for global step 100: /tmp/tmpl6_ne5y3/model.ckpt-100\n",
            "INFO:tensorflow:Calling model_fn.\n",
            "WARNING:tensorflow:Trapezoidal rule is known to produce incorrect PR-AUCs; please switch to \"careful_interpolation\" instead.\n",
            "WARNING:tensorflow:Trapezoidal rule is known to produce incorrect PR-AUCs; please switch to \"careful_interpolation\" instead.\n",
            "INFO:tensorflow:Done calling model_fn.\n",
            "INFO:tensorflow:Starting evaluation at 2021-02-02T00:34:00Z\n",
            "INFO:tensorflow:Graph was finalized.\n",
            "INFO:tensorflow:Restoring parameters from /tmp/tmpl6_ne5y3/model.ckpt-100\n",
            "INFO:tensorflow:Running local_init_op.\n",
            "INFO:tensorflow:Done running local_init_op.\n",
            "INFO:tensorflow:Inference Time : 0.98150s\n",
            "INFO:tensorflow:Finished evaluation at 2021-02-02-00:34:01\n",
            "INFO:tensorflow:Saving dict for global step 100: accuracy = 0.42857143, accuracy_baseline = 0.85714287, auc = 0.49999958, auc_precision_recall = 0.9047618, average_loss = 1.2477659, global_step = 100, label/mean = 0.85714287, loss = 1.2477659, precision = 0.75, prediction/mean = 0.6191873, recall = 0.5\n",
            "INFO:tensorflow:Saving 'checkpoint_path' summary for global step 100: /tmp/tmpl6_ne5y3/model.ckpt-100\n",
            "INFO:tensorflow:Calling model_fn.\n",
            "WARNING:tensorflow:Trapezoidal rule is known to produce incorrect PR-AUCs; please switch to \"careful_interpolation\" instead.\n",
            "WARNING:tensorflow:Trapezoidal rule is known to produce incorrect PR-AUCs; please switch to \"careful_interpolation\" instead.\n",
            "INFO:tensorflow:Done calling model_fn.\n",
            "INFO:tensorflow:Starting evaluation at 2021-02-02T00:34:02Z\n",
            "INFO:tensorflow:Graph was finalized.\n",
            "INFO:tensorflow:Restoring parameters from /tmp/tmpl6_ne5y3/model.ckpt-100\n",
            "INFO:tensorflow:Running local_init_op.\n",
            "INFO:tensorflow:Done running local_init_op.\n",
            "INFO:tensorflow:Inference Time : 0.98493s\n",
            "INFO:tensorflow:Finished evaluation at 2021-02-02-00:34:03\n",
            "INFO:tensorflow:Saving dict for global step 100: accuracy = 0.42857143, accuracy_baseline = 0.85714287, auc = 0.49999958, auc_precision_recall = 0.9047618, average_loss = 1.2477659, global_step = 100, label/mean = 0.85714287, loss = 1.2477659, precision = 0.75, prediction/mean = 0.6191873, recall = 0.5\n",
            "INFO:tensorflow:Saving 'checkpoint_path' summary for global step 100: /tmp/tmpl6_ne5y3/model.ckpt-100\n",
            "INFO:tensorflow:Calling model_fn.\n",
            "WARNING:tensorflow:Trapezoidal rule is known to produce incorrect PR-AUCs; please switch to \"careful_interpolation\" instead.\n",
            "WARNING:tensorflow:Trapezoidal rule is known to produce incorrect PR-AUCs; please switch to \"careful_interpolation\" instead.\n",
            "INFO:tensorflow:Done calling model_fn.\n",
            "INFO:tensorflow:Starting evaluation at 2021-02-02T00:34:05Z\n",
            "INFO:tensorflow:Graph was finalized.\n",
            "INFO:tensorflow:Restoring parameters from /tmp/tmpl6_ne5y3/model.ckpt-100\n",
            "INFO:tensorflow:Running local_init_op.\n",
            "INFO:tensorflow:Done running local_init_op.\n",
            "INFO:tensorflow:Inference Time : 1.02773s\n",
            "INFO:tensorflow:Finished evaluation at 2021-02-02-00:34:06\n",
            "INFO:tensorflow:Saving dict for global step 100: accuracy = 0.42857143, accuracy_baseline = 0.85714287, auc = 0.49999958, auc_precision_recall = 0.9047618, average_loss = 1.2477659, global_step = 100, label/mean = 0.85714287, loss = 1.2477659, precision = 0.75, prediction/mean = 0.6191873, recall = 0.5\n",
            "INFO:tensorflow:Saving 'checkpoint_path' summary for global step 100: /tmp/tmpl6_ne5y3/model.ckpt-100\n",
            "INFO:tensorflow:Calling model_fn.\n",
            "WARNING:tensorflow:Trapezoidal rule is known to produce incorrect PR-AUCs; please switch to \"careful_interpolation\" instead.\n",
            "WARNING:tensorflow:Trapezoidal rule is known to produce incorrect PR-AUCs; please switch to \"careful_interpolation\" instead.\n",
            "INFO:tensorflow:Done calling model_fn.\n",
            "INFO:tensorflow:Starting evaluation at 2021-02-02T00:34:07Z\n",
            "INFO:tensorflow:Graph was finalized.\n",
            "INFO:tensorflow:Restoring parameters from /tmp/tmpl6_ne5y3/model.ckpt-100\n",
            "INFO:tensorflow:Running local_init_op.\n",
            "INFO:tensorflow:Done running local_init_op.\n",
            "INFO:tensorflow:Inference Time : 0.96204s\n",
            "INFO:tensorflow:Finished evaluation at 2021-02-02-00:34:08\n",
            "INFO:tensorflow:Saving dict for global step 100: accuracy = 0.42857143, accuracy_baseline = 0.85714287, auc = 0.49999958, auc_precision_recall = 0.905357, average_loss = 1.3111738, global_step = 100, label/mean = 0.85714287, loss = 1.3111738, precision = 0.75, prediction/mean = 0.6105029, recall = 0.5\n",
            "INFO:tensorflow:Saving 'checkpoint_path' summary for global step 100: /tmp/tmpl6_ne5y3/model.ckpt-100\n",
            "INFO:tensorflow:Calling model_fn.\n",
            "WARNING:tensorflow:Trapezoidal rule is known to produce incorrect PR-AUCs; please switch to \"careful_interpolation\" instead.\n",
            "WARNING:tensorflow:Trapezoidal rule is known to produce incorrect PR-AUCs; please switch to \"careful_interpolation\" instead.\n",
            "INFO:tensorflow:Done calling model_fn.\n",
            "INFO:tensorflow:Starting evaluation at 2021-02-02T00:34:09Z\n",
            "INFO:tensorflow:Graph was finalized.\n",
            "INFO:tensorflow:Restoring parameters from /tmp/tmpl6_ne5y3/model.ckpt-100\n",
            "INFO:tensorflow:Running local_init_op.\n",
            "INFO:tensorflow:Done running local_init_op.\n",
            "INFO:tensorflow:Inference Time : 0.98287s\n",
            "INFO:tensorflow:Finished evaluation at 2021-02-02-00:34:10\n",
            "INFO:tensorflow:Saving dict for global step 100: accuracy = 0.42857143, accuracy_baseline = 0.85714287, auc = 0.49999958, auc_precision_recall = 0.9047618, average_loss = 1.2477659, global_step = 100, label/mean = 0.85714287, loss = 1.2477659, precision = 0.75, prediction/mean = 0.6191873, recall = 0.5\n",
            "INFO:tensorflow:Saving 'checkpoint_path' summary for global step 100: /tmp/tmpl6_ne5y3/model.ckpt-100\n",
            "INFO:tensorflow:Calling model_fn.\n",
            "WARNING:tensorflow:Trapezoidal rule is known to produce incorrect PR-AUCs; please switch to \"careful_interpolation\" instead.\n",
            "WARNING:tensorflow:Trapezoidal rule is known to produce incorrect PR-AUCs; please switch to \"careful_interpolation\" instead.\n",
            "INFO:tensorflow:Done calling model_fn.\n",
            "INFO:tensorflow:Starting evaluation at 2021-02-02T00:34:12Z\n",
            "INFO:tensorflow:Graph was finalized.\n",
            "INFO:tensorflow:Restoring parameters from /tmp/tmpl6_ne5y3/model.ckpt-100\n",
            "INFO:tensorflow:Running local_init_op.\n",
            "INFO:tensorflow:Done running local_init_op.\n",
            "INFO:tensorflow:Inference Time : 0.92700s\n",
            "INFO:tensorflow:Finished evaluation at 2021-02-02-00:34:13\n",
            "INFO:tensorflow:Saving dict for global step 100: accuracy = 0.42857143, accuracy_baseline = 0.85714287, auc = 0.49999958, auc_precision_recall = 0.9047618, average_loss = 1.2477659, global_step = 100, label/mean = 0.85714287, loss = 1.2477659, precision = 0.75, prediction/mean = 0.6191873, recall = 0.5\n",
            "INFO:tensorflow:Saving 'checkpoint_path' summary for global step 100: /tmp/tmpl6_ne5y3/model.ckpt-100\n",
            "INFO:tensorflow:Calling model_fn.\n",
            "WARNING:tensorflow:Trapezoidal rule is known to produce incorrect PR-AUCs; please switch to \"careful_interpolation\" instead.\n",
            "WARNING:tensorflow:Trapezoidal rule is known to produce incorrect PR-AUCs; please switch to \"careful_interpolation\" instead.\n",
            "INFO:tensorflow:Done calling model_fn.\n",
            "INFO:tensorflow:Starting evaluation at 2021-02-02T00:34:14Z\n",
            "INFO:tensorflow:Graph was finalized.\n",
            "INFO:tensorflow:Restoring parameters from /tmp/tmpl6_ne5y3/model.ckpt-100\n",
            "INFO:tensorflow:Running local_init_op.\n",
            "INFO:tensorflow:Done running local_init_op.\n",
            "INFO:tensorflow:Inference Time : 0.95670s\n",
            "INFO:tensorflow:Finished evaluation at 2021-02-02-00:34:15\n",
            "INFO:tensorflow:Saving dict for global step 100: accuracy = 0.42857143, accuracy_baseline = 0.85714287, auc = 0.49999958, auc_precision_recall = 0.9047618, average_loss = 1.2477659, global_step = 100, label/mean = 0.85714287, loss = 1.2477659, precision = 0.75, prediction/mean = 0.6191873, recall = 0.5\n",
            "INFO:tensorflow:Saving 'checkpoint_path' summary for global step 100: /tmp/tmpl6_ne5y3/model.ckpt-100\n",
            "INFO:tensorflow:Calling model_fn.\n",
            "WARNING:tensorflow:Trapezoidal rule is known to produce incorrect PR-AUCs; please switch to \"careful_interpolation\" instead.\n",
            "WARNING:tensorflow:Trapezoidal rule is known to produce incorrect PR-AUCs; please switch to \"careful_interpolation\" instead.\n",
            "INFO:tensorflow:Done calling model_fn.\n",
            "INFO:tensorflow:Starting evaluation at 2021-02-02T00:34:16Z\n",
            "INFO:tensorflow:Graph was finalized.\n",
            "INFO:tensorflow:Restoring parameters from /tmp/tmpl6_ne5y3/model.ckpt-100\n",
            "INFO:tensorflow:Running local_init_op.\n",
            "INFO:tensorflow:Done running local_init_op.\n",
            "INFO:tensorflow:Inference Time : 0.98537s\n",
            "INFO:tensorflow:Finished evaluation at 2021-02-02-00:34:17\n",
            "INFO:tensorflow:Saving dict for global step 100: accuracy = 0.42857143, accuracy_baseline = 0.85714287, auc = 0.49999958, auc_precision_recall = 0.9047618, average_loss = 1.3604499, global_step = 100, label/mean = 0.85714287, loss = 1.3604499, precision = 0.75, prediction/mean = 0.61070645, recall = 0.5\n",
            "INFO:tensorflow:Saving 'checkpoint_path' summary for global step 100: /tmp/tmpl6_ne5y3/model.ckpt-100\n",
            "INFO:tensorflow:Calling model_fn.\n",
            "WARNING:tensorflow:Trapezoidal rule is known to produce incorrect PR-AUCs; please switch to \"careful_interpolation\" instead.\n",
            "WARNING:tensorflow:Trapezoidal rule is known to produce incorrect PR-AUCs; please switch to \"careful_interpolation\" instead.\n",
            "INFO:tensorflow:Done calling model_fn.\n",
            "INFO:tensorflow:Starting evaluation at 2021-02-02T00:34:18Z\n",
            "INFO:tensorflow:Graph was finalized.\n",
            "INFO:tensorflow:Restoring parameters from /tmp/tmpl6_ne5y3/model.ckpt-100\n",
            "INFO:tensorflow:Running local_init_op.\n",
            "INFO:tensorflow:Done running local_init_op.\n",
            "INFO:tensorflow:Inference Time : 0.93141s\n",
            "INFO:tensorflow:Finished evaluation at 2021-02-02-00:34:19\n",
            "INFO:tensorflow:Saving dict for global step 100: accuracy = 0.42857143, accuracy_baseline = 0.85714287, auc = 0.49999958, auc_precision_recall = 0.9047618, average_loss = 1.2477659, global_step = 100, label/mean = 0.85714287, loss = 1.2477659, precision = 0.75, prediction/mean = 0.6191873, recall = 0.5\n",
            "INFO:tensorflow:Saving 'checkpoint_path' summary for global step 100: /tmp/tmpl6_ne5y3/model.ckpt-100\n",
            "INFO:tensorflow:Calling model_fn.\n",
            "WARNING:tensorflow:Trapezoidal rule is known to produce incorrect PR-AUCs; please switch to \"careful_interpolation\" instead.\n",
            "WARNING:tensorflow:Trapezoidal rule is known to produce incorrect PR-AUCs; please switch to \"careful_interpolation\" instead.\n",
            "INFO:tensorflow:Done calling model_fn.\n",
            "INFO:tensorflow:Starting evaluation at 2021-02-02T00:34:22Z\n",
            "INFO:tensorflow:Graph was finalized.\n",
            "INFO:tensorflow:Restoring parameters from /tmp/tmpl6_ne5y3/model.ckpt-100\n",
            "INFO:tensorflow:Running local_init_op.\n",
            "INFO:tensorflow:Done running local_init_op.\n",
            "INFO:tensorflow:Inference Time : 0.95089s\n",
            "INFO:tensorflow:Finished evaluation at 2021-02-02-00:34:23\n",
            "INFO:tensorflow:Saving dict for global step 100: accuracy = 0.42857143, accuracy_baseline = 0.85714287, auc = 0.49999958, auc_precision_recall = 0.9047618, average_loss = 1.2477659, global_step = 100, label/mean = 0.85714287, loss = 1.2477659, precision = 0.75, prediction/mean = 0.6191873, recall = 0.5\n",
            "INFO:tensorflow:Saving 'checkpoint_path' summary for global step 100: /tmp/tmpl6_ne5y3/model.ckpt-100\n",
            "INFO:tensorflow:Calling model_fn.\n",
            "WARNING:tensorflow:Trapezoidal rule is known to produce incorrect PR-AUCs; please switch to \"careful_interpolation\" instead.\n",
            "WARNING:tensorflow:Trapezoidal rule is known to produce incorrect PR-AUCs; please switch to \"careful_interpolation\" instead.\n",
            "INFO:tensorflow:Done calling model_fn.\n",
            "INFO:tensorflow:Starting evaluation at 2021-02-02T00:34:24Z\n",
            "INFO:tensorflow:Graph was finalized.\n",
            "INFO:tensorflow:Restoring parameters from /tmp/tmpl6_ne5y3/model.ckpt-100\n",
            "INFO:tensorflow:Running local_init_op.\n",
            "INFO:tensorflow:Done running local_init_op.\n",
            "INFO:tensorflow:Inference Time : 0.96843s\n",
            "INFO:tensorflow:Finished evaluation at 2021-02-02-00:34:25\n",
            "INFO:tensorflow:Saving dict for global step 100: accuracy = 0.42857143, accuracy_baseline = 0.85714287, auc = 0.49999958, auc_precision_recall = 0.9047618, average_loss = 1.2477659, global_step = 100, label/mean = 0.85714287, loss = 1.2477659, precision = 0.75, prediction/mean = 0.6191873, recall = 0.5\n",
            "INFO:tensorflow:Saving 'checkpoint_path' summary for global step 100: /tmp/tmpl6_ne5y3/model.ckpt-100\n",
            "INFO:tensorflow:Calling model_fn.\n",
            "WARNING:tensorflow:Trapezoidal rule is known to produce incorrect PR-AUCs; please switch to \"careful_interpolation\" instead.\n",
            "WARNING:tensorflow:Trapezoidal rule is known to produce incorrect PR-AUCs; please switch to \"careful_interpolation\" instead.\n",
            "INFO:tensorflow:Done calling model_fn.\n",
            "INFO:tensorflow:Starting evaluation at 2021-02-02T00:34:26Z\n",
            "INFO:tensorflow:Graph was finalized.\n",
            "INFO:tensorflow:Restoring parameters from /tmp/tmpl6_ne5y3/model.ckpt-100\n",
            "INFO:tensorflow:Running local_init_op.\n",
            "INFO:tensorflow:Done running local_init_op.\n",
            "INFO:tensorflow:Inference Time : 0.99458s\n",
            "INFO:tensorflow:Finished evaluation at 2021-02-02-00:34:27\n",
            "INFO:tensorflow:Saving dict for global step 100: accuracy = 0.42857143, accuracy_baseline = 0.85714287, auc = 0.49999958, auc_precision_recall = 0.9047618, average_loss = 1.2477659, global_step = 100, label/mean = 0.85714287, loss = 1.2477659, precision = 0.75, prediction/mean = 0.6191873, recall = 0.5\n",
            "INFO:tensorflow:Saving 'checkpoint_path' summary for global step 100: /tmp/tmpl6_ne5y3/model.ckpt-100\n"
          ],
          "name": "stdout"
        },
        {
          "output_type": "display_data",
          "data": {
            "image/png": "[encoded data removed]",
            "text/plain": [
              "<Figure size 720x432 with 1 Axes>"
            ]
          },
          "metadata": {
            "tags": [],
            "needs_background": "light"
          }
        }
      ]
    },
    {
      "cell_type": "markdown",
      "metadata": {
        "id": "8v00zItTuM_Z"
      },
      "source": [
        "# Deep Neural Network (DNN)\n",
        "\n",
        "- [TensorFlow API](https://www.tensorflow.org/api_docs/python/tf/estimator/DNNClassifier)\n",
        "- [Keras optimizers](https://keras.io/api/optimizers) ([Adam](https://keras.io/api/optimizers/adam), [Adadelta](https://keras.io/api/optimizers/adadelta), [Adagrad](https://keras.io/api/optimizers/adagrad), [Adamax](https://keras.io/api/optimizers/adamax), [FTRL](https://keras.io/api/optimizers/ftrl), [NAdam](https://keras.io/api/optimizers/Nadam), [Gradient Descent (SGD)](https://keras.io/api/optimizers/sgd). [RMSprop](https://keras.io/api/optimizers/rmsprop))\n",
        "\n",
        "## Notes\n",
        "\n",
        "- The best performing optimizers so far: FTRL, Adagrad."
      ]
    },
    {
      "cell_type": "markdown",
      "metadata": {
        "id": "mX02KzaquUBb"
      },
      "source": [
        "## Estimators"
      ]
    },
    {
      "cell_type": "markdown",
      "metadata": {
        "id": "ysVz3MGGuZPv"
      },
      "source": [
        "### DNNClassifier with one 4-node hidden layer\n",
        "\n"
      ]
    },
    {
      "cell_type": "code",
      "metadata": {
        "id": "k_5a4zrwuX4M",
        "colab": {
          "base_uri": "https://localhost:8080/"
        },
        "outputId": "128a025d-98d2-4a21-a64f-4a839200da49"
      },
      "source": [
        "dnn_4 = train_dnn(hidden_units=[4])\n"
      ],
      "execution_count": null,
      "outputs": [
        {
          "output_type": "stream",
          "text": [
            "Execution time: 17.332\n",
            "Accuracy: 0.2857143\n",
            "{'accuracy': 0.2857143, 'accuracy_baseline': 0.85714287, 'auc': 0.16666667, 'auc_precision_recall': 0.7912062, 'average_loss': 0.7919404, 'label/mean': 0.85714287, 'loss': 0.7919404, 'precision': 1.0, 'prediction/mean': 0.45121622, 'recall': 0.16666667, 'global_step': 5000}\n"
          ],
          "name": "stdout"
        }
      ]
    },
    {
      "cell_type": "markdown",
      "metadata": {
        "id": "U-cv-pu20FJU"
      },
      "source": [
        "### DNNClassifier with one 10-node hidden layer using Adagrad optimizer"
      ]
    },
    {
      "cell_type": "code",
      "metadata": {
        "colab": {
          "base_uri": "https://localhost:8080/"
        },
        "id": "h0DaWaeG0II4",
        "outputId": "e40a4c8a-6fe9-4055-9cc1-5df6558174de"
      },
      "source": [
        "dnn_10_adagrad = train_dnn(hidden_units=[10], optimizer='Adagrad')"
      ],
      "execution_count": null,
      "outputs": [
        {
          "output_type": "stream",
          "text": [
            "Execution time: 17.43\n",
            "Accuracy: 0.42857143\n",
            "{'accuracy': 0.42857143, 'accuracy_baseline': 0.85714287, 'auc': 0.8333333, 'auc_precision_recall': 0.97430825, 'average_loss': 0.7451852, 'label/mean': 0.85714287, 'loss': 0.7451852, 'precision': 1.0, 'prediction/mean': 0.44078645, 'recall': 0.33333334, 'global_step': 5000}\n"
          ],
          "name": "stdout"
        }
      ]
    },
    {
      "cell_type": "markdown",
      "metadata": {
        "id": "QeG9KL8_0xBZ"
      },
      "source": [
        "### DNNClassifier, 10-node hidden layer, FTRL optimizer"
      ]
    },
    {
      "cell_type": "code",
      "metadata": {
        "colab": {
          "base_uri": "https://localhost:8080/"
        },
        "id": "sU8eVTxy01yK",
        "outputId": "2b068e94-d49b-4e8b-9fe5-f00e7a7ae39e"
      },
      "source": [
        "dnn_10_ftrl = train_dnn(hidden_units=[10], optimizer='Ftrl')"
      ],
      "execution_count": null,
      "outputs": [
        {
          "output_type": "stream",
          "text": [
            "Execution time: 18.599\n",
            "Accuracy: 0.5714286\n",
            "{'accuracy': 0.5714286, 'accuracy_baseline': 0.85714287, 'auc': 0.6666667, 'auc_precision_recall': 0.9439213, 'average_loss': 0.71792203, 'label/mean': 0.85714287, 'loss': 0.71792203, 'precision': 1.0, 'prediction/mean': 0.47357684, 'recall': 0.5, 'global_step': 5000}\n"
          ],
          "name": "stdout"
        }
      ]
    },
    {
      "cell_type": "markdown",
      "metadata": {
        "id": "Ifq4Nz6N6fhQ"
      },
      "source": [
        "### DNN, 10-node hidden layer, Adadelta optimizer"
      ]
    },
    {
      "cell_type": "code",
      "metadata": {
        "colab": {
          "base_uri": "https://localhost:8080/"
        },
        "id": "GnTMYcmh6krp",
        "outputId": "42a347bb-101f-4e9c-bc0f-706c2d51207b"
      },
      "source": [
        "dnn_10_adadelta = train_dnn(\n",
        "    hidden_units=[10],\n",
        "    optimizer=tf.keras.optimizers.Adadelta(\n",
        "        learning_rate=0.001,\n",
        "        rho=0.95, # Decay rate\n",
        "        epsilon=1e-07,\n",
        "    ),\n",
        ")"
      ],
      "execution_count": null,
      "outputs": [
        {
          "output_type": "stream",
          "text": [
            "Execution time: 18.154\n",
            "Accuracy: 0.2857143\n",
            "{'accuracy': 0.2857143, 'accuracy_baseline': 0.85714287, 'auc': 0.8333333, 'auc_precision_recall': 0.97430825, 'average_loss': 0.8560448, 'label/mean': 0.85714287, 'loss': 0.8560448, 'precision': 1.0, 'prediction/mean': 0.39185026, 'recall': 0.16666667, 'global_step': 5000}\n"
          ],
          "name": "stdout"
        }
      ]
    },
    {
      "cell_type": "markdown",
      "metadata": {
        "id": "8JDkMaYD0TlZ"
      },
      "source": [
        "### DNNClassifier, 10-node hidden layer, Adam optimizer"
      ]
    },
    {
      "cell_type": "code",
      "metadata": {
        "colab": {
          "base_uri": "https://localhost:8080/"
        },
        "id": "wCXtNlPb0mpc",
        "outputId": "bb338c1f-b57c-423e-ca4b-a11a922aaeb8"
      },
      "source": [
        "dnn_10_adam = train_dnn(hidden_units=[10], optimizer='Adam')"
      ],
      "execution_count": null,
      "outputs": [
        {
          "output_type": "stream",
          "text": [
            "Execution time: 18.549\n",
            "Accuracy: 0.42857143\n",
            "{'accuracy': 0.42857143, 'accuracy_baseline': 0.85714287, 'auc': 0.6666667, 'auc_precision_recall': 0.94392127, 'average_loss': 1.0870153, 'label/mean': 0.85714287, 'loss': 1.0870153, 'precision': 1.0, 'prediction/mean': 0.39272687, 'recall': 0.33333334, 'global_step': 5000}\n"
          ],
          "name": "stdout"
        }
      ]
    },
    {
      "cell_type": "markdown",
      "metadata": {
        "id": "mWwMuEnd1OdI"
      },
      "source": [
        "### DNNClassifier, 10-node hidden layer, gradient descent (SGD) optimizer"
      ]
    },
    {
      "cell_type": "code",
      "metadata": {
        "colab": {
          "base_uri": "https://localhost:8080/"
        },
        "id": "EoBJXdYe1Sdr",
        "outputId": "7cb1fd65-970d-4090-c1ba-325c5589cab7"
      },
      "source": [
        "dnn_10_sgd = train_dnn(hidden_units=[10], optimizer='SGD')"
      ],
      "execution_count": null,
      "outputs": [
        {
          "output_type": "stream",
          "text": [
            "Execution time: 17.572\n",
            "Accuracy: 0.42857143\n",
            "{'accuracy': 0.42857143, 'accuracy_baseline': 0.85714287, 'auc': 0.5, 'auc_precision_recall': 0.9067307, 'average_loss': 1.47118, 'label/mean': 0.85714287, 'loss': 1.47118, 'precision': 1.0, 'prediction/mean': 0.37701744, 'recall': 0.33333334, 'global_step': 5000}\n"
          ],
          "name": "stdout"
        }
      ]
    },
    {
      "cell_type": "markdown",
      "metadata": {
        "id": "otavilFCCG1y"
      },
      "source": [
        "### DNN, 10-node hidden layer, NAdam optimizer"
      ]
    },
    {
      "cell_type": "code",
      "metadata": {
        "colab": {
          "base_uri": "https://localhost:8080/"
        },
        "id": "wffjBsq6CL2N",
        "outputId": "61092087-301f-4714-c735-5e01748113db"
      },
      "source": [
        "train_dnn(\n",
        "    hidden_units=[10],\n",
        "    optimizer=tf.keras.optimizers.Nadam(\n",
        "        learning_rate=0.001,\n",
        "        beta_1=0.9,\n",
        "        beta_2=0.999,\n",
        "        epsilon=1e-07,\n",
        "    ),\n",
        ")"
      ],
      "execution_count": null,
      "outputs": [
        {
          "output_type": "stream",
          "text": [
            "Execution time: 19.276\n",
            "Accuracy: 0.2857143\n",
            "{'accuracy': 0.2857143, 'accuracy_baseline': 0.85714287, 'auc': 0.8333333, 'auc_precision_recall': 0.9743083, 'average_loss': 1.9057475, 'label/mean': 0.85714287, 'loss': 1.9057475, 'precision': 1.0, 'prediction/mean': 0.20859505, 'recall': 0.16666667, 'global_step': 5000}\n"
          ],
          "name": "stdout"
        },
        {
          "output_type": "execute_result",
          "data": {
            "text/plain": [
              "<tensorflow_estimator.python.estimator.canned.dnn.DNNClassifierV2 at 0x7f6ba39ad588>"
            ]
          },
          "metadata": {
            "tags": []
          },
          "execution_count": 359
        }
      ]
    },
    {
      "cell_type": "markdown",
      "metadata": {
        "id": "RmYvifD40-il"
      },
      "source": [
        "### DNNClassifier, 10-node hidden layer, RMSprop optimizer"
      ]
    },
    {
      "cell_type": "code",
      "metadata": {
        "colab": {
          "base_uri": "https://localhost:8080/"
        },
        "id": "s-8z2Jq41D62",
        "outputId": "c61ea1a7-0f12-4025-82ba-57d27f859dc5"
      },
      "source": [
        "dnn_10_rms_prop = train_dnn(hidden_units=[10], optimizer='RMSProp')"
      ],
      "execution_count": null,
      "outputs": [
        {
          "output_type": "stream",
          "text": [
            "Execution time: 18.763\n",
            "Accuracy: 0.2857143\n",
            "{'accuracy': 0.2857143, 'accuracy_baseline': 0.85714287, 'auc': 0.6666667, 'auc_precision_recall': 0.93348074, 'average_loss': 6.0725884, 'label/mean': 0.85714287, 'loss': 6.0725884, 'precision': 1.0, 'prediction/mean': 0.18464804, 'recall': 0.16666667, 'global_step': 5000}\n"
          ],
          "name": "stdout"
        }
      ]
    },
    {
      "cell_type": "markdown",
      "metadata": {
        "id": "Wq5ixNdXxTra"
      },
      "source": [
        "### DNNClassifier, 20-node hidden layer, Adagrad optimizer"
      ]
    },
    {
      "cell_type": "code",
      "metadata": {
        "id": "bkmGh0Coxa4b",
        "colab": {
          "base_uri": "https://localhost:8080/"
        },
        "outputId": "24d51657-bf0b-4974-c273-92fb11f7b778"
      },
      "source": [
        "dnn_20 = train_dnn(hidden_units=[20], optimizer='Adagrad')"
      ],
      "execution_count": null,
      "outputs": [
        {
          "output_type": "stream",
          "text": [
            "Execution time: 18.041\n",
            "Accuracy: 0.71428573\n",
            "{'accuracy': 0.71428573, 'accuracy_baseline': 0.85714287, 'auc': 0.8333333, 'auc_precision_recall': 0.97430825, 'average_loss': 0.6821968, 'label/mean': 0.85714287, 'loss': 0.6821968, 'precision': 1.0, 'prediction/mean': 0.49699527, 'recall': 0.6666667, 'global_step': 5000}\n"
          ],
          "name": "stdout"
        }
      ]
    },
    {
      "cell_type": "markdown",
      "metadata": {
        "id": "97Wk8j5025mv"
      },
      "source": [
        "### DNNClassifier, 20-node hidden layer, Ftrl optimizer"
      ]
    },
    {
      "cell_type": "code",
      "metadata": {
        "colab": {
          "base_uri": "https://localhost:8080/"
        },
        "id": "PBZH_vxu28gJ",
        "outputId": "b0509478-0f69-4729-cff5-461bdaca2607"
      },
      "source": [
        "dnn_20 = train_dnn(hidden_units=[20], optimizer='Ftrl')"
      ],
      "execution_count": null,
      "outputs": [
        {
          "output_type": "stream",
          "text": [
            "Execution time: 19.11\n",
            "Accuracy: 0.14285715\n",
            "{'accuracy': 0.14285715, 'accuracy_baseline': 0.85714287, 'auc': 0.6666667, 'auc_precision_recall': 0.9439213, 'average_loss': 0.7539181, 'label/mean': 0.85714287, 'loss': 0.7539181, 'precision': 0.0, 'prediction/mean': 0.45698783, 'recall': 0.0, 'global_step': 5000}\n"
          ],
          "name": "stdout"
        }
      ]
    },
    {
      "cell_type": "markdown",
      "metadata": {
        "id": "gC489kMR9uxn"
      },
      "source": [
        "### DNN, Adagrad, 1 hidden layer with the size of the feature set"
      ]
    },
    {
      "cell_type": "code",
      "metadata": {
        "colab": {
          "base_uri": "https://localhost:8080/"
        },
        "id": "ELubnckG97XS",
        "outputId": "884b4b5b-05b5-47d3-f4d8-fc7bc654f917"
      },
      "source": [
        "hidden_layer_size = len(feature_names)\n",
        "dnn_adagrad_flex = train_dnn(hidden_units=[hidden_layer_size], optimizer='Adagrad')"
      ],
      "execution_count": null,
      "outputs": [
        {
          "output_type": "stream",
          "text": [
            "Execution time: 17.927\n",
            "Accuracy: 0.42857143\n",
            "{'accuracy': 0.42857143, 'accuracy_baseline': 0.85714287, 'auc': 0.6666667, 'auc_precision_recall': 0.9439213, 'average_loss': 0.74263567, 'label/mean': 0.85714287, 'loss': 0.74263567, 'precision': 1.0, 'prediction/mean': 0.47070077, 'recall': 0.33333334, 'global_step': 5000}\n"
          ],
          "name": "stdout"
        }
      ]
    },
    {
      "cell_type": "markdown",
      "metadata": {
        "id": "dWTNem4c-S4D"
      },
      "source": [
        "### DNN, FTRL, 1 hidden layer with the size of the feature set"
      ]
    },
    {
      "cell_type": "code",
      "metadata": {
        "colab": {
          "base_uri": "https://localhost:8080/"
        },
        "id": "_3cTp15N-VvG",
        "outputId": "2dd5c7c7-2177-4736-a720-4d4ed544c2c6"
      },
      "source": [
        "hidden_layer_size = len(feature_names)\n",
        "dnn_ftrl_flex = train_dnn(hidden_units=[hidden_layer_size], optimizer='Ftrl')"
      ],
      "execution_count": null,
      "outputs": [
        {
          "output_type": "stream",
          "text": [
            "Execution time: 19.286\n",
            "Accuracy: 0.14285715\n",
            "{'accuracy': 0.14285715, 'accuracy_baseline': 0.85714287, 'auc': 0.6666667, 'auc_precision_recall': 0.9439213, 'average_loss': 0.7263858, 'label/mean': 0.85714287, 'loss': 0.7263858, 'precision': 0.0, 'prediction/mean': 0.47447333, 'recall': 0.0, 'global_step': 5000}\n"
          ],
          "name": "stdout"
        }
      ]
    },
    {
      "cell_type": "markdown",
      "metadata": {
        "id": "zXyK4_UTu0Dp"
      },
      "source": [
        "### DNNClassifier with two hidden layers (30, 10)"
      ]
    },
    {
      "cell_type": "code",
      "metadata": {
        "id": "HhDIcI-fu6kW",
        "colab": {
          "base_uri": "https://localhost:8080/"
        },
        "outputId": "bdc05bfb-9a21-45f5-9835-27d8fcfbfd43"
      },
      "source": [
        "dnn_30_10 = train_dnn(hidden_units=[30, 10])"
      ],
      "execution_count": null,
      "outputs": [
        {
          "output_type": "stream",
          "text": [
            "Execution time: 18.31\n",
            "Accuracy: 0.2857143\n",
            "{'accuracy': 0.2857143, 'accuracy_baseline': 0.85714287, 'auc': 0.8333333, 'auc_precision_recall': 0.97430825, 'average_loss': 1.0499527, 'label/mean': 0.85714287, 'loss': 1.0499527, 'precision': 1.0, 'prediction/mean': 0.31663468, 'recall': 0.16666667, 'global_step': 5000}\n"
          ],
          "name": "stdout"
        }
      ]
    },
    {
      "cell_type": "markdown",
      "metadata": {
        "id": "ZJVGaqQux5-A"
      },
      "source": [
        "### DNNClassifier with three hidden layers (1024, 512, 256)"
      ]
    },
    {
      "cell_type": "code",
      "metadata": {
        "id": "1LAOcU2lyO4x",
        "colab": {
          "base_uri": "https://localhost:8080/"
        },
        "outputId": "64056395-dec7-49a5-b89f-c9a7c057f2cc"
      },
      "source": [
        "dnn_1024_512_256 = train_dnn(hidden_units=[1024, 512, 256])"
      ],
      "execution_count": null,
      "outputs": [
        {
          "output_type": "stream",
          "text": [
            "Execution time: 52.659\n",
            "Accuracy: 0.42857143\n",
            "{'accuracy': 0.42857143, 'accuracy_baseline': 0.85714287, 'auc': 0.33333334, 'auc_precision_recall': 0.8587837, 'average_loss': 1.433584, 'label/mean': 0.85714287, 'loss': 1.433584, 'precision': 1.0, 'prediction/mean': 0.33943826, 'recall': 0.33333334, 'global_step': 5000}\n"
          ],
          "name": "stdout"
        }
      ]
    },
    {
      "cell_type": "markdown",
      "metadata": {
        "id": "BB4L8i2bvm8C"
      },
      "source": [
        "### DNNClassifier with learning rate decay"
      ]
    },
    {
      "cell_type": "code",
      "metadata": {
        "id": "kSSdnU33vpkB",
        "colab": {
          "base_uri": "https://localhost:8080/"
        },
        "outputId": "4db17a9c-87a9-4cfa-8241-a2579ecfd505"
      },
      "source": [
        "dnn_adam_decay = train_dnn(\n",
        "  hidden_units=[4],\n",
        "  optimizer=lambda: tf.keras.optimizers.Adam(\n",
        "    learning_rate=tf.keras.optimizers.schedules.ExponentialDecay(\n",
        "      decay_rate=0.96,\n",
        "      decay_steps=10000,\n",
        "      initial_learning_rate=0.1,\n",
        "      name=None,\n",
        "      staircase=False,\n",
        "    )\n",
        "  )\n",
        ")\n"
      ],
      "execution_count": null,
      "outputs": [
        {
          "output_type": "stream",
          "text": [
            "Execution time: 18.543\n",
            "Accuracy: 0.42857143\n",
            "{'accuracy': 0.42857143, 'accuracy_baseline': 0.85714287, 'auc': 0.5, 'auc_precision_recall': 0.90673065, 'average_loss': 2.7301376, 'label/mean': 0.85714287, 'loss': 2.7301376, 'precision': 1.0, 'prediction/mean': 0.31781626, 'recall': 0.33333334, 'global_step': 5000}\n"
          ],
          "name": "stdout"
        }
      ]
    },
    {
      "cell_type": "markdown",
      "metadata": {
        "id": "6URgMYLB_Mpw"
      },
      "source": [
        "# Head-to-head\n",
        "\n",
        "Best performers:\n",
        "\n",
        "- Large Adagrad\n",
        "- Medium Adagrad"
      ]
    },
    {
      "cell_type": "code",
      "metadata": {
        "id": "UGQ8msNYARvA"
      },
      "source": [
        "NUM_FEATURES = len(feature_names)"
      ],
      "execution_count": 18,
      "outputs": []
    },
    {
      "cell_type": "code",
      "metadata": {
        "colab": {
          "base_uri": "https://localhost:8080/"
        },
        "id": "cNvmzK3o_n28",
        "outputId": "7dab8da6-14f9-47c9-cf07-3274c599f595"
      },
      "source": [
        "# Baseline\n",
        "train(tf.estimator.LinearClassifier)"
      ],
      "execution_count": 17,
      "outputs": [
        {
          "output_type": "stream",
          "text": [
            "Execution time: 15.047\n",
            "Accuracy: 0.5714286\n",
            "{'accuracy': 0.5714286, 'accuracy_baseline': 0.5714286, 'auc': 0.5833333, 'auc_precision_recall': 0.6258904, 'average_loss': 1.2321061, 'label/mean': 0.42857143, 'loss': 1.2321061, 'precision': 0.5, 'prediction/mean': 0.58057106, 'recall': 0.6666667, 'global_step': 100}\n"
          ],
          "name": "stdout"
        },
        {
          "output_type": "execute_result",
          "data": {
            "text/plain": [
              "<tensorflow_estimator.python.estimator.canned.linear.LinearClassifierV2 at 0x7fcbe3105198>"
            ]
          },
          "metadata": {
            "tags": []
          },
          "execution_count": 17
        }
      ]
    },
    {
      "cell_type": "code",
      "metadata": {
        "colab": {
          "base_uri": "https://localhost:8080/"
        },
        "id": "nhuj3x3a_PaH",
        "outputId": "7b16916b-8fc3-44fb-8504-b2832ef589a9"
      },
      "source": [
        "# Boosted trees\n",
        "train(tf.estimator.BoostedTreesClassifier, max_depth=3, n_batches_per_layer=1, n_trees=50)"
      ],
      "execution_count": 18,
      "outputs": [
        {
          "output_type": "stream",
          "text": [
            "Execution time: 6.59\n",
            "Accuracy: 0.42857143\n",
            "{'accuracy': 0.42857143, 'accuracy_baseline': 0.57142854, 'auc': 0.3750001, 'auc_precision_recall': 0.32142878, 'average_loss': 2.2884605, 'label/mean': 0.42857143, 'loss': 2.2884605, 'precision': 0.4, 'prediction/mean': 0.71217364, 'recall': 0.6666667, 'global_step': 100}\n"
          ],
          "name": "stdout"
        },
        {
          "output_type": "execute_result",
          "data": {
            "text/plain": [
              "<tensorflow_estimator.python.estimator.canned.boosted_trees.BoostedTreesClassifier at 0x7fcbdb2db240>"
            ]
          },
          "metadata": {
            "tags": []
          },
          "execution_count": 18
        }
      ]
    },
    {
      "cell_type": "code",
      "metadata": {
        "colab": {
          "base_uri": "https://localhost:8080/"
        },
        "id": "s8zQZlf3ADxF",
        "outputId": "564f45c3-539c-4a2d-99f1-feb0f053b23c"
      },
      "source": [
        "# Adagrad baseline\n",
        "train_dnn(hidden_units=[10], optimizer='Adagrad')"
      ],
      "execution_count": 19,
      "outputs": [
        {
          "output_type": "stream",
          "text": [
            "Execution time: 18.391\n",
            "Accuracy: 0.42857143\n",
            "{'accuracy': 0.42857143, 'accuracy_baseline': 0.5714286, 'auc': 0.33333334, 'auc_precision_recall': 0.5513704, 'average_loss': 1.0883023, 'label/mean': 0.42857143, 'loss': 1.0883023, 'precision': 0.33333334, 'prediction/mean': 0.5920969, 'recall': 0.33333334, 'global_step': 5000}\n"
          ],
          "name": "stdout"
        },
        {
          "output_type": "execute_result",
          "data": {
            "text/plain": [
              "<tensorflow_estimator.python.estimator.canned.dnn.DNNClassifierV2 at 0x7fcbdb2db320>"
            ]
          },
          "metadata": {
            "tags": []
          },
          "execution_count": 19
        }
      ]
    },
    {
      "cell_type": "code",
      "metadata": {
        "colab": {
          "base_uri": "https://localhost:8080/"
        },
        "id": "KYvjeKQiAKVH",
        "outputId": "6e65af25-2854-4635-d1c4-b200891c3d67"
      },
      "source": [
        "# FTRL baseline\n",
        "train_dnn(hidden_units=[10], optimizer='Ftrl')"
      ],
      "execution_count": 20,
      "outputs": [
        {
          "output_type": "stream",
          "text": [
            "Execution time: 18.531\n",
            "Accuracy: 0.42857143\n",
            "{'accuracy': 0.42857143, 'accuracy_baseline': 0.5714286, 'auc': 0.5416667, 'auc_precision_recall': 0.60844296, 'average_loss': 0.7370618, 'label/mean': 0.42857143, 'loss': 0.7370618, 'precision': 0.42857143, 'prediction/mean': 0.5910713, 'recall': 1.0, 'global_step': 5000}\n"
          ],
          "name": "stdout"
        },
        {
          "output_type": "execute_result",
          "data": {
            "text/plain": [
              "<tensorflow_estimator.python.estimator.canned.dnn.DNNClassifierV2 at 0x7fcbe0cd65c0>"
            ]
          },
          "metadata": {
            "tags": []
          },
          "execution_count": 20
        }
      ]
    },
    {
      "cell_type": "code",
      "metadata": {
        "colab": {
          "base_uri": "https://localhost:8080/"
        },
        "id": "ZcXsraD_Cz32",
        "outputId": "daafb1f5-87bb-47b4-8de0-6c6b7f16bd79"
      },
      "source": [
        "# NAdam baseline\n",
        "train_dnn(\n",
        "    hidden_units=[10],\n",
        "    optimizer=tf.keras.optimizers.Nadam(\n",
        "        learning_rate=0.001,\n",
        "        beta_1=0.9,\n",
        "        beta_2=0.999,\n",
        "        epsilon=1e-07,\n",
        "    ),\n",
        ")"
      ],
      "execution_count": 21,
      "outputs": [
        {
          "output_type": "stream",
          "text": [
            "Execution time: 19.541\n",
            "Accuracy: 0.42857143\n",
            "{'accuracy': 0.42857143, 'accuracy_baseline': 0.5714286, 'auc': 0.4166667, 'auc_precision_recall': 0.37231266, 'average_loss': 3.8161252, 'label/mean': 0.42857143, 'loss': 3.8161252, 'precision': 0.4, 'prediction/mean': 0.6706677, 'recall': 0.6666667, 'global_step': 5000}\n"
          ],
          "name": "stdout"
        },
        {
          "output_type": "execute_result",
          "data": {
            "text/plain": [
              "<tensorflow_estimator.python.estimator.canned.dnn.DNNClassifierV2 at 0x7fcbdf851710>"
            ]
          },
          "metadata": {
            "tags": []
          },
          "execution_count": 21
        }
      ]
    },
    {
      "cell_type": "code",
      "metadata": {
        "id": "4ByYqgzqASh3",
        "outputId": "1057b20b-2dca-4afb-cd44-fb05d712409d",
        "colab": {
          "base_uri": "https://localhost:8080/"
        }
      },
      "source": [
        "# Small Adagrad\n",
        "train_dnn(hidden_units=[NUM_FEATURES // 2], optimizer='Adagrad')"
      ],
      "execution_count": 22,
      "outputs": [
        {
          "output_type": "stream",
          "text": [
            "Execution time: 19.116\n",
            "Accuracy: 0.42857143\n",
            "{'accuracy': 0.42857143, 'accuracy_baseline': 0.5714286, 'auc': 0.5833334, 'auc_precision_recall': 0.6258904, 'average_loss': 1.1358619, 'label/mean': 0.42857143, 'loss': 1.1358619, 'precision': 0.33333334, 'prediction/mean': 0.5876808, 'recall': 0.33333334, 'global_step': 5000}\n"
          ],
          "name": "stdout"
        },
        {
          "output_type": "execute_result",
          "data": {
            "text/plain": [
              "<tensorflow_estimator.python.estimator.canned.dnn.DNNClassifierV2 at 0x7fcbe3105860>"
            ]
          },
          "metadata": {
            "tags": []
          },
          "execution_count": 22
        }
      ]
    },
    {
      "cell_type": "code",
      "metadata": {
        "id": "rMoUT_r5AmG1",
        "outputId": "0a16ce75-98e1-4699-bab8-6d521cb13fa6",
        "colab": {
          "base_uri": "https://localhost:8080/"
        }
      },
      "source": [
        "# Small FTRL\n",
        "train_dnn(hidden_units=[NUM_FEATURES // 2], optimizer='Ftrl')"
      ],
      "execution_count": 23,
      "outputs": [
        {
          "output_type": "stream",
          "text": [
            "Execution time: 19.246\n",
            "Accuracy: 0.42857143\n",
            "{'accuracy': 0.42857143, 'accuracy_baseline': 0.5714286, 'auc': 0.5, 'auc_precision_recall': 0.60267776, 'average_loss': 0.78623384, 'label/mean': 0.42857143, 'loss': 0.78623384, 'precision': 0.42857143, 'prediction/mean': 0.6092234, 'recall': 1.0, 'global_step': 5000}\n"
          ],
          "name": "stdout"
        },
        {
          "output_type": "execute_result",
          "data": {
            "text/plain": [
              "<tensorflow_estimator.python.estimator.canned.dnn.DNNClassifierV2 at 0x7fcbe0464278>"
            ]
          },
          "metadata": {
            "tags": []
          },
          "execution_count": 23
        }
      ]
    },
    {
      "cell_type": "code",
      "metadata": {
        "id": "_YAFEcBrDFY_",
        "outputId": "1c745aed-8a89-4458-9476-18ea5c3efc29",
        "colab": {
          "base_uri": "https://localhost:8080/"
        }
      },
      "source": [
        "# Small NAdam\n",
        "train_dnn(\n",
        "    hidden_units=[NUM_FEATURES // 2],\n",
        "    optimizer=tf.keras.optimizers.Nadam(\n",
        "        learning_rate=0.001,\n",
        "        beta_1=0.9,\n",
        "        beta_2=0.999,\n",
        "        epsilon=1e-07,\n",
        "    ),\n",
        ")"
      ],
      "execution_count": 24,
      "outputs": [
        {
          "output_type": "stream",
          "text": [
            "Execution time: 19.526\n",
            "Accuracy: 0.2857143\n",
            "{'accuracy': 0.2857143, 'accuracy_baseline': 0.5714286, 'auc': 0.37500003, 'auc_precision_recall': 0.35992822, 'average_loss': 5.066918, 'label/mean': 0.42857143, 'loss': 5.066918, 'precision': 0.25, 'prediction/mean': 0.58168995, 'recall': 0.33333334, 'global_step': 5000}\n"
          ],
          "name": "stdout"
        },
        {
          "output_type": "execute_result",
          "data": {
            "text/plain": [
              "<tensorflow_estimator.python.estimator.canned.dnn.DNNClassifierV2 at 0x7fcbe0c81be0>"
            ]
          },
          "metadata": {
            "tags": []
          },
          "execution_count": 24
        }
      ]
    },
    {
      "cell_type": "code",
      "metadata": {
        "id": "lEcO-ba-Aroc",
        "outputId": "c82d2edd-c94e-48ca-ccc7-657b724798fb",
        "colab": {
          "base_uri": "https://localhost:8080/"
        }
      },
      "source": [
        "# Medium Adagrad\n",
        "train_dnn(hidden_units=[NUM_FEATURES], optimizer='Adagrad')"
      ],
      "execution_count": 25,
      "outputs": [
        {
          "output_type": "stream",
          "text": [
            "Execution time: 18.829\n",
            "Accuracy: 0.2857143\n",
            "{'accuracy': 0.2857143, 'accuracy_baseline': 0.5714286, 'auc': 0.5, 'auc_precision_recall': 0.5945349, 'average_loss': 1.1272762, 'label/mean': 0.42857143, 'loss': 1.1272762, 'precision': 0.25, 'prediction/mean': 0.6078267, 'recall': 0.33333334, 'global_step': 5000}\n"
          ],
          "name": "stdout"
        },
        {
          "output_type": "execute_result",
          "data": {
            "text/plain": [
              "<tensorflow_estimator.python.estimator.canned.dnn.DNNClassifierV2 at 0x7fcbe0c81f60>"
            ]
          },
          "metadata": {
            "tags": []
          },
          "execution_count": 25
        }
      ]
    },
    {
      "cell_type": "code",
      "metadata": {
        "id": "3FwchwyyAxoi",
        "outputId": "ac9839d3-8c19-4476-c564-ec4902ee5caa",
        "colab": {
          "base_uri": "https://localhost:8080/"
        }
      },
      "source": [
        "# Medium NAdam\n",
        "train_dnn(\n",
        "    hidden_units=[NUM_FEATURES],\n",
        "    optimizer=tf.keras.optimizers.Nadam(\n",
        "        learning_rate=0.001,\n",
        "        beta_1=0.9,\n",
        "        beta_2=0.999,\n",
        "        epsilon=1e-07,\n",
        "    ),\n",
        ")"
      ],
      "execution_count": 26,
      "outputs": [
        {
          "output_type": "stream",
          "text": [
            "Execution time: 19.698\n",
            "Accuracy: 0.2857143\n",
            "{'accuracy': 0.2857143, 'accuracy_baseline': 0.5714286, 'auc': 0.37500003, 'auc_precision_recall': 0.35992822, 'average_loss': 5.2563963, 'label/mean': 0.42857143, 'loss': 5.2563963, 'precision': 0.25, 'prediction/mean': 0.573682, 'recall': 0.33333334, 'global_step': 5000}\n"
          ],
          "name": "stdout"
        },
        {
          "output_type": "execute_result",
          "data": {
            "text/plain": [
              "<tensorflow_estimator.python.estimator.canned.dnn.DNNClassifierV2 at 0x7fcbdbc89ef0>"
            ]
          },
          "metadata": {
            "tags": []
          },
          "execution_count": 26
        }
      ]
    },
    {
      "cell_type": "code",
      "metadata": {
        "id": "8z5w5SANA1Jo",
        "outputId": "96c63a27-681f-4b08-808d-a0fb2b773562",
        "colab": {
          "base_uri": "https://localhost:8080/"
        }
      },
      "source": [
        "# Large Adagrad\n",
        "large_adagrad = train_dnn(hidden_units=[NUM_FEATURES * 2], optimizer='Adagrad')"
      ],
      "execution_count": 19,
      "outputs": [
        {
          "output_type": "stream",
          "text": [
            "Execution time: 19.101\n",
            "Accuracy: 0.71428573\n",
            "{'accuracy': 0.71428573, 'accuracy_baseline': 0.5714286, 'auc': 0.6666667, 'auc_precision_recall': 0.79726744, 'average_loss': 1.004925, 'label/mean': 0.5714286, 'loss': 1.004925, 'precision': 0.6666667, 'prediction/mean': 0.8222824, 'recall': 1.0, 'global_step': 5000}\n"
          ],
          "name": "stdout"
        }
      ]
    },
    {
      "cell_type": "code",
      "metadata": {
        "id": "kf9WJC_9A4Rt",
        "outputId": "71a638ac-59b8-4c42-a137-046da3e81a44",
        "colab": {
          "base_uri": "https://localhost:8080/"
        }
      },
      "source": [
        "# Large NAdam\n",
        "train_dnn(\n",
        "    hidden_units=[NUM_FEATURES * 2],\n",
        "    optimizer=tf.keras.optimizers.Nadam(\n",
        "        learning_rate=0.001,\n",
        "        beta_1=0.9,\n",
        "        beta_2=0.999,\n",
        "        epsilon=1e-07,\n",
        "    ),\n",
        ")"
      ],
      "execution_count": 28,
      "outputs": [
        {
          "output_type": "stream",
          "text": [
            "Execution time: 19.65\n",
            "Accuracy: 0.2857143\n",
            "{'accuracy': 0.2857143, 'accuracy_baseline': 0.5714286, 'auc': 0.37500003, 'auc_precision_recall': 0.35992822, 'average_loss': 5.791715, 'label/mean': 0.42857143, 'loss': 5.791715, 'precision': 0.25, 'prediction/mean': 0.5826025, 'recall': 0.33333334, 'global_step': 5000}\n"
          ],
          "name": "stdout"
        },
        {
          "output_type": "execute_result",
          "data": {
            "text/plain": [
              "<tensorflow_estimator.python.estimator.canned.dnn.DNNClassifierV2 at 0x7fcbdcfb6860>"
            ]
          },
          "metadata": {
            "tags": []
          },
          "execution_count": 28
        }
      ]
    },
    {
      "cell_type": "code",
      "metadata": {
        "id": "b_NQFNldHYQI",
        "outputId": "3deb7413-66db-46a3-e857-402fd13811b8",
        "colab": {
          "base_uri": "https://localhost:8080/"
        }
      },
      "source": [
        "# 2-layer Adagrad\n",
        "train_dnn(hidden_units=[NUM_FEATURES * 2, NUM_FEATURES], optimizer='Adagrad')"
      ],
      "execution_count": 29,
      "outputs": [
        {
          "output_type": "stream",
          "text": [
            "Execution time: 20.451\n",
            "Accuracy: 0.42857143\n",
            "{'accuracy': 0.42857143, 'accuracy_baseline': 0.5714286, 'auc': 0.5, 'auc_precision_recall': 0.5945349, 'average_loss': 1.3563241, 'label/mean': 0.42857143, 'loss': 1.3563241, 'precision': 0.4, 'prediction/mean': 0.5892483, 'recall': 0.6666667, 'global_step': 5000}\n"
          ],
          "name": "stdout"
        },
        {
          "output_type": "execute_result",
          "data": {
            "text/plain": [
              "<tensorflow_estimator.python.estimator.canned.dnn.DNNClassifierV2 at 0x7fcbdcfb6fd0>"
            ]
          },
          "metadata": {
            "tags": []
          },
          "execution_count": 29
        }
      ]
    },
    {
      "cell_type": "code",
      "metadata": {
        "id": "97SQ00wdHaba",
        "outputId": "08ad2620-4a17-4749-e6e6-87a2d33970b9",
        "colab": {
          "base_uri": "https://localhost:8080/"
        }
      },
      "source": [
        "# 2-layer NAdam\n",
        "train_dnn(\n",
        "    hidden_units=[NUM_FEATURES * 2, NUM_FEATURES],\n",
        "    optimizer=tf.keras.optimizers.Nadam(\n",
        "        learning_rate=0.001,\n",
        "        beta_1=0.9,\n",
        "        beta_2=0.999,\n",
        "        epsilon=1e-07,\n",
        "    ),\n",
        ")"
      ],
      "execution_count": 30,
      "outputs": [
        {
          "output_type": "stream",
          "text": [
            "Execution time: 22.409\n",
            "Accuracy: 0.2857143\n",
            "{'accuracy': 0.2857143, 'accuracy_baseline': 0.5714286, 'auc': 0.37500003, 'auc_precision_recall': 0.35992822, 'average_loss': 7.0079374, 'label/mean': 0.42857143, 'loss': 7.0079374, 'precision': 0.25, 'prediction/mean': 0.61790943, 'recall': 0.33333334, 'global_step': 5000}\n"
          ],
          "name": "stdout"
        },
        {
          "output_type": "execute_result",
          "data": {
            "text/plain": [
              "<tensorflow_estimator.python.estimator.canned.dnn.DNNClassifierV2 at 0x7fcbd3c3d908>"
            ]
          },
          "metadata": {
            "tags": []
          },
          "execution_count": 30
        }
      ]
    },
    {
      "cell_type": "code",
      "metadata": {
        "id": "Ghx00MvwH-aT",
        "outputId": "6aea64de-a447-4c38-80a5-8996c2a90701",
        "colab": {
          "base_uri": "https://localhost:8080/"
        }
      },
      "source": [
        "# 3-layer Adagrad\n",
        "train_dnn(hidden_units=[NUM_FEATURES * 4, NUM_FEATURES * 2, NUM_FEATURES], optimizer='Adagrad')"
      ],
      "execution_count": 31,
      "outputs": [
        {
          "output_type": "stream",
          "text": [
            "Execution time: 21.378\n",
            "Accuracy: 0.42857143\n",
            "{'accuracy': 0.42857143, 'accuracy_baseline': 0.5714286, 'auc': 0.5, 'auc_precision_recall': 0.5945349, 'average_loss': 2.257445, 'label/mean': 0.42857143, 'loss': 2.257445, 'precision': 0.4, 'prediction/mean': 0.61074543, 'recall': 0.6666667, 'global_step': 5000}\n"
          ],
          "name": "stdout"
        },
        {
          "output_type": "execute_result",
          "data": {
            "text/plain": [
              "<tensorflow_estimator.python.estimator.canned.dnn.DNNClassifierV2 at 0x7fcbd3c3da58>"
            ]
          },
          "metadata": {
            "tags": []
          },
          "execution_count": 31
        }
      ]
    },
    {
      "cell_type": "code",
      "metadata": {
        "id": "WsQsMXA0IC0R",
        "outputId": "a6be7af9-1a16-4438-ac42-97b9fd804a5b",
        "colab": {
          "base_uri": "https://localhost:8080/"
        }
      },
      "source": [
        "# 3-layer NAdam\n",
        "train_dnn(\n",
        "    hidden_units=[NUM_FEATURES * 4, NUM_FEATURES * 2, NUM_FEATURES],\n",
        "    optimizer=tf.keras.optimizers.Nadam(\n",
        "        learning_rate=0.001,\n",
        "        beta_1=0.9,\n",
        "        beta_2=0.999,\n",
        "        epsilon=1e-07,\n",
        "    ),\n",
        ")"
      ],
      "execution_count": 32,
      "outputs": [
        {
          "output_type": "stream",
          "text": [
            "Execution time: 25.158\n",
            "Accuracy: 0.2857143\n",
            "{'accuracy': 0.2857143, 'accuracy_baseline': 0.5714286, 'auc': 0.33333334, 'auc_precision_recall': 0.33215043, 'average_loss': 8.188621, 'label/mean': 0.42857143, 'loss': 8.188621, 'precision': 0.25, 'prediction/mean': 0.5740902, 'recall': 0.33333334, 'global_step': 5000}\n"
          ],
          "name": "stdout"
        },
        {
          "output_type": "execute_result",
          "data": {
            "text/plain": [
              "<tensorflow_estimator.python.estimator.canned.dnn.DNNClassifierV2 at 0x7fcbcb98d9e8>"
            ]
          },
          "metadata": {
            "tags": []
          },
          "execution_count": 32
        }
      ]
    },
    {
      "cell_type": "markdown",
      "metadata": {
        "id": "8AZwMeknUxIe"
      },
      "source": [
        "# [Save and download model](https://www.tensorflow.org/guide/estimator#savedmodels_from_estimators)\n",
        "Note: this only works in Chrome."
      ]
    },
    {
      "cell_type": "code",
      "metadata": {
        "id": "P5QtYYGRU4K-",
        "outputId": "5a5315d4-e7bf-4a1a-fde6-a3f28a011c64",
        "colab": {
          "base_uri": "https://localhost:8080/",
          "height": 204
        }
      },
      "source": [
        "from google.colab import files\n",
        "from os import path\n",
        "from tempfile import mkdtemp\n",
        "\n",
        "model = large_adagrad\n",
        "BASE_PATH = path.join(mkdtemp(), 'jayne-eats-model')\n",
        "serving_input_fn = tf.estimator.export.build_parsing_serving_input_receiver_fn(\n",
        "  tf.feature_column.make_parse_example_spec(feature_columns))\n",
        "\n",
        "model_path = model.export_saved_model(BASE_PATH, serving_input_fn)\n",
        "\n",
        "files.download(model_path.decode('utf-8'))"
      ],
      "execution_count": 28,
      "outputs": [
        {
          "output_type": "stream",
          "text": [
            "INFO:tensorflow:Calling model_fn.\n",
            "INFO:tensorflow:Done calling model_fn.\n",
            "INFO:tensorflow:Signatures INCLUDED in export for Classify: ['serving_default', 'classification']\n",
            "INFO:tensorflow:Signatures INCLUDED in export for Regress: ['regression']\n",
            "INFO:tensorflow:Signatures INCLUDED in export for Predict: ['predict']\n",
            "INFO:tensorflow:Signatures INCLUDED in export for Train: None\n",
            "INFO:tensorflow:Signatures INCLUDED in export for Eval: None\n",
            "INFO:tensorflow:Restoring parameters from /tmp/tmp7nrsx_be/model.ckpt-5000\n",
            "INFO:tensorflow:Assets added to graph.\n",
            "INFO:tensorflow:No assets to write.\n",
            "INFO:tensorflow:SavedModel written to: /tmp/tmpwqx8178n/jayne-eats-model/temp-1612748067/saved_model.pb\n"
          ],
          "name": "stdout"
        },
        {
          "output_type": "display_data",
          "data": {
            "application/javascript": [
              "\n",
              "    async function download(id, filename, size) {\n",
              "      if (!google.colab.kernel.accessAllowed) {\n",
              "        return;\n",
              "      }\n",
              "      const div = document.createElement('div');\n",
              "      const label = document.createElement('label');\n",
              "      label.textContent = `Downloading \"${filename}\": `;\n",
              "      div.appendChild(label);\n",
              "      const progress = document.createElement('progress');\n",
              "      progress.max = size;\n",
              "      div.appendChild(progress);\n",
              "      document.body.appendChild(div);\n",
              "\n",
              "      const buffers = [];\n",
              "      let downloaded = 0;\n",
              "\n",
              "      const channel = await google.colab.kernel.comms.open(id);\n",
              "      // Send a message to notify the kernel that we're ready.\n",
              "      channel.send({})\n",
              "\n",
              "      for await (const message of channel.messages) {\n",
              "        // Send a message to notify the kernel that we're ready.\n",
              "        channel.send({})\n",
              "        if (message.buffers) {\n",
              "          for (const buffer of message.buffers) {\n",
              "            buffers.push(buffer);\n",
              "            downloaded += buffer.byteLength;\n",
              "            progress.value = downloaded;\n",
              "          }\n",
              "        }\n",
              "      }\n",
              "      const blob = new Blob(buffers, {type: 'application/binary'});\n",
              "      const a = document.createElement('a');\n",
              "      a.href = window.URL.createObjectURL(blob);\n",
              "      a.download = filename;\n",
              "      div.appendChild(a);\n",
              "      a.click();\n",
              "      div.remove();\n",
              "    }\n",
              "  "
            ],
            "text/plain": [
              "<IPython.core.display.Javascript object>"
            ]
          },
          "metadata": {
            "tags": []
          }
        },
        {
          "output_type": "display_data",
          "data": {
            "application/javascript": [
              "download(\"download_ce44a701-934b-408e-88ed-e47b963bd260\", \"1612748067\", 4096)"
            ],
            "text/plain": [
              "<IPython.core.display.Javascript object>"
            ]
          },
          "metadata": {
            "tags": []
          }
        }
      ]
    }
  ]
}