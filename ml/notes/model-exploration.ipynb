{
  "nbformat": 4,
  "nbformat_minor": 0,
  "metadata": {
    "colab": {
      "name": "Explore models.ipynb",
      "provenance": [],
      "authorship_tag": "ABX9TyPgWaPotNnbrNZd9PlVBGSl"
    },
    "kernelspec": {
      "name": "python3",
      "display_name": "Python 3"
    }
  },
  "cells": [
    {
      "cell_type": "markdown",
      "metadata": {
        "id": "3roT45bqR-vs"
      },
      "source": [
        "# Intro\n",
        "\n",
        "- [Choosing the right estimator](https://scikit-learn.org/stable/tutorial/machine_learning_map/index.html) (scikit-learn)\n",
        "\n"
      ]
    },
    {
      "cell_type": "markdown",
      "metadata": {
        "id": "yvG0bIB_UzD7"
      },
      "source": [
        "# Data"
      ]
    },
    {
      "cell_type": "code",
      "metadata": {
        "colab": {
          "base_uri": "https://localhost:8080/"
        },
        "id": "Q0Uv0gItdoSG",
        "outputId": "4fc5b6e2-1b7e-415b-d52b-162aa7612e2c"
      },
      "source": [
        "# Data samples, organized as: [classification, consistency, temperature, [ingredients]].\n",
        "foods = [\n",
        "  # Pizzas\n",
        "  [0, 'solid', 'warm', ['bell pepper', 'cheese', 'flour', 'garlic', 'oil', 'olive', 'onion', 'salt', 'sugar', 'tomato']], # Olives\n",
        "  [0, 'solid', 'warm', ['anchovy', 'bell pepper', 'cheese', 'flour', 'garlic', 'mayonnaise', 'oil', 'olive', 'onion', 'salt', 'spinach', 'sugar']], # Anchovies\n",
        "  [0, 'solid', 'warm', ['apple', 'coriander', 'cheese', 'flour', 'garlic', 'oil', 'onion', 'salt', 'sugar']], # Apple & goat cheese\n",
        "  [1, 'solid', 'warm', ['arugula', 'bell pepper', 'cheese', 'coriander', 'flour', 'garlic', 'oil', 'onion', 'salt', 'spinach', 'sugar', 'tomato']], # Arugula\n",
        "  [1, 'solid', 'warm', ['bell pepper', 'cheese', 'flour', 'garlic', 'mushroom', 'oil', 'onion', 'salt', 'sugar']], # Mushroom\n",
        "  [1, 'solid', 'warm', ['cheese', 'flour', 'garlic', 'oil', 'onion', 'salt', 'sugar', 'tomato']], # Cheese\n",
        "\n",
        "  # Products\n",
        "  # [1, 'crunchy', 'normal', ['anise', 'baking powder', 'egg', 'flour', 'oil', 'sugar']], # Biscotti\n",
        "  # [1, 'crunchy', 'cool', ['almond', 'barley malt', 'milk', 'rice', 'salt', 'sugar', 'wheat bran', 'whole grain wheat']], # Vanilla almond Special K\n",
        "\n",
        "  # Smoothies & milkshakes\n",
        "  [1, 'chewy', 'cool', ['cookies', 'milk', 'skim milk', 'sugar', 'vanilla']], # Oreo ice cream\n",
        "  [0, 'thick', 'cool', ['blueberry', 'pineapple', 'strawberry']],\n",
        "  [0, 'thick', 'cool', ['blueberry', 'kiwi', 'strawberry']],\n",
        "  [0, 'thick', 'cool', ['chocolate', 'milk', 'vanilla']],\n",
        "  [0, 'thick', 'cool', ['banana', 'chocolate', 'milk', 'vanilla']],\n",
        "  [0, 'thick', 'cool', ['milk', 'strawberry', 'vanilla']],\n",
        "  [1, 'thick', 'cool', ['banana', 'mango', 'pineapple']],\n",
        "  [1, 'thick', 'cool', ['blueberry', 'kiwi', 'mango', 'pineapple']],\n",
        "  [1, 'thick', 'cool', ['banana', 'milk', 'strawberry', 'vanilla']],\n",
        "  [1, 'thick', 'cool', ['banana', 'milk', 'kiwi', 'vanilla']],\n",
        "\n",
        "  # Soups & chilis\n",
        "  [0, 'mashed', 'warm', ['bay leaf', 'chickpea', 'chili', 'coriander', 'cumin', 'garlic', 'ginger', 'oil', 'onion', 'salt', 'tomato', 'tumeric']], # Chole chickpea curry\n",
        "  [0, 'mashed', 'warm', ['black pepper', 'chickpea', 'chili', 'coriander', 'cumin', 'garlic', 'ginger', 'oil', 'onion', 'potato', 'salt', 'spinach', 'tomato', 'tumeric']], # Sweet potato curry\n",
        "  [1, 'mashed', 'warm', ['black pepper', 'butter', 'cheese', 'coriander', 'garlic', 'potato', 'salt']], # Mash potatoes\n",
        "  [1, 'mashed', 'warm', ['bean', 'black pepper', 'carrot', 'chili', 'garlic', 'onion', 'potato', 'salt', 'tomato', 'tumeric']], # Chili\n",
        "  [0, 'liquid', 'warm', ['black pepper', 'butter', 'flour', 'garlic', 'onion', 'peanut', 'salt']], # Peanut soup\n",
        "  [1, 'thick', 'warm', ['black pepper', 'carrot', 'chili', 'garlic', 'onion', 'potato', 'salt', 'squash']], # Butternut squash soup\n",
        "\n",
        "  # Miscellaneous (stuff made out of ingredients from above)\n",
        "  [1, 'crunchy', 'normal', ['almond', 'apple', 'arugula', 'cranberry', 'oil', 'salt']], # Arugula salad\n",
        "  [1, 'solid', 'warm', ['black pepper', 'cheese', 'egg', 'garlic', 'mushroom', 'oil', 'onion', 'red pepper', 'salt', 'spinach']], # Mushroom spinach omelet\n",
        "  [1, 'solid', 'warm', ['bean', 'black pepper', 'oil', 'onion', 'rice', 'salt', 'tumeric']], # Rice and beans\n",
        "  [1, 'solid', 'warm', ['black pepper', 'mushroom', 'oil', 'onion', 'pea', 'rice', 'salt']], # Riz djondjon\n",
        "  [1, 'solid', 'cool', ['banana', 'butter', 'egg', 'flour', 'milk', 'salt', 'strawberry']], # Crepes\n",
        "  [0, 'solid', 'warm', ['black pepper', 'oil', 'okra', 'onion', 'rice', 'salt', 'spinach']], # Kalalou\n",
        "]\n",
        "\n",
        "print('Size of data set:', len(foods))"
      ],
      "execution_count": 515,
      "outputs": [
        {
          "output_type": "stream",
          "text": [
            "Size of data set: 28\n"
          ],
          "name": "stdout"
        }
      ]
    },
    {
      "cell_type": "code",
      "metadata": {
        "id": "JlOjXQLAKc1k"
      },
      "source": [
        "# Utils.\n",
        "def get_descriptions(samples):\n",
        "  \"\"\"Retrieves food descriptions from a data set.\"\"\"\n",
        "\n",
        "  return list(map(lambda sample: sample[1:3], foods))\n",
        "\n",
        "def get_ingredients(samples):\n",
        "  \"\"\"Retrieves ingredients from a data set.\"\"\"\n",
        "\n",
        "  return list(map(lambda sample: sample[3], foods))\n",
        "\n",
        "def encode_samples(samples):\n",
        "  \"\"\"Encodes food samples to use as inputs to a model.\"\"\"\n",
        "  sample_descriptions = list(map(lambda sample: sample[1:3], samples))\n",
        "  sample_ingredients = list(map(lambda sample: sample[3], samples))\n",
        "  encoded_data_set = []\n",
        "  encoded_descriptions = food_descriptions_encoder\\\n",
        "    .transform(sample_descriptions)\\\n",
        "    .toarray()\n",
        "  encoded_ingredients = ingredients_encoder.transform(sample_ingredients)\n",
        "\n",
        "  for i in range(len(samples)):\n",
        "    encoded_data_set.append(np.concatenate([encoded_descriptions[i], encoded_ingredients[i]]))\n",
        "  \n",
        "  return encoded_data_set"
      ],
      "execution_count": 516,
      "outputs": []
    },
    {
      "cell_type": "code",
      "metadata": {
        "colab": {
          "base_uri": "https://localhost:8080/"
        },
        "id": "nB9W8MM8nR4C",
        "outputId": "c87b4cb6-933d-43cb-8cf6-9f3a3bccf541"
      },
      "source": [
        "# Encoders.\n",
        "import numpy as np\n",
        "from sklearn.preprocessing import LabelBinarizer, MultiLabelBinarizer, OneHotEncoder\n",
        "\n",
        "food_descriptions_encoder = OneHotEncoder()\n",
        "food_descriptions_encoder.fit(get_descriptions(foods))\n",
        "ingredients_encoder = MultiLabelBinarizer()\n",
        "ingredients_encoder.fit(get_ingredients(foods))\n",
        "\n",
        "print(f'Food descriptions:', food_descriptions_encoder.categories_)\n",
        "print(f'Ingredients ({len(ingredients_encoder.classes_)}):', ingredients_encoder.classes_)"
      ],
      "execution_count": 517,
      "outputs": [
        {
          "output_type": "stream",
          "text": [
            "Food descriptions: [array(['chewy', 'crunchy', 'liquid', 'mashed', 'solid', 'thick'],\n",
            "      dtype=object), array(['cool', 'normal', 'warm'], dtype=object)]\n",
            "Ingredients (48): ['almond' 'anchovy' 'apple' 'arugula' 'banana' 'bay leaf' 'bean'\n",
            " 'bell pepper' 'black pepper' 'blueberry' 'butter' 'carrot' 'cheese'\n",
            " 'chickpea' 'chili' 'chocolate' 'cookies' 'coriander' 'cranberry' 'cumin'\n",
            " 'egg' 'flour' 'garlic' 'ginger' 'kiwi' 'mango' 'mayonnaise' 'milk'\n",
            " 'mushroom' 'oil' 'okra' 'olive' 'onion' 'pea' 'peanut' 'pineapple'\n",
            " 'potato' 'red pepper' 'rice' 'salt' 'skim milk' 'spinach' 'squash'\n",
            " 'strawberry' 'sugar' 'tomato' 'tumeric' 'vanilla']\n"
          ],
          "name": "stdout"
        }
      ]
    },
    {
      "cell_type": "code",
      "metadata": {
        "id": "ZfXMO9YFU1uj",
        "colab": {
          "base_uri": "https://localhost:8080/"
        },
        "outputId": "ba60435d-82b4-4970-c038-27a153ed91dd"
      },
      "source": [
        "# Encode, randomize and split data set.\n",
        "from sklearn.model_selection import train_test_split\n",
        "\n",
        "X = encode_samples(foods)\n",
        "y = list(map(lambda sample: sample[0], foods))\n",
        "X_train, X_test, y_train, y_test = train_test_split(X, y)\n",
        "\n",
        "print('Training set size:', len(y_train))\n",
        "print('Testing set size:', len(y_test))"
      ],
      "execution_count": 518,
      "outputs": [
        {
          "output_type": "stream",
          "text": [
            "Training set size: 21\n",
            "Testing set size: 7\n"
          ],
          "name": "stdout"
        }
      ]
    },
    {
      "cell_type": "markdown",
      "metadata": {
        "id": "rCz6klBHUX6r"
      },
      "source": [
        "# [Nearest Neighbours](https://scikit-learn.org/stable/modules/neighbors.html)\n",
        "\n",
        "Scikit-learn supports three nearest neighbours algorithms:\n",
        "- [Brute-force](https://scikit-learn.org/stable/modules/neighbors.html#brute-force).\n",
        "- [K-D Tree](https://scikit-learn.org/stable/modules/neighbors.html#k-d-tree): best for low dimensional data (D < 20).\n",
        "- [Ball Tree](https://scikit-learn.org/stable/modules/neighbors.html#ball-tree): better for high dimensional data.\n",
        "\n",
        "## Summary\n",
        "\n",
        "- Higher K is better.\n",
        "- Uniform weights might be slightly better than distance weights.\n",
        "- Top performers: Uniform KNN (K=15)"
      ]
    },
    {
      "cell_type": "code",
      "metadata": {
        "id": "nUFGKB8uMcya",
        "colab": {
          "base_uri": "https://localhost:8080/"
        },
        "outputId": "caaa148a-fd6f-4a32-8c6c-ba5b52881c4e"
      },
      "source": [
        "from sklearn.neighbors import KNeighborsClassifier as KNN\n",
        "\n",
        "knn_distance_3 = KNN(n_neighbors=3, weights='distance').fit(X_train, y_train)\n",
        "print('Distance KNN (K=3) score:', knn_distance_3.score(X_test, y_test))\n",
        "\n",
        "knn_distance_15 = KNN(n_neighbors=15, weights='distance').fit(X_train, y_train)\n",
        "print('Distance KNN (K=15) score:', knn_distance_15.score(X_test, y_test))\n",
        "\n",
        "knn_uniform_1 = KNN(n_neighbors=1, weights='uniform').fit(X_train, y_train)\n",
        "print('Uniform KNN (K=1) score:', knn_uniform_1.score(X_test, y_test))\n",
        "\n",
        "knn_uniform_3 = KNN(n_neighbors=3, weights='uniform').fit(X_train, y_train)\n",
        "print('Uniform KNN (K=3) score:', knn_uniform_3.score(X_test, y_test))\n",
        "\n",
        "knn_uniform_7 = KNN(n_neighbors=7, weights='uniform').fit(X_train, y_train)\n",
        "print('Uniform KNN (K=7) score:', knn_uniform_7.score(X_test, y_test))\n",
        "\n",
        "knn_uniform_15 = KNN(n_neighbors=15, weights='uniform').fit(X_train, y_train)\n",
        "print('Uniform KNN (K=15) score:', knn_uniform_15.score(X_test, y_test))\n",
        "\n",
        "knn_uniform_20 = KNN(n_neighbors=20, weights='uniform').fit(X_train, y_train)\n",
        "print('Uniform KNN (K=20) score:', knn_uniform_20.score(X_test, y_test))"
      ],
      "execution_count": 519,
      "outputs": [
        {
          "output_type": "stream",
          "text": [
            "Distance KNN (K=3) score: 0.5714285714285714\n",
            "Distance KNN (K=15) score: 0.42857142857142855\n",
            "Uniform KNN (K=1) score: 0.7142857142857143\n",
            "Uniform KNN (K=3) score: 0.5714285714285714\n",
            "Uniform KNN (K=7) score: 0.42857142857142855\n",
            "Uniform KNN (K=15) score: 0.42857142857142855\n",
            "Uniform KNN (K=20) score: 0.42857142857142855\n"
          ],
          "name": "stdout"
        }
      ]
    },
    {
      "cell_type": "markdown",
      "metadata": {
        "id": "Z3SgkjX8Wpck"
      },
      "source": [
        "# [Random Forest](https://scikit-learn.org/stable/modules/ensemble.html#forests-of-randomized-trees)"
      ]
    },
    {
      "cell_type": "markdown",
      "metadata": {
        "id": "6d3T5PaZWXz4"
      },
      "source": [
        "# [Stochastic Gradient Descent](https://scikit-learn.org/stable/modules/sgd.html)\n",
        "\n",
        "Requires a lot of data (>100k)"
      ]
    },
    {
      "cell_type": "markdown",
      "metadata": {
        "id": "Qr9d6t-UW18b"
      },
      "source": [
        "# [Support Vector Machine](https://scikit-learn.org/stable/modules/svm.html)\n",
        "\n",
        "## Summary\n",
        "\n",
        "- Higher polynomial is better.\n",
        "- Lower C is better for RBF.\n",
        "- Linear doesn't work very well.\n",
        "- Top performers:\n",
        "  1. Radial basis function SVC (C=4, gamma=1.0)\n",
        "  2. Polynomial SVC (10)\n",
        "  3. Sigmoid SVC"
      ]
    },
    {
      "cell_type": "code",
      "metadata": {
        "colab": {
          "base_uri": "https://localhost:8080/"
        },
        "id": "5q_ufoDQZj7w",
        "outputId": "b7183fdf-403e-409b-d1ec-eab5346f72e7"
      },
      "source": [
        "# SVC: https://scikit-learn.org/stable/modules/generated/sklearn.svm.SVC.html\n",
        "from sklearn.svm import SVC\n",
        "\n",
        "svc_linear = SVC(kernel='linear').fit(X_train, y_train)\n",
        "print('Linear SVC score:', svc_linear.score(X_test, y_test))\n",
        "\n",
        "svc_poly_3 = SVC(kernel='poly', degree=3).fit(X_train, y_train)\n",
        "print('Polynomial (3) SVC score:', svc_poly_3.score(X_test, y_test))\n",
        "\n",
        "svc_poly_10 = SVC(kernel='poly', degree=10).fit(X_train, y_train)\n",
        "print('* Polynomial (10) SVC score:', svc_poly_10.score(X_test, y_test), '*')\n",
        "\n",
        "svc_poly_20 = SVC(kernel='poly', degree=20).fit(X_train, y_train)\n",
        "print('Polynomial (20) SVC score:', svc_poly_20.score(X_test, y_test))\n",
        "\n",
        "svc_rbf_c001 = SVC(C=0.01, kernel='rbf').fit(X_train, y_train)\n",
        "print('Radial basis function (C=0.01) SVC score:', svc_rbf_c001.score(X_test, y_test))\n",
        "\n",
        "svc_rbf_c01 = SVC(C=0.1, kernel='rbf').fit(X_train, y_train)\n",
        "print('Radial basis function (C=0.1) SVC score:', svc_rbf_c01.score(X_test, y_test))\n",
        "\n",
        "svc_rbf_c01_g01 = SVC(C=0.1, gamma=0.1, kernel='rbf').fit(X_train, y_train)\n",
        "print('Radial basis function (C=0.1, gamma=0.1) SVC score:', svc_rbf_c01_g01.score(X_test, y_test))\n",
        "\n",
        "svc_rbf_c01_g1 = SVC(C=0.1, gamma=1.0, kernel='rbf').fit(X_train, y_train)\n",
        "print('Radial basis function (C=0.1, gamma=1.0) SVC score:', svc_rbf_c01_g1.score(X_test, y_test))\n",
        "\n",
        "svc_rbf_c01_g10 = SVC(C=0.1, gamma=10.0, kernel='rbf').fit(X_train, y_train)\n",
        "print('Radial basis function (C=0.1, gamma=10.0) SVC score:', svc_rbf_c01_g10.score(X_test, y_test))\n",
        "\n",
        "svc_rbf_c1 = SVC(C=1.0, kernel='rbf').fit(X_train, y_train)\n",
        "print('Radial basis function (C=1) SVC score:', svc_rbf_c1.score(X_test, y_test))\n",
        "\n",
        "svc_rbf_c4 = SVC(C=4.0, kernel='rbf').fit(X_train, y_train)\n",
        "print('Radial basis function (C=4) SVC score:', svc_rbf_c4.score(X_test, y_test))\n",
        "\n",
        "svc_rbf_c4_g01 = SVC(C=4.0, gamma=0.1, kernel='rbf').fit(X_train, y_train)\n",
        "print('Radial basis function (C=4, gamma=0.1) SVC score:', svc_rbf_c4_g01.score(X_test, y_test))\n",
        "\n",
        "svc_rbf_c4_g011 = SVC(C=4.0, gamma=0.11, kernel='rbf').fit(X_train, y_train)\n",
        "print('* Radial basis function (C=4, gamma=0.11) SVC score:', svc_rbf_c4_g011.score(X_test, y_test), '*')\n",
        "\n",
        "svc_rbf_c4_g012 = SVC(C=4.0, gamma=0.12, kernel='rbf').fit(X_train, y_train)\n",
        "print('Radial basis function (C=4, gamma=0.12) SVC score:', svc_rbf_c4_g012.score(X_test, y_test))\n",
        "\n",
        "svc_rbf_c4_g015 = SVC(C=4.0, gamma=0.15, kernel='rbf').fit(X_train, y_train)\n",
        "print('Radial basis function (C=4, gamma=0.15) SVC score:', svc_rbf_c4_g015.score(X_test, y_test))\n",
        "\n",
        "svc_rbf_c4_g02 = SVC(C=4.0, gamma=0.2, kernel='rbf').fit(X_train, y_train)\n",
        "print('Radial basis function (C=4, gamma=0.2) SVC score:', svc_rbf_c4_g02.score(X_test, y_test))\n",
        "\n",
        "svc_rbf_c4_g05 = SVC(C=4.0, gamma=0.5, kernel='rbf').fit(X_train, y_train)\n",
        "print('Radial basis function (C=4, gamma=0.5) SVC score:', svc_rbf_c4_g05.score(X_test, y_test))\n",
        "\n",
        "svc_rbf_c4_g1 = SVC(C=4.0, gamma=1.0, kernel='rbf').fit(X_train, y_train)\n",
        "print('* Radial basis function (C=4, gamma=1.0) SVC score:', svc_rbf_c4_g1.score(X_test, y_test), '*')\n",
        "\n",
        "svc_rbf_c4_g2 = SVC(C=4.0, gamma=2.0, kernel='rbf').fit(X_train, y_train)\n",
        "print('Radial basis function (C=4, gamma=2.0) SVC score:', svc_rbf_c4_g2.score(X_test, y_test))\n",
        "\n",
        "svc_rbf_c4_g3 = SVC(C=4.0, gamma=3.0, kernel='rbf').fit(X_train, y_train)\n",
        "print('Radial basis function (C=4, gamma=3.0) SVC score:', svc_rbf_c4_g3.score(X_test, y_test))\n",
        "\n",
        "svc_rbf_c4_g4 = SVC(C=4.0, gamma=4.0, kernel='rbf').fit(X_train, y_train)\n",
        "print('* Radial basis function (C=4, gamma=4.0) SVC score:', svc_rbf_c4_g4.score(X_test, y_test), '*')\n",
        "\n",
        "svc_rbf_c4_g5 = SVC(C=4.0, gamma=5.0, kernel='rbf').fit(X_train, y_train)\n",
        "print('Radial basis function (C=4, gamma=5.0) SVC score:', svc_rbf_c4_g5.score(X_test, y_test))\n",
        "\n",
        "svc_rbf_c4_g10 = SVC(C=4.0, gamma=10.0, kernel='rbf').fit(X_train, y_train)\n",
        "print('Radial basis function (C=4, gamma=10.0) SVC score:', svc_rbf_c4_g10.score(X_test, y_test))\n",
        "\n",
        "svc_rbf_c5 = SVC(C=5.0, kernel='rbf').fit(X_train, y_train)\n",
        "print('Radial basis function (C=5) SVC score:', svc_rbf_c5.score(X_test, y_test))\n",
        "\n",
        "svc_rbf_c8 = SVC(C=8.0, kernel='rbf').fit(X_train, y_train)\n",
        "print('Radial basis function (C=8) SVC score:', svc_rbf_c8.score(X_test, y_test))\n",
        "\n",
        "svc_rbf_c10 = SVC(C=10.0, kernel='rbf').fit(X_train, y_train)\n",
        "print('Radial basis function (C=10) SVC score:', svc_rbf_c10.score(X_test, y_test))\n",
        "\n",
        "svc_rbf_c10_g01 = SVC(C=10.0, gamma=0.1, kernel='rbf').fit(X_train, y_train)\n",
        "print('Radial basis function (C=10, gamma=0.1) SVC score:', svc_rbf_c10_g01.score(X_test, y_test))\n",
        "\n",
        "svc_rbf_c10_g063 = SVC(C=10.0, gamma=0.63, kernel='rbf').fit(X_train, y_train)\n",
        "print('* Radial basis function (C=10, gamma=0.63) SVC score:', svc_rbf_c10_g063.score(X_test, y_test), '*')\n",
        "\n",
        "svc_rbf_c10_g1 = SVC(C=10.0, gamma=1.0, kernel='rbf').fit(X_train, y_train)\n",
        "print('Radial basis function (C=10, gamma=1.0) SVC score:', svc_rbf_c10_g1.score(X_test, y_test))\n",
        "\n",
        "svc_rbf_c10_g122 = SVC(C=10.0, gamma=1.22, kernel='rbf').fit(X_train, y_train)\n",
        "print('* Radial basis function (C=10, gamma=1.22) SVC score:', svc_rbf_c10_g122.score(X_test, y_test), '*')\n",
        "\n",
        "svc_rbf_c10_g4 = SVC(C=10.0, gamma=4.0, kernel='rbf').fit(X_train, y_train)\n",
        "print('* Radial basis function (C=10, gamma=4.0) SVC score:', svc_rbf_c10_g4.score(X_test, y_test), '*')\n",
        "\n",
        "svc_rbf_c10_g10 = SVC(C=10.0, gamma=10.0, kernel='rbf').fit(X_train, y_train)\n",
        "print('Radial basis function (C=10, gamma=10.0) SVC score:', svc_rbf_c10_g10.score(X_test, y_test))\n",
        "\n",
        "svc_sigmoid = SVC(kernel='sigmoid').fit(X_train, y_train)\n",
        "print('* Sigmoid SVC score:', svc_sigmoid.score(X_test, y_test), '*')\n"
      ],
      "execution_count": 520,
      "outputs": [
        {
          "output_type": "stream",
          "text": [
            "Linear SVC score: 0.7142857142857143\n",
            "Polynomial (3) SVC score: 0.5714285714285714\n",
            "* Polynomial (10) SVC score: 0.42857142857142855 *\n",
            "Polynomial (20) SVC score: 0.42857142857142855\n",
            "Radial basis function (C=0.01) SVC score: 0.42857142857142855\n",
            "Radial basis function (C=0.1) SVC score: 0.42857142857142855\n",
            "Radial basis function (C=0.1, gamma=0.1) SVC score: 0.42857142857142855\n",
            "Radial basis function (C=0.1, gamma=1.0) SVC score: 0.42857142857142855\n",
            "Radial basis function (C=0.1, gamma=10.0) SVC score: 0.42857142857142855\n",
            "Radial basis function (C=1) SVC score: 0.42857142857142855\n",
            "Radial basis function (C=4) SVC score: 0.7142857142857143\n",
            "Radial basis function (C=4, gamma=0.1) SVC score: 0.7142857142857143\n",
            "* Radial basis function (C=4, gamma=0.11) SVC score: 0.7142857142857143 *\n",
            "Radial basis function (C=4, gamma=0.12) SVC score: 0.7142857142857143\n",
            "Radial basis function (C=4, gamma=0.15) SVC score: 0.8571428571428571\n",
            "Radial basis function (C=4, gamma=0.2) SVC score: 0.8571428571428571\n",
            "Radial basis function (C=4, gamma=0.5) SVC score: 0.7142857142857143\n",
            "* Radial basis function (C=4, gamma=1.0) SVC score: 0.5714285714285714 *\n",
            "Radial basis function (C=4, gamma=2.0) SVC score: 0.42857142857142855\n",
            "Radial basis function (C=4, gamma=3.0) SVC score: 0.42857142857142855\n",
            "* Radial basis function (C=4, gamma=4.0) SVC score: 0.42857142857142855 *\n",
            "Radial basis function (C=4, gamma=5.0) SVC score: 0.42857142857142855\n",
            "Radial basis function (C=4, gamma=10.0) SVC score: 0.42857142857142855\n",
            "Radial basis function (C=5) SVC score: 0.8571428571428571\n",
            "Radial basis function (C=8) SVC score: 0.8571428571428571\n",
            "Radial basis function (C=10) SVC score: 0.8571428571428571\n",
            "Radial basis function (C=10, gamma=0.1) SVC score: 0.8571428571428571\n",
            "* Radial basis function (C=10, gamma=0.63) SVC score: 0.7142857142857143 *\n",
            "Radial basis function (C=10, gamma=1.0) SVC score: 0.5714285714285714\n",
            "* Radial basis function (C=10, gamma=1.22) SVC score: 0.5714285714285714 *\n",
            "* Radial basis function (C=10, gamma=4.0) SVC score: 0.42857142857142855 *\n",
            "Radial basis function (C=10, gamma=10.0) SVC score: 0.42857142857142855\n",
            "* Sigmoid SVC score: 0.42857142857142855 *\n"
          ],
          "name": "stdout"
        }
      ]
    }
  ]
}