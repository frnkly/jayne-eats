{
  "nbformat": 4,
  "nbformat_minor": 0,
  "metadata": {
    "colab": {
      "name": "Explore models.ipynb",
      "provenance": [],
      "authorship_tag": "ABX9TyPk7eJRlYTiipcchs17jEkk"
    },
    "kernelspec": {
      "name": "python3",
      "display_name": "Python 3"
    }
  },
  "cells": [
    {
      "cell_type": "markdown",
      "metadata": {
        "id": "3roT45bqR-vs"
      },
      "source": [
        "# Model Exploration\n",
        "\n",
        "- [Choosing the right estimator](https://scikit-learn.org/stable/tutorial/machine_learning_map/index.html)\n",
        "- [Tuning the hyper-parameters of an estimator using grid search](https://scikit-learn.org/stable/modules/grid_search.html)\n",
        "\n"
      ]
    },
    {
      "cell_type": "markdown",
      "metadata": {
        "id": "yvG0bIB_UzD7"
      },
      "source": [
        "# Data"
      ]
    },
    {
      "cell_type": "code",
      "metadata": {
        "colab": {
          "base_uri": "https://localhost:8080/"
        },
        "id": "Q0Uv0gItdoSG",
        "outputId": "a2eebdd2-90d9-4750-b789-7b43e606dee1"
      },
      "source": [
        "# Data samples, organized as: [classification, consistency, temperature, [ingredients]].\n",
        "foods = [\n",
        "  # Pizzas\n",
        "  [0, 'solid', 'warm', ['bell pepper', 'cheese', 'flour', 'garlic', 'oil', 'olive', 'onion', 'salt', 'sugar', 'tomato']], # Olives\n",
        "  [0, 'solid', 'warm', ['anchovy', 'bell pepper', 'cheese', 'flour', 'garlic', 'mayonnaise', 'oil', 'olive', 'onion', 'salt', 'spinach', 'sugar']], # Anchovies\n",
        "  [0, 'solid', 'warm', ['apple', 'coriander', 'cheese', 'flour', 'garlic', 'oil', 'onion', 'salt', 'sugar']], # Apple & goat cheese\n",
        "  [1, 'solid', 'warm', ['arugula', 'bell pepper', 'cheese', 'coriander', 'flour', 'garlic', 'oil', 'onion', 'salt', 'spinach', 'sugar', 'tomato']], # Arugula\n",
        "  [1, 'solid', 'warm', ['bell pepper', 'cheese', 'flour', 'garlic', 'mushroom', 'oil', 'onion', 'salt', 'sugar']], # Mushroom\n",
        "  [1, 'solid', 'warm', ['cheese', 'flour', 'garlic', 'oil', 'onion', 'salt', 'sugar', 'tomato']], # Cheese\n",
        "\n",
        "  # Products\n",
        "  # [1, 'crunchy', 'normal', ['anise', 'baking powder', 'egg', 'flour', 'oil', 'sugar']], # Biscotti\n",
        "  # [1, 'crunchy', 'cool', ['almond', 'barley malt', 'milk', 'rice', 'salt', 'sugar', 'wheat bran', 'whole grain wheat']], # Vanilla almond Special K\n",
        "\n",
        "  # Smoothies & milkshakes\n",
        "  [1, 'chewy', 'cool', ['cookies', 'milk', 'skim milk', 'sugar', 'vanilla']], # Oreo ice cream\n",
        "  [0, 'thick', 'cool', ['blueberry', 'pineapple', 'strawberry']],\n",
        "  [0, 'thick', 'cool', ['blueberry', 'kiwi', 'strawberry']],\n",
        "  [0, 'thick', 'cool', ['chocolate', 'milk', 'vanilla']],\n",
        "  [0, 'thick', 'cool', ['banana', 'chocolate', 'milk', 'vanilla']],\n",
        "  [0, 'thick', 'cool', ['milk', 'strawberry', 'vanilla']],\n",
        "  [1, 'thick', 'cool', ['banana', 'mango', 'pineapple']],\n",
        "  [1, 'thick', 'cool', ['blueberry', 'kiwi', 'mango', 'pineapple']],\n",
        "  [1, 'thick', 'cool', ['banana', 'milk', 'strawberry', 'vanilla']],\n",
        "  [1, 'thick', 'cool', ['banana', 'milk', 'kiwi', 'vanilla']],\n",
        "\n",
        "  # Soups & chilis\n",
        "  [0, 'mashed', 'warm', ['bay leaf', 'chickpea', 'chili', 'coriander', 'cumin', 'garlic', 'ginger', 'oil', 'onion', 'salt', 'tomato', 'tumeric']], # Chole chickpea curry\n",
        "  [0, 'mashed', 'warm', ['black pepper', 'chickpea', 'chili', 'coriander', 'cumin', 'garlic', 'ginger', 'oil', 'onion', 'potato', 'salt', 'spinach', 'tomato', 'tumeric']], # Sweet potato curry\n",
        "  [1, 'mashed', 'warm', ['black pepper', 'butter', 'cheese', 'coriander', 'garlic', 'potato', 'salt']], # Mash potatoes\n",
        "  [1, 'mashed', 'warm', ['bean', 'black pepper', 'carrot', 'chili', 'garlic', 'onion', 'potato', 'salt', 'tomato', 'tumeric']], # Chili\n",
        "  [0, 'liquid', 'warm', ['black pepper', 'butter', 'flour', 'garlic', 'onion', 'peanut', 'salt']], # Peanut soup\n",
        "  [1, 'thick', 'warm', ['black pepper', 'carrot', 'chili', 'garlic', 'onion', 'potato', 'salt', 'squash']], # Butternut squash soup\n",
        "\n",
        "  # Miscellaneous (stuff made out of ingredients from above)\n",
        "  [1, 'crunchy', 'normal', ['almond', 'apple', 'arugula', 'cranberry', 'oil', 'salt']], # Arugula salad\n",
        "  [1, 'solid', 'warm', ['black pepper', 'cheese', 'egg', 'garlic', 'mushroom', 'oil', 'onion', 'red pepper', 'salt', 'spinach']], # Mushroom spinach omelet\n",
        "  [1, 'solid', 'warm', ['bean', 'black pepper', 'oil', 'onion', 'rice', 'salt', 'tumeric']], # Rice and beans\n",
        "  [1, 'solid', 'warm', ['black pepper', 'mushroom', 'oil', 'onion', 'pea', 'rice', 'salt']], # Riz djondjon\n",
        "  [1, 'solid', 'cool', ['banana', 'butter', 'egg', 'flour', 'milk', 'salt', 'strawberry']], # Crepes\n",
        "  [0, 'solid', 'warm', ['black pepper', 'oil', 'okra', 'onion', 'rice', 'salt', 'spinach']], # Kalalou\n",
        "]\n",
        "\n",
        "print('Size of data set:', len(foods))"
      ],
      "execution_count": 34,
      "outputs": [
        {
          "output_type": "stream",
          "text": [
            "Size of data set: 28\n"
          ],
          "name": "stdout"
        }
      ]
    },
    {
      "cell_type": "code",
      "metadata": {
        "id": "JlOjXQLAKc1k"
      },
      "source": [
        "# General utility functions.\n",
        "def get_descriptions(samples):\n",
        "  \"\"\"Retrieves food descriptions from a data set.\"\"\"\n",
        "\n",
        "  return list(map(lambda sample: sample[1:3], foods))\n",
        "\n",
        "def get_ingredients(samples):\n",
        "  \"\"\"Retrieves ingredients from a data set.\"\"\"\n",
        "\n",
        "  return list(map(lambda sample: sample[3], foods))\n",
        "\n",
        "def encode_samples(samples):\n",
        "  \"\"\"Encodes food samples to use as inputs to a model.\"\"\"\n",
        "  sample_descriptions = list(map(lambda sample: sample[1:3], samples))\n",
        "  sample_ingredients = list(map(lambda sample: sample[3], samples))\n",
        "  encoded_data_set = []\n",
        "  encoded_descriptions = food_descriptions_encoder\\\n",
        "    .transform(sample_descriptions)\\\n",
        "    .toarray()\n",
        "  encoded_ingredients = ingredients_encoder.transform(sample_ingredients)\n",
        "\n",
        "  for i in range(len(samples)):\n",
        "    encoded_data_set.append(np.concatenate([encoded_descriptions[i], encoded_ingredients[i]]))\n",
        "  \n",
        "  return encoded_data_set"
      ],
      "execution_count": 35,
      "outputs": []
    },
    {
      "cell_type": "code",
      "metadata": {
        "colab": {
          "base_uri": "https://localhost:8080/"
        },
        "id": "nB9W8MM8nR4C",
        "outputId": "498fe371-13d9-4f6a-a836-159530e56b8c"
      },
      "source": [
        "# Encoders.\n",
        "import numpy as np\n",
        "from sklearn.preprocessing import LabelBinarizer, MultiLabelBinarizer, OneHotEncoder\n",
        "\n",
        "food_descriptions_encoder = OneHotEncoder()\n",
        "food_descriptions_encoder.fit(get_descriptions(foods))\n",
        "ingredients_encoder = MultiLabelBinarizer()\n",
        "ingredients_encoder.fit(get_ingredients(foods))\n",
        "\n",
        "print(f'Food descriptions:', food_descriptions_encoder.categories_)\n",
        "print(f'Ingredients ({len(ingredients_encoder.classes_)}):', ingredients_encoder.classes_)"
      ],
      "execution_count": 36,
      "outputs": [
        {
          "output_type": "stream",
          "text": [
            "Food descriptions: [array(['chewy', 'crunchy', 'liquid', 'mashed', 'solid', 'thick'],\n",
            "      dtype=object), array(['cool', 'normal', 'warm'], dtype=object)]\n",
            "Ingredients (48): ['almond' 'anchovy' 'apple' 'arugula' 'banana' 'bay leaf' 'bean'\n",
            " 'bell pepper' 'black pepper' 'blueberry' 'butter' 'carrot' 'cheese'\n",
            " 'chickpea' 'chili' 'chocolate' 'cookies' 'coriander' 'cranberry' 'cumin'\n",
            " 'egg' 'flour' 'garlic' 'ginger' 'kiwi' 'mango' 'mayonnaise' 'milk'\n",
            " 'mushroom' 'oil' 'okra' 'olive' 'onion' 'pea' 'peanut' 'pineapple'\n",
            " 'potato' 'red pepper' 'rice' 'salt' 'skim milk' 'spinach' 'squash'\n",
            " 'strawberry' 'sugar' 'tomato' 'tumeric' 'vanilla']\n"
          ],
          "name": "stdout"
        }
      ]
    },
    {
      "cell_type": "code",
      "metadata": {
        "id": "ZfXMO9YFU1uj",
        "colab": {
          "base_uri": "https://localhost:8080/"
        },
        "outputId": "1f797c45-1ac6-469b-a4c7-cea7fbc4a145"
      },
      "source": [
        "# Encode, randomize and split data set.\n",
        "from sklearn.model_selection import train_test_split\n",
        "\n",
        "X = encode_samples(foods)\n",
        "y = list(map(lambda sample: sample[0], foods))\n",
        "X_train, X_test, y_train, y_test = train_test_split(X, y)\n",
        "\n",
        "print('Training set size:', len(y_train))\n",
        "print('Testing set size:', len(y_test))"
      ],
      "execution_count": 37,
      "outputs": [
        {
          "output_type": "stream",
          "text": [
            "Training set size: 21\n",
            "Testing set size: 7\n"
          ],
          "name": "stdout"
        }
      ]
    },
    {
      "cell_type": "code",
      "metadata": {
        "id": "hXDufIHPfj5S"
      },
      "source": [
        "# Data-related utility functions.\n",
        "from sklearn.model_selection import cross_val_score\n",
        "\n",
        "def train(model_class, highlight=False, **args):\n",
        "  model = model_class(**args)\n",
        "  cross_validation = cross_val_score(model, X_train, y_train, cv=4)\n",
        "  cv_mean_score = round(cross_validation.mean(), 3)\n",
        "  training_set_score = round(model.fit(X_train, y_train).score(X_test, y_test), 3)\n",
        "\n",
        "  arg_str = ', '.join([f'{key}={args[key]}' for key in args])\n",
        "  name = f'{model_class.__name__}({arg_str})'\n",
        "  output = f'{name.ljust(40, \".\")} {cv_mean_score}, {training_set_score}'\n",
        "\n",
        "  if (highlight):\n",
        "    output += ' **'\n",
        "\n",
        "  print(output)\n",
        "\n",
        "  return None"
      ],
      "execution_count": 38,
      "outputs": []
    },
    {
      "cell_type": "markdown",
      "metadata": {
        "id": "rCz6klBHUX6r"
      },
      "source": [
        "# [Nearest Neighbours](https://scikit-learn.org/stable/modules/neighbors.html)\n",
        "\n",
        "Scikit-learn supports three nearest neighbours algorithms:\n",
        "- [Brute-force](https://scikit-learn.org/stable/modules/neighbors.html#brute-force).\n",
        "- [K-D Tree](https://scikit-learn.org/stable/modules/neighbors.html#k-d-tree): best for low dimensional data (D < 20).\n",
        "- [Ball Tree](https://scikit-learn.org/stable/modules/neighbors.html#ball-tree): better for high dimensional data.\n",
        "\n",
        "## Summary\n",
        "\n",
        "- Higher K is better.\n",
        "- Uniform weights might be slightly better than distance weights.\n",
        "- Top performers: Uniform KNN (K=15)"
      ]
    },
    {
      "cell_type": "code",
      "metadata": {
        "id": "nUFGKB8uMcya",
        "colab": {
          "base_uri": "https://localhost:8080/"
        },
        "outputId": "2efa0f26-ee39-4fe6-f16d-1cce45ff6be3"
      },
      "source": [
        "from sklearn.neighbors import KNeighborsClassifier as KNN\n",
        "\n",
        "train(KNN, n_neighbors=3, weights='distance')\n",
        "train(KNN, n_neighbors=15, weights='distance')\n",
        "train(KNN, n_neighbors=1, weights='uniform')\n",
        "train(KNN, n_neighbors=3, weights='uniform')\n",
        "train(KNN, n_neighbors=7, weights='uniform')\n",
        "train(KNN, n_neighbors=15, weights='uniform', highlight=True)\n",
        "# train(KNN, n_neighbors=20, weights='uniform')"
      ],
      "execution_count": 39,
      "outputs": [
        {
          "output_type": "stream",
          "text": [
            "KNeighborsClassifier(n_neighbors=3, weights=distance) 0.392, 0.429\n",
            "KNeighborsClassifier(n_neighbors=15, weights=distance) 0.475, 0.286\n",
            "KNeighborsClassifier(n_neighbors=1, weights=uniform) 0.433, 0.429\n",
            "KNeighborsClassifier(n_neighbors=3, weights=uniform) 0.392, 0.429\n",
            "KNeighborsClassifier(n_neighbors=7, weights=uniform) 0.242, 0.429\n",
            "KNeighborsClassifier(n_neighbors=15, weights=uniform) 0.375, 0.429 **\n"
          ],
          "name": "stdout"
        }
      ]
    },
    {
      "cell_type": "markdown",
      "metadata": {
        "id": "Z3SgkjX8Wpck"
      },
      "source": [
        "# [Random Forest](https://scikit-learn.org/stable/modules/ensemble.html#forests-of-randomized-trees)\n",
        "\n",
        "TODO"
      ]
    },
    {
      "cell_type": "markdown",
      "metadata": {
        "id": "6d3T5PaZWXz4"
      },
      "source": [
        "# [Stochastic Gradient Descent](https://scikit-learn.org/stable/modules/sgd.html)\n",
        "\n",
        "Requires a lot of data (>100k)"
      ]
    },
    {
      "cell_type": "markdown",
      "metadata": {
        "id": "Qr9d6t-UW18b"
      },
      "source": [
        "# [Support Vector Machine](https://scikit-learn.org/stable/modules/svm.html)\n",
        "\n",
        "## Summary\n",
        "\n",
        "- Higher polynomial is better.\n",
        "- Lower C is better for RBF.\n",
        "- Linear doesn't work very well.\n",
        "- Top performers:\n",
        "  1. SVC(C=10.0, gamma=0.63, kernel=rbf)\n",
        "  2. SVC(C=4.0, gamma=1.0, kernel=rbf)\n",
        "  3. SVC(C=10.0, gamma=1.22, kernel=rbf)\n",
        "  4. SVC(degree=10, kernel=poly)\n",
        "  5. SVC(kernel=sigmoid)"
      ]
    },
    {
      "cell_type": "code",
      "metadata": {
        "colab": {
          "base_uri": "https://localhost:8080/"
        },
        "id": "5q_ufoDQZj7w",
        "outputId": "90ad2097-723b-49a7-d4a2-3ec88519e845"
      },
      "source": [
        "# SVC: https://scikit-learn.org/stable/modules/generated/sklearn.svm.SVC.html\n",
        "from sklearn.svm import SVC\n",
        "\n",
        "# Linear\n",
        "train(SVC, kernel='linear')\n",
        "\n",
        "# Polynomial\n",
        "train(SVC, degree=3, kernel='poly')\n",
        "train(SVC, degree=10, kernel='poly', highlight=True)\n",
        "train(SVC, degree=20, kernel='poly')\n",
        "\n",
        "# Radial basis function\n",
        "train(SVC, C=0.01, kernel='rbf')\n",
        "train(SVC, C=0.1, kernel='rbf')\n",
        "train(SVC, C=0.1, gamma=0.1, kernel='rbf')\n",
        "train(SVC, C=0.1, gamma=1.0, kernel='rbf')\n",
        "train(SVC, C=0.1, gamma=10.0, kernel='rbf')\n",
        "train(SVC, C=1.0, kernel='rbf')\n",
        "train(SVC, C=4.0, kernel='rbf')\n",
        "train(SVC, C=4.0, gamma=0.1, kernel='rbf')\n",
        "train(SVC, C=4.0, gamma=0.11, kernel='rbf', highlight=True)\n",
        "train(SVC, C=4.0, gamma=0.12, kernel='rbf')\n",
        "train(SVC, C=4.0, gamma=0.15, kernel='rbf')\n",
        "train(SVC, C=4.0, gamma=0.2, kernel='rbf')\n",
        "train(SVC, C=4.0, gamma=0.5, kernel='rbf')\n",
        "train(SVC, C=4.0, gamma=1.0, kernel='rbf', highlight=True)\n",
        "train(SVC, C=4.0, gamma=2.0, kernel='rbf')\n",
        "train(SVC, C=4.0, gamma=3.0, kernel='rbf')\n",
        "train(SVC, C=4.0, gamma=4.0, kernel='rbf', highlight=True)\n",
        "train(SVC, C=4.0, gamma=5.0, kernel='rbf')\n",
        "train(SVC, C=4.0, gamma=10.0, kernel='rbf')\n",
        "train(SVC, C=5.0, kernel='rbf')\n",
        "train(SVC, C=8.0, kernel='rbf')\n",
        "train(SVC, C=10.0, kernel='rbf')\n",
        "train(SVC, C=10.0, gamma=0.1, kernel='rbf')\n",
        "train(SVC, C=10.0, gamma=0.63, kernel='rbf', highlight=True)\n",
        "train(SVC, C=10.0, gamma=1.0, kernel='rbf')\n",
        "train(SVC, C=10.0, gamma=1.22, kernel='rbf', highlight=True)\n",
        "train(SVC, C=10.0, gamma=4.0, kernel='rbf', highlight=True)\n",
        "train(SVC, C=10.0, gamma=10.0, kernel='rbf')\n",
        "\n",
        "# Sigmoid\n",
        "train(SVC, kernel='sigmoid', highlight=True)\n"
      ],
      "execution_count": 40,
      "outputs": [
        {
          "output_type": "stream",
          "text": [
            "SVC(kernel=linear)...................... 0.683, 0.429\n",
            "SVC(degree=3, kernel=poly).............. 0.333, 0.143\n",
            "SVC(degree=10, kernel=poly)............. 0.475, 0.143 **\n",
            "SVC(degree=20, kernel=poly)............. 0.475, 0.143\n",
            "SVC(C=0.01, kernel=rbf)................. 0.475, 0.143\n",
            "SVC(C=0.1, kernel=rbf).................. 0.475, 0.143\n",
            "SVC(C=0.1, gamma=0.1, kernel=rbf)....... 0.425, 0.143\n",
            "SVC(C=0.1, gamma=1.0, kernel=rbf)....... 0.525, 0.143\n",
            "SVC(C=0.1, gamma=10.0, kernel=rbf)...... 0.525, 0.143\n",
            "SVC(C=1.0, kernel=rbf).................. 0.342, 0.286\n",
            "SVC(C=4.0, kernel=rbf).................. 0.483, 0.429\n",
            "SVC(C=4.0, gamma=0.1, kernel=rbf)....... 0.392, 0.429\n",
            "SVC(C=4.0, gamma=0.11, kernel=rbf)...... 0.442, 0.429 **\n",
            "SVC(C=4.0, gamma=0.12, kernel=rbf)...... 0.483, 0.429\n",
            "SVC(C=4.0, gamma=0.15, kernel=rbf)...... 0.533, 0.429\n",
            "SVC(C=4.0, gamma=0.2, kernel=rbf)....... 0.533, 0.571\n",
            "SVC(C=4.0, gamma=0.5, kernel=rbf)....... 0.625, 0.571\n",
            "SVC(C=4.0, gamma=1.0, kernel=rbf)....... 0.575, 0.571 **\n",
            "SVC(C=4.0, gamma=2.0, kernel=rbf)....... 0.625, 0.143\n",
            "SVC(C=4.0, gamma=3.0, kernel=rbf)....... 0.525, 0.143\n",
            "SVC(C=4.0, gamma=4.0, kernel=rbf)....... 0.525, 0.143 **\n",
            "SVC(C=4.0, gamma=5.0, kernel=rbf)....... 0.525, 0.143\n",
            "SVC(C=4.0, gamma=10.0, kernel=rbf)...... 0.525, 0.143\n",
            "SVC(C=5.0, kernel=rbf).................. 0.533, 0.429\n",
            "SVC(C=8.0, kernel=rbf).................. 0.533, 0.429\n",
            "SVC(C=10.0, kernel=rbf)................. 0.533, 0.429\n",
            "SVC(C=10.0, gamma=0.1, kernel=rbf)...... 0.492, 0.429\n",
            "SVC(C=10.0, gamma=0.63, kernel=rbf)..... 0.625, 0.571 **\n",
            "SVC(C=10.0, gamma=1.0, kernel=rbf)...... 0.575, 0.571\n",
            "SVC(C=10.0, gamma=1.22, kernel=rbf)..... 0.583, 0.286 **\n",
            "SVC(C=10.0, gamma=4.0, kernel=rbf)...... 0.525, 0.143 **\n",
            "SVC(C=10.0, gamma=10.0, kernel=rbf)..... 0.525, 0.143\n",
            "SVC(kernel=sigmoid)..................... 0.242, 0.143 **\n"
          ],
          "name": "stdout"
        }
      ]
    },
    {
      "cell_type": "markdown",
      "metadata": {
        "id": "6g0aUDTMOZiP"
      },
      "source": [
        "# [SVC Parameter Tuning](https://scikit-learn.org/stable/auto_examples/model_selection/plot_grid_search_digits.html)\n",
        "\n",
        "Some [scoring functions](https://scikit-learn.org/stable/modules/model_evaluation.html#scoring-parameter) explained:\n",
        "\n",
        "- [Accuracy](https://scikit-learn.org/stable/modules/generated/sklearn.metrics.accuracy_score.html)\n",
        "- [Average precision](https://scikit-learn.org/stable/modules/generated/sklearn.metrics.average_precision_score.html)\n",
        "- [Recall](https://scikit-learn.org/stable/modules/generated/sklearn.metrics.recall_score.html)\n",
        "\n",
        "Glossary:\n",
        "\n",
        "- [Precision](https://developers.google.com/machine-learning/glossary#precision): rate at which model is correct (kind of like \"engineering precision\").\n",
        "- [Recall](https://developers.google.com/machine-learning/glossary#recall): rate at which model can make successful predictions (kind of like \"engineering accuracy\")."
      ]
    },
    {
      "cell_type": "code",
      "metadata": {
        "colab": {
          "base_uri": "https://localhost:8080/"
        },
        "id": "3cfFMXKmOl_d",
        "outputId": "2ddd5def-405c-4e1e-e572-208a018aa39e"
      },
      "source": [
        "from sklearn.metrics import classification_report\n",
        "from sklearn.model_selection import GridSearchCV\n",
        "\n",
        "parameters = [\n",
        "  {\n",
        "    'C': range(4, 31),\n",
        "    'gamma': list(map(lambda g: g / 100, list(range(10, 1001)))),\n",
        "    'kernel': ['rbf'],\n",
        "  }\n",
        "]\n",
        "\n",
        "score_fns = [\n",
        "  # 'accuracy',\n",
        "  'recall_macro',\n",
        "]\n",
        "\n",
        "for score_fn in score_fns:\n",
        "    print(f'Tuning hyper-parameters for {score_fn}...')\n",
        "    print()\n",
        "\n",
        "    model = GridSearchCV(SVC(), parameters, scoring=score_fn)\n",
        "    model.fit(X_train, y_train)\n",
        "\n",
        "    print(f'Best parameters set for {score_fn}')\n",
        "    print()\n",
        "    print(model.best_params_)\n",
        "    print()\n",
        "    # print(\"Grid scores on development set:\")\n",
        "    # print()\n",
        "    # means = model.cv_results_['mean_test_score']\n",
        "    # stds = model.cv_results_['std_test_score']\n",
        "    # for mean, std, params in zip(means, stds, model.cv_results_['params']):\n",
        "    #     print(\"%0.3f (+/-%0.03f) for %r\" % (mean, std * 2, params))\n",
        "    # print()\n",
        "\n",
        "    print('Detailed classification report:')\n",
        "    print()\n",
        "  \n",
        "    y_true, y_pred = y_test, model.predict(X_test)\n",
        "    print(classification_report(y_true, y_pred))\n",
        "    print()"
      ],
      "execution_count": 41,
      "outputs": [
        {
          "output_type": "stream",
          "text": [
            "Tuning hyper-parameters for recall_macro...\n",
            "\n",
            "Best parameters set for recall_macro\n",
            "\n",
            "{'C': 4, 'gamma': 1.21, 'kernel': 'rbf'}\n",
            "\n",
            "Detailed classification report:\n",
            "\n",
            "              precision    recall  f1-score   support\n",
            "\n",
            "           0       0.17      1.00      0.29         1\n",
            "           1       1.00      0.17      0.29         6\n",
            "\n",
            "    accuracy                           0.29         7\n",
            "   macro avg       0.58      0.58      0.29         7\n",
            "weighted avg       0.88      0.29      0.29         7\n",
            "\n",
            "\n"
          ],
          "name": "stdout"
        }
      ]
    }
  ]
}